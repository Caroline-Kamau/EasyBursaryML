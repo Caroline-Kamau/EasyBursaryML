{
 "cells": [
  {
   "cell_type": "code",
   "execution_count": 1,
   "metadata": {},
   "outputs": [
    {
     "name": "stdout",
     "output_type": "stream",
     "text": [
      "Requirement already satisfied: tpot in /home/caroline/anaconda3/lib/python3.7/site-packages (0.11.0)\n",
      "Requirement already satisfied: stopit>=1.1.1 in /home/caroline/anaconda3/lib/python3.7/site-packages (from tpot) (1.1.2)\n",
      "Requirement already satisfied: deap>=1.2 in /home/caroline/anaconda3/lib/python3.7/site-packages (from tpot) (1.3.0)\n",
      "Requirement already satisfied: numpy>=1.16.3 in /home/caroline/anaconda3/lib/python3.7/site-packages (from tpot) (1.17.4)\n",
      "Requirement already satisfied: scikit-learn>=0.21.0 in /home/caroline/anaconda3/lib/python3.7/site-packages (from tpot) (0.21.3)\n",
      "Requirement already satisfied: scipy>=1.3.1 in /home/caroline/anaconda3/lib/python3.7/site-packages (from tpot) (1.3.2)\n",
      "Requirement already satisfied: pandas>=0.24.2 in /home/caroline/anaconda3/lib/python3.7/site-packages (from tpot) (0.24.2)\n",
      "Requirement already satisfied: joblib>=0.13.2 in /home/caroline/anaconda3/lib/python3.7/site-packages (from tpot) (0.14.0)\n",
      "Requirement already satisfied: tqdm>=4.36.1 in /home/caroline/anaconda3/lib/python3.7/site-packages (from tpot) (4.38.0)\n",
      "Requirement already satisfied: update-checker>=0.16 in /home/caroline/anaconda3/lib/python3.7/site-packages (from tpot) (0.16)\n",
      "Requirement already satisfied: python-dateutil>=2.5.0 in /home/caroline/anaconda3/lib/python3.7/site-packages (from pandas>=0.24.2->tpot) (2.6.0)\n",
      "Requirement already satisfied: pytz>=2011k in /home/caroline/anaconda3/lib/python3.7/site-packages (from pandas>=0.24.2->tpot) (2017.2)\n",
      "Requirement already satisfied: requests>=2.3.0 in /home/caroline/anaconda3/lib/python3.7/site-packages (from update-checker>=0.16->tpot) (2.21.0)\n",
      "Requirement already satisfied: six>=1.5 in /home/caroline/anaconda3/lib/python3.7/site-packages (from python-dateutil>=2.5.0->pandas>=0.24.2->tpot) (1.12.0)\n",
      "Requirement already satisfied: certifi>=2017.4.17 in /home/caroline/anaconda3/lib/python3.7/site-packages (from requests>=2.3.0->update-checker>=0.16->tpot) (2019.9.11)\n",
      "Requirement already satisfied: urllib3<1.25,>=1.21.1 in /home/caroline/anaconda3/lib/python3.7/site-packages (from requests>=2.3.0->update-checker>=0.16->tpot) (1.24.1)\n",
      "Requirement already satisfied: chardet<3.1.0,>=3.0.2 in /home/caroline/anaconda3/lib/python3.7/site-packages (from requests>=2.3.0->update-checker>=0.16->tpot) (3.0.4)\n",
      "Requirement already satisfied: idna<2.9,>=2.5 in /home/caroline/anaconda3/lib/python3.7/site-packages (from requests>=2.3.0->update-checker>=0.16->tpot) (2.8)\n",
      "Note: you may need to restart the kernel to use updated packages.\n"
     ]
    }
   ],
   "source": [
    "pip install tpot\n"
   ]
  },
  {
   "cell_type": "code",
   "execution_count": 2,
   "metadata": {},
   "outputs": [],
   "source": [
    "from tpot import TPOTClassifier\n"
   ]
  },
  {
   "cell_type": "code",
   "execution_count": 3,
   "metadata": {},
   "outputs": [],
   "source": [
    "# Is project\n"
   ]
  },
  {
   "cell_type": "code",
   "execution_count": 4,
   "metadata": {},
   "outputs": [
    {
     "name": "stderr",
     "output_type": "stream",
     "text": [
      "Using TensorFlow backend.\n",
      "/home/caroline/anaconda3/lib/python3.7/site-packages/tensorflow/python/framework/dtypes.py:516: FutureWarning: Passing (type, 1) or '1type' as a synonym of type is deprecated; in a future version of numpy, it will be understood as (type, (1,)) / '(1,)type'.\n",
      "  _np_qint8 = np.dtype([(\"qint8\", np.int8, 1)])\n",
      "/home/caroline/anaconda3/lib/python3.7/site-packages/tensorflow/python/framework/dtypes.py:517: FutureWarning: Passing (type, 1) or '1type' as a synonym of type is deprecated; in a future version of numpy, it will be understood as (type, (1,)) / '(1,)type'.\n",
      "  _np_quint8 = np.dtype([(\"quint8\", np.uint8, 1)])\n",
      "/home/caroline/anaconda3/lib/python3.7/site-packages/tensorflow/python/framework/dtypes.py:518: FutureWarning: Passing (type, 1) or '1type' as a synonym of type is deprecated; in a future version of numpy, it will be understood as (type, (1,)) / '(1,)type'.\n",
      "  _np_qint16 = np.dtype([(\"qint16\", np.int16, 1)])\n",
      "/home/caroline/anaconda3/lib/python3.7/site-packages/tensorflow/python/framework/dtypes.py:519: FutureWarning: Passing (type, 1) or '1type' as a synonym of type is deprecated; in a future version of numpy, it will be understood as (type, (1,)) / '(1,)type'.\n",
      "  _np_quint16 = np.dtype([(\"quint16\", np.uint16, 1)])\n",
      "/home/caroline/anaconda3/lib/python3.7/site-packages/tensorflow/python/framework/dtypes.py:520: FutureWarning: Passing (type, 1) or '1type' as a synonym of type is deprecated; in a future version of numpy, it will be understood as (type, (1,)) / '(1,)type'.\n",
      "  _np_qint32 = np.dtype([(\"qint32\", np.int32, 1)])\n",
      "/home/caroline/anaconda3/lib/python3.7/site-packages/tensorflow/python/framework/dtypes.py:525: FutureWarning: Passing (type, 1) or '1type' as a synonym of type is deprecated; in a future version of numpy, it will be understood as (type, (1,)) / '(1,)type'.\n",
      "  np_resource = np.dtype([(\"resource\", np.ubyte, 1)])\n",
      "/home/caroline/anaconda3/lib/python3.7/site-packages/tensorboard/compat/tensorflow_stub/dtypes.py:541: FutureWarning: Passing (type, 1) or '1type' as a synonym of type is deprecated; in a future version of numpy, it will be understood as (type, (1,)) / '(1,)type'.\n",
      "  _np_qint8 = np.dtype([(\"qint8\", np.int8, 1)])\n",
      "/home/caroline/anaconda3/lib/python3.7/site-packages/tensorboard/compat/tensorflow_stub/dtypes.py:542: FutureWarning: Passing (type, 1) or '1type' as a synonym of type is deprecated; in a future version of numpy, it will be understood as (type, (1,)) / '(1,)type'.\n",
      "  _np_quint8 = np.dtype([(\"quint8\", np.uint8, 1)])\n",
      "/home/caroline/anaconda3/lib/python3.7/site-packages/tensorboard/compat/tensorflow_stub/dtypes.py:543: FutureWarning: Passing (type, 1) or '1type' as a synonym of type is deprecated; in a future version of numpy, it will be understood as (type, (1,)) / '(1,)type'.\n",
      "  _np_qint16 = np.dtype([(\"qint16\", np.int16, 1)])\n",
      "/home/caroline/anaconda3/lib/python3.7/site-packages/tensorboard/compat/tensorflow_stub/dtypes.py:544: FutureWarning: Passing (type, 1) or '1type' as a synonym of type is deprecated; in a future version of numpy, it will be understood as (type, (1,)) / '(1,)type'.\n",
      "  _np_quint16 = np.dtype([(\"quint16\", np.uint16, 1)])\n",
      "/home/caroline/anaconda3/lib/python3.7/site-packages/tensorboard/compat/tensorflow_stub/dtypes.py:545: FutureWarning: Passing (type, 1) or '1type' as a synonym of type is deprecated; in a future version of numpy, it will be understood as (type, (1,)) / '(1,)type'.\n",
      "  _np_qint32 = np.dtype([(\"qint32\", np.int32, 1)])\n",
      "/home/caroline/anaconda3/lib/python3.7/site-packages/tensorboard/compat/tensorflow_stub/dtypes.py:550: FutureWarning: Passing (type, 1) or '1type' as a synonym of type is deprecated; in a future version of numpy, it will be understood as (type, (1,)) / '(1,)type'.\n",
      "  np_resource = np.dtype([(\"resource\", np.ubyte, 1)])\n"
     ]
    }
   ],
   "source": [
    "#imports\n",
    "import pandas as pd\n",
    "import numpy as np\n",
    "from sklearn.preprocessing import LabelEncoder\n",
    "import seaborn as sns\n",
    "import matplotlib.pyplot as plt\n",
    "%matplotlib inline\n",
    "from keras.models import Sequential\n",
    "from keras.layers import Dense\n",
    "from sklearn.model_selection import KFold\n",
    "from sklearn.model_selection import StratifiedKFold\n",
    "\n"
   ]
  },
  {
   "cell_type": "markdown",
   "metadata": {},
   "source": [
    "# Feature Engineering"
   ]
  },
  {
   "cell_type": "code",
   "execution_count": 5,
   "metadata": {},
   "outputs": [],
   "source": [
    "data = pd.read_csv('data.csv')"
   ]
  },
  {
   "cell_type": "code",
   "execution_count": 6,
   "metadata": {},
   "outputs": [
    {
     "data": {
      "text/html": [
       "<div>\n",
       "<style scoped>\n",
       "    .dataframe tbody tr th:only-of-type {\n",
       "        vertical-align: middle;\n",
       "    }\n",
       "\n",
       "    .dataframe tbody tr th {\n",
       "        vertical-align: top;\n",
       "    }\n",
       "\n",
       "    .dataframe thead th {\n",
       "        text-align: right;\n",
       "    }\n",
       "</style>\n",
       "<table border=\"1\" class=\"dataframe\">\n",
       "  <thead>\n",
       "    <tr style=\"text-align: right;\">\n",
       "      <th></th>\n",
       "      <th>Courses</th>\n",
       "      <th>Grade</th>\n",
       "      <th>Year</th>\n",
       "      <th>SchoolCategory</th>\n",
       "      <th>FeesPer Year</th>\n",
       "      <th>FeeBalance</th>\n",
       "      <th>PaymentMode</th>\n",
       "      <th>MotherAlive</th>\n",
       "      <th>FatherAlive</th>\n",
       "      <th>FatherEmployment</th>\n",
       "      <th>MothersEmployment</th>\n",
       "      <th>Guardian</th>\n",
       "      <th>GuardianEmployment</th>\n",
       "      <th>FatherFinancialIncome</th>\n",
       "      <th>MotherFinancialIncome</th>\n",
       "      <th>Amount</th>\n",
       "      <th>Siblings</th>\n",
       "      <th>SiblingsFees</th>\n",
       "      <th>Awarded</th>\n",
       "    </tr>\n",
       "  </thead>\n",
       "  <tbody>\n",
       "    <tr>\n",
       "      <th>0</th>\n",
       "      <td>BAIS</td>\n",
       "      <td>A</td>\n",
       "      <td>2014</td>\n",
       "      <td>private</td>\n",
       "      <td>134200</td>\n",
       "      <td>0.0</td>\n",
       "      <td>Parent</td>\n",
       "      <td>1.0</td>\n",
       "      <td>1.0</td>\n",
       "      <td>unemployed</td>\n",
       "      <td>employed</td>\n",
       "      <td>none</td>\n",
       "      <td>no</td>\n",
       "      <td>0.0</td>\n",
       "      <td>152000</td>\n",
       "      <td>NaN</td>\n",
       "      <td>2</td>\n",
       "      <td>134272.0</td>\n",
       "      <td>no</td>\n",
       "    </tr>\n",
       "    <tr>\n",
       "      <th>1</th>\n",
       "      <td>BAC</td>\n",
       "      <td>B+</td>\n",
       "      <td>2015</td>\n",
       "      <td>private</td>\n",
       "      <td>90000</td>\n",
       "      <td>0.0</td>\n",
       "      <td>Parent</td>\n",
       "      <td>1.0</td>\n",
       "      <td>1.0</td>\n",
       "      <td>self employed</td>\n",
       "      <td>employed</td>\n",
       "      <td>none</td>\n",
       "      <td>no</td>\n",
       "      <td>130000.0</td>\n",
       "      <td>152000</td>\n",
       "      <td>130000.0</td>\n",
       "      <td>7</td>\n",
       "      <td>NaN</td>\n",
       "      <td>no</td>\n",
       "    </tr>\n",
       "    <tr>\n",
       "      <th>2</th>\n",
       "      <td>BAC</td>\n",
       "      <td>B</td>\n",
       "      <td>2017</td>\n",
       "      <td>ExtraCounty</td>\n",
       "      <td>53000</td>\n",
       "      <td>0.0</td>\n",
       "      <td>Guardian</td>\n",
       "      <td>0.0</td>\n",
       "      <td>0.0</td>\n",
       "      <td>deceased</td>\n",
       "      <td>deceased</td>\n",
       "      <td>brother</td>\n",
       "      <td>employed</td>\n",
       "      <td>0.0</td>\n",
       "      <td>0</td>\n",
       "      <td>50000.0</td>\n",
       "      <td>NaN</td>\n",
       "      <td>NaN</td>\n",
       "      <td>no</td>\n",
       "    </tr>\n",
       "    <tr>\n",
       "      <th>3</th>\n",
       "      <td>BAC</td>\n",
       "      <td>C+</td>\n",
       "      <td>2016</td>\n",
       "      <td>private</td>\n",
       "      <td>89186</td>\n",
       "      <td>0.0</td>\n",
       "      <td>Scholarship</td>\n",
       "      <td>1.0</td>\n",
       "      <td>1.0</td>\n",
       "      <td>self employed</td>\n",
       "      <td>unemployed</td>\n",
       "      <td>none</td>\n",
       "      <td>self employed</td>\n",
       "      <td>130000.0</td>\n",
       "      <td>25000</td>\n",
       "      <td>0.0</td>\n",
       "      <td>2</td>\n",
       "      <td>NaN</td>\n",
       "      <td>no</td>\n",
       "    </tr>\n",
       "    <tr>\n",
       "      <th>4</th>\n",
       "      <td>BAIS</td>\n",
       "      <td>C+</td>\n",
       "      <td>2016</td>\n",
       "      <td>ExtraCounty</td>\n",
       "      <td>58000</td>\n",
       "      <td>166294.0</td>\n",
       "      <td>Parent</td>\n",
       "      <td>1.0</td>\n",
       "      <td>0.0</td>\n",
       "      <td>deceased</td>\n",
       "      <td>employed</td>\n",
       "      <td>none</td>\n",
       "      <td>no</td>\n",
       "      <td>0.0</td>\n",
       "      <td>40000</td>\n",
       "      <td>60000.0</td>\n",
       "      <td>no</td>\n",
       "      <td>NaN</td>\n",
       "      <td>no</td>\n",
       "    </tr>\n",
       "  </tbody>\n",
       "</table>\n",
       "</div>"
      ],
      "text/plain": [
       "  Courses Grade  Year SchoolCategory  FeesPer Year  FeeBalance  PaymentMode  \\\n",
       "0    BAIS     A  2014        private        134200         0.0       Parent   \n",
       "1     BAC    B+  2015        private         90000         0.0       Parent   \n",
       "2     BAC     B  2017    ExtraCounty         53000         0.0     Guardian   \n",
       "3     BAC    C+  2016        private         89186         0.0  Scholarship   \n",
       "4    BAIS    C+  2016    ExtraCounty         58000    166294.0       Parent   \n",
       "\n",
       "   MotherAlive  FatherAlive FatherEmployment MothersEmployment Guardian  \\\n",
       "0          1.0          1.0       unemployed          employed     none   \n",
       "1          1.0          1.0    self employed          employed     none   \n",
       "2          0.0          0.0         deceased          deceased  brother   \n",
       "3          1.0          1.0    self employed        unemployed     none   \n",
       "4          1.0          0.0         deceased          employed     none   \n",
       "\n",
       "  GuardianEmployment  FatherFinancialIncome  MotherFinancialIncome    Amount  \\\n",
       "0                 no                    0.0                 152000       NaN   \n",
       "1                 no               130000.0                 152000  130000.0   \n",
       "2           employed                    0.0                      0   50000.0   \n",
       "3      self employed               130000.0                  25000       0.0   \n",
       "4                 no                    0.0                  40000   60000.0   \n",
       "\n",
       "  Siblings  SiblingsFees Awarded  \n",
       "0        2      134272.0      no  \n",
       "1        7           NaN      no  \n",
       "2      NaN           NaN      no  \n",
       "3        2           NaN      no  \n",
       "4       no           NaN      no  "
      ]
     },
     "execution_count": 6,
     "metadata": {},
     "output_type": "execute_result"
    }
   ],
   "source": [
    "data.head()"
   ]
  },
  {
   "cell_type": "code",
   "execution_count": 7,
   "metadata": {},
   "outputs": [
    {
     "data": {
      "text/plain": [
       "Courses                   object\n",
       "Grade                     object\n",
       "Year                       int64\n",
       "SchoolCategory            object\n",
       "FeesPer Year               int64\n",
       "FeeBalance               float64\n",
       "PaymentMode               object\n",
       "MotherAlive              float64\n",
       "FatherAlive              float64\n",
       "FatherEmployment          object\n",
       "MothersEmployment         object\n",
       "Guardian                  object\n",
       "GuardianEmployment        object\n",
       "FatherFinancialIncome    float64\n",
       "MotherFinancialIncome      int64\n",
       "Amount                   float64\n",
       "Siblings                  object\n",
       "SiblingsFees             float64\n",
       "Awarded                   object\n",
       "dtype: object"
      ]
     },
     "execution_count": 7,
     "metadata": {},
     "output_type": "execute_result"
    }
   ],
   "source": [
    "data.dtypes"
   ]
  },
  {
   "cell_type": "code",
   "execution_count": 8,
   "metadata": {},
   "outputs": [
    {
     "data": {
      "text/plain": [
       "Courses                   0\n",
       "Grade                     1\n",
       "Year                      0\n",
       "SchoolCategory           11\n",
       "FeesPer Year              0\n",
       "FeeBalance                1\n",
       "PaymentMode               7\n",
       "MotherAlive              14\n",
       "FatherAlive              20\n",
       "FatherEmployment         21\n",
       "MothersEmployment        11\n",
       "Guardian                  2\n",
       "GuardianEmployment        3\n",
       "FatherFinancialIncome     3\n",
       "MotherFinancialIncome     0\n",
       "Amount                   23\n",
       "Siblings                 23\n",
       "SiblingsFees             63\n",
       "Awarded                   0\n",
       "dtype: int64"
      ]
     },
     "execution_count": 8,
     "metadata": {},
     "output_type": "execute_result"
    }
   ],
   "source": [
    "data.isnull().sum()"
   ]
  },
  {
   "cell_type": "markdown",
   "metadata": {},
   "source": [
    "### Null values"
   ]
  },
  {
   "cell_type": "markdown",
   "metadata": {},
   "source": [
    "#### Grade column"
   ]
  },
  {
   "cell_type": "code",
   "execution_count": 9,
   "metadata": {},
   "outputs": [],
   "source": [
    "data['Grade'].fillna('B' ,inplace=True)\n"
   ]
  },
  {
   "cell_type": "code",
   "execution_count": 10,
   "metadata": {},
   "outputs": [
    {
     "data": {
      "text/plain": [
       "B     61\n",
       "C+    30\n",
       "B+    14\n",
       "A     12\n",
       "C      6\n",
       "D+     1\n",
       "Name: Grade, dtype: int64"
      ]
     },
     "execution_count": 10,
     "metadata": {},
     "output_type": "execute_result"
    }
   ],
   "source": [
    "data['Grade'].value_counts()"
   ]
  },
  {
   "cell_type": "markdown",
   "metadata": {},
   "source": [
    "#### School category"
   ]
  },
  {
   "cell_type": "code",
   "execution_count": 11,
   "metadata": {},
   "outputs": [
    {
     "data": {
      "text/plain": [
       "private        47\n",
       "county         30\n",
       "ExtraCounty    19\n",
       "national       12\n",
       "other           5\n",
       "Name: SchoolCategory, dtype: int64"
      ]
     },
     "execution_count": 11,
     "metadata": {},
     "output_type": "execute_result"
    }
   ],
   "source": [
    "data['SchoolCategory'].value_counts()"
   ]
  },
  {
   "cell_type": "code",
   "execution_count": 12,
   "metadata": {},
   "outputs": [],
   "source": [
    "data['SchoolCategory'].fillna('private', inplace=True)"
   ]
  },
  {
   "cell_type": "markdown",
   "metadata": {},
   "source": [
    "#### Mother Alive"
   ]
  },
  {
   "cell_type": "code",
   "execution_count": 13,
   "metadata": {},
   "outputs": [],
   "source": [
    "data['MotherAlive'] = np.where((data['MothersEmployment'].notna()), #1 means alive\n",
    "                                   1,data['MotherAlive'])\n"
   ]
  },
  {
   "cell_type": "code",
   "execution_count": 14,
   "metadata": {},
   "outputs": [],
   "source": [
    "data['MotherAlive'] = np.where(data['MothersEmployment']==\"deceased\", #0 means deceased\n",
    "                                   0,data['MotherAlive'])\n"
   ]
  },
  {
   "cell_type": "code",
   "execution_count": 15,
   "metadata": {},
   "outputs": [],
   "source": [
    "data['MotherAlive'].fillna(2, inplace=True) #2 means it was left blank"
   ]
  },
  {
   "cell_type": "markdown",
   "metadata": {},
   "source": [
    "#### Father Alive"
   ]
  },
  {
   "cell_type": "code",
   "execution_count": 16,
   "metadata": {},
   "outputs": [],
   "source": [
    "data['FatherAlive'] = np.where((data['FatherEmployment'].notna()),  #1 means alive\n",
    "                                   1,data['FatherAlive'])\n"
   ]
  },
  {
   "cell_type": "code",
   "execution_count": 17,
   "metadata": {},
   "outputs": [],
   "source": [
    "data['FatherAlive'] = np.where(data['FatherEmployment']==\"deceased\",  #0 means deceased\n",
    "                                   0,data['FatherAlive'])\n"
   ]
  },
  {
   "cell_type": "code",
   "execution_count": 18,
   "metadata": {},
   "outputs": [],
   "source": [
    "data['FatherAlive'].fillna(2, inplace=True) #2 means it was left blank"
   ]
  },
  {
   "cell_type": "markdown",
   "metadata": {},
   "source": [
    "#### fee balance"
   ]
  },
  {
   "cell_type": "code",
   "execution_count": 19,
   "metadata": {},
   "outputs": [],
   "source": [
    "data['FeeBalance'].fillna(0, inplace=True)"
   ]
  },
  {
   "cell_type": "markdown",
   "metadata": {},
   "source": [
    "#### siblings"
   ]
  },
  {
   "cell_type": "code",
   "execution_count": 20,
   "metadata": {},
   "outputs": [],
   "source": [
    "data['Siblings'] = np.where((data['SiblingsFees'].isnull()),\n",
    "                                   0,data['Siblings'])\n"
   ]
  },
  {
   "cell_type": "code",
   "execution_count": 21,
   "metadata": {},
   "outputs": [],
   "source": [
    "smode_filler = data['Siblings'].mode()"
   ]
  },
  {
   "cell_type": "code",
   "execution_count": 22,
   "metadata": {},
   "outputs": [],
   "source": [
    "data['Siblings'].fillna(smode_filler, inplace=True)"
   ]
  },
  {
   "cell_type": "code",
   "execution_count": 23,
   "metadata": {},
   "outputs": [],
   "source": [
    "data['Siblings'].fillna(0, inplace= True)"
   ]
  },
  {
   "cell_type": "markdown",
   "metadata": {},
   "source": [
    "#### siblings fees"
   ]
  },
  {
   "cell_type": "code",
   "execution_count": 24,
   "metadata": {},
   "outputs": [],
   "source": [
    "data['SiblingsFees'] = np.where(data['Siblings']==0,\n",
    "                                   0,data['SiblingsFees'])\n"
   ]
  },
  {
   "cell_type": "markdown",
   "metadata": {},
   "source": [
    "#### Payment  Mode"
   ]
  },
  {
   "cell_type": "code",
   "execution_count": 25,
   "metadata": {},
   "outputs": [
    {
     "data": {
      "text/plain": [
       "Parent                    61\n",
       "Scholarship               31\n",
       "Guardian                  16\n",
       "relative                   3\n",
       "Parent and Scholarship     3\n",
       "wellwisher                 2\n",
       "fundraising                1\n",
       "Name: PaymentMode, dtype: int64"
      ]
     },
     "execution_count": 25,
     "metadata": {},
     "output_type": "execute_result"
    }
   ],
   "source": [
    "data['PaymentMode'].value_counts()"
   ]
  },
  {
   "cell_type": "code",
   "execution_count": 26,
   "metadata": {},
   "outputs": [],
   "source": [
    "data['PaymentMode'].fillna('Parent', inplace=True)"
   ]
  },
  {
   "cell_type": "markdown",
   "metadata": {},
   "source": [
    "#### Father Employment Status"
   ]
  },
  {
   "cell_type": "code",
   "execution_count": 27,
   "metadata": {},
   "outputs": [
    {
     "data": {
      "text/plain": [
       "employed         30\n",
       "deceased         29\n",
       "self employed    23\n",
       "unemployed        9\n",
       "retired           5\n",
       "casual worker     4\n",
       "blank             3\n",
       "Name: FatherEmployment, dtype: int64"
      ]
     },
     "execution_count": 27,
     "metadata": {},
     "output_type": "execute_result"
    }
   ],
   "source": [
    "data['FatherEmployment'].value_counts()"
   ]
  },
  {
   "cell_type": "code",
   "execution_count": 28,
   "metadata": {},
   "outputs": [],
   "source": [
    "data['FatherEmployment'] = np.where(data['FatherAlive']==0,  #0 means deceased\n",
    "                                   \"blank\",data['FatherEmployment'])"
   ]
  },
  {
   "cell_type": "code",
   "execution_count": 29,
   "metadata": {},
   "outputs": [],
   "source": [
    "data['FatherEmployment'] = np.where(data['FatherAlive']==2,  #2 means fatherAlive was left blank\n",
    "                                   \"blank\",data['FatherEmployment'])"
   ]
  },
  {
   "cell_type": "code",
   "execution_count": 30,
   "metadata": {},
   "outputs": [],
   "source": [
    "data['FatherEmployment'].fillna('employed', inplace = True)"
   ]
  },
  {
   "cell_type": "markdown",
   "metadata": {},
   "source": [
    "#### Mother Employment Status"
   ]
  },
  {
   "cell_type": "code",
   "execution_count": 31,
   "metadata": {},
   "outputs": [
    {
     "data": {
      "text/plain": [
       "employed         34\n",
       "self employed    32\n",
       "unemployed       21\n",
       "deceased         14\n",
       "casual worker    10\n",
       "retired           2\n",
       "Name: MothersEmployment, dtype: int64"
      ]
     },
     "execution_count": 31,
     "metadata": {},
     "output_type": "execute_result"
    }
   ],
   "source": [
    "data['MothersEmployment'].value_counts()"
   ]
  },
  {
   "cell_type": "code",
   "execution_count": 32,
   "metadata": {},
   "outputs": [],
   "source": [
    "data['MothersEmployment'] = np.where(data['MotherAlive']==0,  #0 means deceased\n",
    "                                   \"blank\",data['MothersEmployment'])"
   ]
  },
  {
   "cell_type": "code",
   "execution_count": 33,
   "metadata": {},
   "outputs": [],
   "source": [
    "data['MothersEmployment'] = np.where(data['MotherAlive']==2,  #2 means MotherAlive was left blank\n",
    "                                   \"blank\",data['MothersEmployment'])"
   ]
  },
  {
   "cell_type": "code",
   "execution_count": 34,
   "metadata": {},
   "outputs": [],
   "source": [
    "data['MothersEmployment'].fillna ('employed',inplace = True)"
   ]
  },
  {
   "cell_type": "markdown",
   "metadata": {},
   "source": [
    "#### Guardian"
   ]
  },
  {
   "cell_type": "code",
   "execution_count": 35,
   "metadata": {},
   "outputs": [
    {
     "data": {
      "text/plain": [
       "none           93\n",
       "other           7\n",
       "uncle           6\n",
       "brother         5\n",
       "aunt            5\n",
       "sister          3\n",
       "grandfather     1\n",
       "Grandmother     1\n",
       "wellwisher      1\n",
       "Name: Guardian, dtype: int64"
      ]
     },
     "execution_count": 35,
     "metadata": {},
     "output_type": "execute_result"
    }
   ],
   "source": [
    "data['Guardian'].value_counts()"
   ]
  },
  {
   "cell_type": "code",
   "execution_count": 36,
   "metadata": {},
   "outputs": [],
   "source": [
    "data['Guardian'].fillna('none', inplace = True)"
   ]
  },
  {
   "cell_type": "markdown",
   "metadata": {},
   "source": [
    "#### Guardian Employment"
   ]
  },
  {
   "cell_type": "code",
   "execution_count": 37,
   "metadata": {},
   "outputs": [
    {
     "data": {
      "text/plain": [
       "no               92\n",
       "employed         17\n",
       "self employed     8\n",
       "retired           2\n",
       "unemployed        1\n",
       "casual worker     1\n",
       "Name: GuardianEmployment, dtype: int64"
      ]
     },
     "execution_count": 37,
     "metadata": {},
     "output_type": "execute_result"
    }
   ],
   "source": [
    "data['GuardianEmployment'].value_counts()"
   ]
  },
  {
   "cell_type": "code",
   "execution_count": 38,
   "metadata": {},
   "outputs": [],
   "source": [
    "data['GuardianEmployment'] = np.where(data['Guardian']==\"none\",  \n",
    "                                   \"no\",data['GuardianEmployment'])"
   ]
  },
  {
   "cell_type": "code",
   "execution_count": 39,
   "metadata": {},
   "outputs": [],
   "source": [
    "data['GuardianEmployment'].fillna('no', inplace= True)"
   ]
  },
  {
   "cell_type": "markdown",
   "metadata": {},
   "source": [
    "#### Financial Income"
   ]
  },
  {
   "cell_type": "code",
   "execution_count": 40,
   "metadata": {},
   "outputs": [],
   "source": [
    "data['MotherFinancialIncome'] = np.where(data['MothersEmployment']==\"deceased\",\n",
    "                                   0,data['MotherFinancialIncome'])"
   ]
  },
  {
   "cell_type": "code",
   "execution_count": 41,
   "metadata": {},
   "outputs": [],
   "source": [
    "data['FatherFinancialIncome'] = np.where(data['FatherEmployment']==\"deceased\",\n",
    "                                   0,data['FatherFinancialIncome'])"
   ]
  },
  {
   "cell_type": "code",
   "execution_count": 42,
   "metadata": {},
   "outputs": [],
   "source": [
    "data['FatherFinancialIncome'] = np.where(data['FatherEmployment']==\"unemployed\",\n",
    "                                   0,data['FatherFinancialIncome'])"
   ]
  },
  {
   "cell_type": "code",
   "execution_count": 43,
   "metadata": {},
   "outputs": [],
   "source": [
    "median_filler = data['FatherFinancialIncome'].median()"
   ]
  },
  {
   "cell_type": "code",
   "execution_count": 44,
   "metadata": {},
   "outputs": [],
   "source": [
    "data['FatherFinancialIncome'].fillna(median_filler, inplace=True)"
   ]
  },
  {
   "cell_type": "markdown",
   "metadata": {},
   "source": [
    "#### Amount Able to pay"
   ]
  },
  {
   "cell_type": "code",
   "execution_count": 45,
   "metadata": {},
   "outputs": [],
   "source": [
    "amount_filler = data['Amount'].median()"
   ]
  },
  {
   "cell_type": "code",
   "execution_count": 46,
   "metadata": {},
   "outputs": [],
   "source": [
    "data['Amount'].fillna(amount_filler, inplace=True)"
   ]
  },
  {
   "cell_type": "code",
   "execution_count": 47,
   "metadata": {},
   "outputs": [
    {
     "data": {
      "text/plain": [
       "Courses                  0\n",
       "Grade                    0\n",
       "Year                     0\n",
       "SchoolCategory           0\n",
       "FeesPer Year             0\n",
       "FeeBalance               0\n",
       "PaymentMode              0\n",
       "MotherAlive              0\n",
       "FatherAlive              0\n",
       "FatherEmployment         0\n",
       "MothersEmployment        0\n",
       "Guardian                 0\n",
       "GuardianEmployment       0\n",
       "FatherFinancialIncome    0\n",
       "MotherFinancialIncome    0\n",
       "Amount                   0\n",
       "Siblings                 0\n",
       "SiblingsFees             0\n",
       "Awarded                  0\n",
       "dtype: int64"
      ]
     },
     "execution_count": 47,
     "metadata": {},
     "output_type": "execute_result"
    }
   ],
   "source": [
    "data.isnull().sum()"
   ]
  },
  {
   "cell_type": "markdown",
   "metadata": {},
   "source": [
    "### Encoding"
   ]
  },
  {
   "cell_type": "markdown",
   "metadata": {},
   "source": [
    "#### Courses"
   ]
  },
  {
   "cell_type": "code",
   "execution_count": 48,
   "metadata": {},
   "outputs": [
    {
     "data": {
      "text/plain": [
       "LabelEncoder()"
      ]
     },
     "execution_count": 48,
     "metadata": {},
     "output_type": "execute_result"
    }
   ],
   "source": [
    "\n",
    "le = LabelEncoder()\n",
    "le.fit(data['Courses'])\n"
   ]
  },
  {
   "cell_type": "code",
   "execution_count": 49,
   "metadata": {},
   "outputs": [
    {
     "data": {
      "text/plain": [
       "['BAC',\n",
       " 'BADSP',\n",
       " 'BAIS',\n",
       " 'BBSACT',\n",
       " 'BBSFE',\n",
       " 'BBSFEN',\n",
       " 'BCOM',\n",
       " 'BHM',\n",
       " 'CFA',\n",
       " 'CPA',\n",
       " 'DBM',\n",
       " 'LLB']"
      ]
     },
     "execution_count": 49,
     "metadata": {},
     "output_type": "execute_result"
    }
   ],
   "source": [
    "list(le.classes_)\n"
   ]
  },
  {
   "cell_type": "code",
   "execution_count": 50,
   "metadata": {},
   "outputs": [],
   "source": [
    "data.Courses = le.transform(data['Courses']) \n"
   ]
  },
  {
   "cell_type": "code",
   "execution_count": 51,
   "metadata": {},
   "outputs": [
    {
     "data": {
      "text/html": [
       "<div>\n",
       "<style scoped>\n",
       "    .dataframe tbody tr th:only-of-type {\n",
       "        vertical-align: middle;\n",
       "    }\n",
       "\n",
       "    .dataframe tbody tr th {\n",
       "        vertical-align: top;\n",
       "    }\n",
       "\n",
       "    .dataframe thead th {\n",
       "        text-align: right;\n",
       "    }\n",
       "</style>\n",
       "<table border=\"1\" class=\"dataframe\">\n",
       "  <thead>\n",
       "    <tr style=\"text-align: right;\">\n",
       "      <th></th>\n",
       "      <th>Courses</th>\n",
       "      <th>Grade</th>\n",
       "      <th>Year</th>\n",
       "      <th>SchoolCategory</th>\n",
       "      <th>FeesPer Year</th>\n",
       "      <th>FeeBalance</th>\n",
       "      <th>PaymentMode</th>\n",
       "      <th>MotherAlive</th>\n",
       "      <th>FatherAlive</th>\n",
       "      <th>FatherEmployment</th>\n",
       "      <th>MothersEmployment</th>\n",
       "      <th>Guardian</th>\n",
       "      <th>GuardianEmployment</th>\n",
       "      <th>FatherFinancialIncome</th>\n",
       "      <th>MotherFinancialIncome</th>\n",
       "      <th>Amount</th>\n",
       "      <th>Siblings</th>\n",
       "      <th>SiblingsFees</th>\n",
       "      <th>Awarded</th>\n",
       "    </tr>\n",
       "  </thead>\n",
       "  <tbody>\n",
       "    <tr>\n",
       "      <th>0</th>\n",
       "      <td>2</td>\n",
       "      <td>A</td>\n",
       "      <td>2014</td>\n",
       "      <td>private</td>\n",
       "      <td>134200</td>\n",
       "      <td>0.0</td>\n",
       "      <td>Parent</td>\n",
       "      <td>1.0</td>\n",
       "      <td>1.0</td>\n",
       "      <td>unemployed</td>\n",
       "      <td>employed</td>\n",
       "      <td>none</td>\n",
       "      <td>no</td>\n",
       "      <td>0.0</td>\n",
       "      <td>152000</td>\n",
       "      <td>25000.0</td>\n",
       "      <td>2</td>\n",
       "      <td>134272.0</td>\n",
       "      <td>no</td>\n",
       "    </tr>\n",
       "    <tr>\n",
       "      <th>1</th>\n",
       "      <td>0</td>\n",
       "      <td>B+</td>\n",
       "      <td>2015</td>\n",
       "      <td>private</td>\n",
       "      <td>90000</td>\n",
       "      <td>0.0</td>\n",
       "      <td>Parent</td>\n",
       "      <td>1.0</td>\n",
       "      <td>1.0</td>\n",
       "      <td>self employed</td>\n",
       "      <td>employed</td>\n",
       "      <td>none</td>\n",
       "      <td>no</td>\n",
       "      <td>130000.0</td>\n",
       "      <td>152000</td>\n",
       "      <td>130000.0</td>\n",
       "      <td>0</td>\n",
       "      <td>0.0</td>\n",
       "      <td>no</td>\n",
       "    </tr>\n",
       "    <tr>\n",
       "      <th>2</th>\n",
       "      <td>0</td>\n",
       "      <td>B</td>\n",
       "      <td>2017</td>\n",
       "      <td>ExtraCounty</td>\n",
       "      <td>53000</td>\n",
       "      <td>0.0</td>\n",
       "      <td>Guardian</td>\n",
       "      <td>0.0</td>\n",
       "      <td>0.0</td>\n",
       "      <td>blank</td>\n",
       "      <td>blank</td>\n",
       "      <td>brother</td>\n",
       "      <td>employed</td>\n",
       "      <td>0.0</td>\n",
       "      <td>0</td>\n",
       "      <td>50000.0</td>\n",
       "      <td>0</td>\n",
       "      <td>0.0</td>\n",
       "      <td>no</td>\n",
       "    </tr>\n",
       "    <tr>\n",
       "      <th>3</th>\n",
       "      <td>0</td>\n",
       "      <td>C+</td>\n",
       "      <td>2016</td>\n",
       "      <td>private</td>\n",
       "      <td>89186</td>\n",
       "      <td>0.0</td>\n",
       "      <td>Scholarship</td>\n",
       "      <td>1.0</td>\n",
       "      <td>1.0</td>\n",
       "      <td>self employed</td>\n",
       "      <td>unemployed</td>\n",
       "      <td>none</td>\n",
       "      <td>no</td>\n",
       "      <td>130000.0</td>\n",
       "      <td>25000</td>\n",
       "      <td>0.0</td>\n",
       "      <td>0</td>\n",
       "      <td>0.0</td>\n",
       "      <td>no</td>\n",
       "    </tr>\n",
       "    <tr>\n",
       "      <th>4</th>\n",
       "      <td>2</td>\n",
       "      <td>C+</td>\n",
       "      <td>2016</td>\n",
       "      <td>ExtraCounty</td>\n",
       "      <td>58000</td>\n",
       "      <td>166294.0</td>\n",
       "      <td>Parent</td>\n",
       "      <td>1.0</td>\n",
       "      <td>0.0</td>\n",
       "      <td>blank</td>\n",
       "      <td>employed</td>\n",
       "      <td>none</td>\n",
       "      <td>no</td>\n",
       "      <td>0.0</td>\n",
       "      <td>40000</td>\n",
       "      <td>60000.0</td>\n",
       "      <td>0</td>\n",
       "      <td>0.0</td>\n",
       "      <td>no</td>\n",
       "    </tr>\n",
       "  </tbody>\n",
       "</table>\n",
       "</div>"
      ],
      "text/plain": [
       "   Courses Grade  Year SchoolCategory  FeesPer Year  FeeBalance  PaymentMode  \\\n",
       "0        2     A  2014        private        134200         0.0       Parent   \n",
       "1        0    B+  2015        private         90000         0.0       Parent   \n",
       "2        0     B  2017    ExtraCounty         53000         0.0     Guardian   \n",
       "3        0    C+  2016        private         89186         0.0  Scholarship   \n",
       "4        2    C+  2016    ExtraCounty         58000    166294.0       Parent   \n",
       "\n",
       "   MotherAlive  FatherAlive FatherEmployment MothersEmployment Guardian  \\\n",
       "0          1.0          1.0       unemployed          employed     none   \n",
       "1          1.0          1.0    self employed          employed     none   \n",
       "2          0.0          0.0            blank             blank  brother   \n",
       "3          1.0          1.0    self employed        unemployed     none   \n",
       "4          1.0          0.0            blank          employed     none   \n",
       "\n",
       "  GuardianEmployment  FatherFinancialIncome  MotherFinancialIncome    Amount  \\\n",
       "0                 no                    0.0                 152000   25000.0   \n",
       "1                 no               130000.0                 152000  130000.0   \n",
       "2           employed                    0.0                      0   50000.0   \n",
       "3                 no               130000.0                  25000       0.0   \n",
       "4                 no                    0.0                  40000   60000.0   \n",
       "\n",
       "  Siblings  SiblingsFees Awarded  \n",
       "0        2      134272.0      no  \n",
       "1        0           0.0      no  \n",
       "2        0           0.0      no  \n",
       "3        0           0.0      no  \n",
       "4        0           0.0      no  "
      ]
     },
     "execution_count": 51,
     "metadata": {},
     "output_type": "execute_result"
    }
   ],
   "source": [
    "data.head()"
   ]
  },
  {
   "cell_type": "markdown",
   "metadata": {},
   "source": [
    "#### Grade"
   ]
  },
  {
   "cell_type": "code",
   "execution_count": 52,
   "metadata": {},
   "outputs": [
    {
     "data": {
      "text/plain": [
       "LabelEncoder()"
      ]
     },
     "execution_count": 52,
     "metadata": {},
     "output_type": "execute_result"
    }
   ],
   "source": [
    "le.fit(data['Grade'])\n"
   ]
  },
  {
   "cell_type": "code",
   "execution_count": 53,
   "metadata": {},
   "outputs": [
    {
     "data": {
      "text/plain": [
       "['A', 'B', 'B+', 'C', 'C+', 'D+']"
      ]
     },
     "execution_count": 53,
     "metadata": {},
     "output_type": "execute_result"
    }
   ],
   "source": [
    "list(le.classes_)"
   ]
  },
  {
   "cell_type": "code",
   "execution_count": 54,
   "metadata": {},
   "outputs": [],
   "source": [
    "data.Grade = le.transform(data['Grade'])"
   ]
  },
  {
   "cell_type": "code",
   "execution_count": 55,
   "metadata": {},
   "outputs": [
    {
     "data": {
      "text/html": [
       "<div>\n",
       "<style scoped>\n",
       "    .dataframe tbody tr th:only-of-type {\n",
       "        vertical-align: middle;\n",
       "    }\n",
       "\n",
       "    .dataframe tbody tr th {\n",
       "        vertical-align: top;\n",
       "    }\n",
       "\n",
       "    .dataframe thead th {\n",
       "        text-align: right;\n",
       "    }\n",
       "</style>\n",
       "<table border=\"1\" class=\"dataframe\">\n",
       "  <thead>\n",
       "    <tr style=\"text-align: right;\">\n",
       "      <th></th>\n",
       "      <th>Courses</th>\n",
       "      <th>Grade</th>\n",
       "      <th>Year</th>\n",
       "      <th>SchoolCategory</th>\n",
       "      <th>FeesPer Year</th>\n",
       "      <th>FeeBalance</th>\n",
       "      <th>PaymentMode</th>\n",
       "      <th>MotherAlive</th>\n",
       "      <th>FatherAlive</th>\n",
       "      <th>FatherEmployment</th>\n",
       "      <th>MothersEmployment</th>\n",
       "      <th>Guardian</th>\n",
       "      <th>GuardianEmployment</th>\n",
       "      <th>FatherFinancialIncome</th>\n",
       "      <th>MotherFinancialIncome</th>\n",
       "      <th>Amount</th>\n",
       "      <th>Siblings</th>\n",
       "      <th>SiblingsFees</th>\n",
       "      <th>Awarded</th>\n",
       "    </tr>\n",
       "  </thead>\n",
       "  <tbody>\n",
       "    <tr>\n",
       "      <th>0</th>\n",
       "      <td>2</td>\n",
       "      <td>0</td>\n",
       "      <td>2014</td>\n",
       "      <td>private</td>\n",
       "      <td>134200</td>\n",
       "      <td>0.0</td>\n",
       "      <td>Parent</td>\n",
       "      <td>1.0</td>\n",
       "      <td>1.0</td>\n",
       "      <td>unemployed</td>\n",
       "      <td>employed</td>\n",
       "      <td>none</td>\n",
       "      <td>no</td>\n",
       "      <td>0.0</td>\n",
       "      <td>152000</td>\n",
       "      <td>25000.0</td>\n",
       "      <td>2</td>\n",
       "      <td>134272.0</td>\n",
       "      <td>no</td>\n",
       "    </tr>\n",
       "    <tr>\n",
       "      <th>1</th>\n",
       "      <td>0</td>\n",
       "      <td>2</td>\n",
       "      <td>2015</td>\n",
       "      <td>private</td>\n",
       "      <td>90000</td>\n",
       "      <td>0.0</td>\n",
       "      <td>Parent</td>\n",
       "      <td>1.0</td>\n",
       "      <td>1.0</td>\n",
       "      <td>self employed</td>\n",
       "      <td>employed</td>\n",
       "      <td>none</td>\n",
       "      <td>no</td>\n",
       "      <td>130000.0</td>\n",
       "      <td>152000</td>\n",
       "      <td>130000.0</td>\n",
       "      <td>0</td>\n",
       "      <td>0.0</td>\n",
       "      <td>no</td>\n",
       "    </tr>\n",
       "    <tr>\n",
       "      <th>2</th>\n",
       "      <td>0</td>\n",
       "      <td>1</td>\n",
       "      <td>2017</td>\n",
       "      <td>ExtraCounty</td>\n",
       "      <td>53000</td>\n",
       "      <td>0.0</td>\n",
       "      <td>Guardian</td>\n",
       "      <td>0.0</td>\n",
       "      <td>0.0</td>\n",
       "      <td>blank</td>\n",
       "      <td>blank</td>\n",
       "      <td>brother</td>\n",
       "      <td>employed</td>\n",
       "      <td>0.0</td>\n",
       "      <td>0</td>\n",
       "      <td>50000.0</td>\n",
       "      <td>0</td>\n",
       "      <td>0.0</td>\n",
       "      <td>no</td>\n",
       "    </tr>\n",
       "    <tr>\n",
       "      <th>3</th>\n",
       "      <td>0</td>\n",
       "      <td>4</td>\n",
       "      <td>2016</td>\n",
       "      <td>private</td>\n",
       "      <td>89186</td>\n",
       "      <td>0.0</td>\n",
       "      <td>Scholarship</td>\n",
       "      <td>1.0</td>\n",
       "      <td>1.0</td>\n",
       "      <td>self employed</td>\n",
       "      <td>unemployed</td>\n",
       "      <td>none</td>\n",
       "      <td>no</td>\n",
       "      <td>130000.0</td>\n",
       "      <td>25000</td>\n",
       "      <td>0.0</td>\n",
       "      <td>0</td>\n",
       "      <td>0.0</td>\n",
       "      <td>no</td>\n",
       "    </tr>\n",
       "    <tr>\n",
       "      <th>4</th>\n",
       "      <td>2</td>\n",
       "      <td>4</td>\n",
       "      <td>2016</td>\n",
       "      <td>ExtraCounty</td>\n",
       "      <td>58000</td>\n",
       "      <td>166294.0</td>\n",
       "      <td>Parent</td>\n",
       "      <td>1.0</td>\n",
       "      <td>0.0</td>\n",
       "      <td>blank</td>\n",
       "      <td>employed</td>\n",
       "      <td>none</td>\n",
       "      <td>no</td>\n",
       "      <td>0.0</td>\n",
       "      <td>40000</td>\n",
       "      <td>60000.0</td>\n",
       "      <td>0</td>\n",
       "      <td>0.0</td>\n",
       "      <td>no</td>\n",
       "    </tr>\n",
       "  </tbody>\n",
       "</table>\n",
       "</div>"
      ],
      "text/plain": [
       "   Courses  Grade  Year SchoolCategory  FeesPer Year  FeeBalance  PaymentMode  \\\n",
       "0        2      0  2014        private        134200         0.0       Parent   \n",
       "1        0      2  2015        private         90000         0.0       Parent   \n",
       "2        0      1  2017    ExtraCounty         53000         0.0     Guardian   \n",
       "3        0      4  2016        private         89186         0.0  Scholarship   \n",
       "4        2      4  2016    ExtraCounty         58000    166294.0       Parent   \n",
       "\n",
       "   MotherAlive  FatherAlive FatherEmployment MothersEmployment Guardian  \\\n",
       "0          1.0          1.0       unemployed          employed     none   \n",
       "1          1.0          1.0    self employed          employed     none   \n",
       "2          0.0          0.0            blank             blank  brother   \n",
       "3          1.0          1.0    self employed        unemployed     none   \n",
       "4          1.0          0.0            blank          employed     none   \n",
       "\n",
       "  GuardianEmployment  FatherFinancialIncome  MotherFinancialIncome    Amount  \\\n",
       "0                 no                    0.0                 152000   25000.0   \n",
       "1                 no               130000.0                 152000  130000.0   \n",
       "2           employed                    0.0                      0   50000.0   \n",
       "3                 no               130000.0                  25000       0.0   \n",
       "4                 no                    0.0                  40000   60000.0   \n",
       "\n",
       "  Siblings  SiblingsFees Awarded  \n",
       "0        2      134272.0      no  \n",
       "1        0           0.0      no  \n",
       "2        0           0.0      no  \n",
       "3        0           0.0      no  \n",
       "4        0           0.0      no  "
      ]
     },
     "execution_count": 55,
     "metadata": {},
     "output_type": "execute_result"
    }
   ],
   "source": [
    "data.head()"
   ]
  },
  {
   "cell_type": "markdown",
   "metadata": {},
   "source": [
    "#### School Category"
   ]
  },
  {
   "cell_type": "code",
   "execution_count": 56,
   "metadata": {},
   "outputs": [
    {
     "data": {
      "text/plain": [
       "LabelEncoder()"
      ]
     },
     "execution_count": 56,
     "metadata": {},
     "output_type": "execute_result"
    }
   ],
   "source": [
    "le.fit(data['SchoolCategory'])"
   ]
  },
  {
   "cell_type": "code",
   "execution_count": 57,
   "metadata": {},
   "outputs": [
    {
     "data": {
      "text/plain": [
       "['ExtraCounty', 'county', 'national', 'other', 'private']"
      ]
     },
     "execution_count": 57,
     "metadata": {},
     "output_type": "execute_result"
    }
   ],
   "source": [
    "list(le.classes_)"
   ]
  },
  {
   "cell_type": "code",
   "execution_count": 58,
   "metadata": {},
   "outputs": [],
   "source": [
    "data.SchoolCategory = le.transform(data['SchoolCategory'])"
   ]
  },
  {
   "cell_type": "code",
   "execution_count": 59,
   "metadata": {},
   "outputs": [
    {
     "data": {
      "text/html": [
       "<div>\n",
       "<style scoped>\n",
       "    .dataframe tbody tr th:only-of-type {\n",
       "        vertical-align: middle;\n",
       "    }\n",
       "\n",
       "    .dataframe tbody tr th {\n",
       "        vertical-align: top;\n",
       "    }\n",
       "\n",
       "    .dataframe thead th {\n",
       "        text-align: right;\n",
       "    }\n",
       "</style>\n",
       "<table border=\"1\" class=\"dataframe\">\n",
       "  <thead>\n",
       "    <tr style=\"text-align: right;\">\n",
       "      <th></th>\n",
       "      <th>Courses</th>\n",
       "      <th>Grade</th>\n",
       "      <th>Year</th>\n",
       "      <th>SchoolCategory</th>\n",
       "      <th>FeesPer Year</th>\n",
       "      <th>FeeBalance</th>\n",
       "      <th>PaymentMode</th>\n",
       "      <th>MotherAlive</th>\n",
       "      <th>FatherAlive</th>\n",
       "      <th>FatherEmployment</th>\n",
       "      <th>MothersEmployment</th>\n",
       "      <th>Guardian</th>\n",
       "      <th>GuardianEmployment</th>\n",
       "      <th>FatherFinancialIncome</th>\n",
       "      <th>MotherFinancialIncome</th>\n",
       "      <th>Amount</th>\n",
       "      <th>Siblings</th>\n",
       "      <th>SiblingsFees</th>\n",
       "      <th>Awarded</th>\n",
       "    </tr>\n",
       "  </thead>\n",
       "  <tbody>\n",
       "    <tr>\n",
       "      <th>0</th>\n",
       "      <td>2</td>\n",
       "      <td>0</td>\n",
       "      <td>2014</td>\n",
       "      <td>4</td>\n",
       "      <td>134200</td>\n",
       "      <td>0.0</td>\n",
       "      <td>Parent</td>\n",
       "      <td>1.0</td>\n",
       "      <td>1.0</td>\n",
       "      <td>unemployed</td>\n",
       "      <td>employed</td>\n",
       "      <td>none</td>\n",
       "      <td>no</td>\n",
       "      <td>0.0</td>\n",
       "      <td>152000</td>\n",
       "      <td>25000.0</td>\n",
       "      <td>2</td>\n",
       "      <td>134272.0</td>\n",
       "      <td>no</td>\n",
       "    </tr>\n",
       "    <tr>\n",
       "      <th>1</th>\n",
       "      <td>0</td>\n",
       "      <td>2</td>\n",
       "      <td>2015</td>\n",
       "      <td>4</td>\n",
       "      <td>90000</td>\n",
       "      <td>0.0</td>\n",
       "      <td>Parent</td>\n",
       "      <td>1.0</td>\n",
       "      <td>1.0</td>\n",
       "      <td>self employed</td>\n",
       "      <td>employed</td>\n",
       "      <td>none</td>\n",
       "      <td>no</td>\n",
       "      <td>130000.0</td>\n",
       "      <td>152000</td>\n",
       "      <td>130000.0</td>\n",
       "      <td>0</td>\n",
       "      <td>0.0</td>\n",
       "      <td>no</td>\n",
       "    </tr>\n",
       "    <tr>\n",
       "      <th>2</th>\n",
       "      <td>0</td>\n",
       "      <td>1</td>\n",
       "      <td>2017</td>\n",
       "      <td>0</td>\n",
       "      <td>53000</td>\n",
       "      <td>0.0</td>\n",
       "      <td>Guardian</td>\n",
       "      <td>0.0</td>\n",
       "      <td>0.0</td>\n",
       "      <td>blank</td>\n",
       "      <td>blank</td>\n",
       "      <td>brother</td>\n",
       "      <td>employed</td>\n",
       "      <td>0.0</td>\n",
       "      <td>0</td>\n",
       "      <td>50000.0</td>\n",
       "      <td>0</td>\n",
       "      <td>0.0</td>\n",
       "      <td>no</td>\n",
       "    </tr>\n",
       "    <tr>\n",
       "      <th>3</th>\n",
       "      <td>0</td>\n",
       "      <td>4</td>\n",
       "      <td>2016</td>\n",
       "      <td>4</td>\n",
       "      <td>89186</td>\n",
       "      <td>0.0</td>\n",
       "      <td>Scholarship</td>\n",
       "      <td>1.0</td>\n",
       "      <td>1.0</td>\n",
       "      <td>self employed</td>\n",
       "      <td>unemployed</td>\n",
       "      <td>none</td>\n",
       "      <td>no</td>\n",
       "      <td>130000.0</td>\n",
       "      <td>25000</td>\n",
       "      <td>0.0</td>\n",
       "      <td>0</td>\n",
       "      <td>0.0</td>\n",
       "      <td>no</td>\n",
       "    </tr>\n",
       "    <tr>\n",
       "      <th>4</th>\n",
       "      <td>2</td>\n",
       "      <td>4</td>\n",
       "      <td>2016</td>\n",
       "      <td>0</td>\n",
       "      <td>58000</td>\n",
       "      <td>166294.0</td>\n",
       "      <td>Parent</td>\n",
       "      <td>1.0</td>\n",
       "      <td>0.0</td>\n",
       "      <td>blank</td>\n",
       "      <td>employed</td>\n",
       "      <td>none</td>\n",
       "      <td>no</td>\n",
       "      <td>0.0</td>\n",
       "      <td>40000</td>\n",
       "      <td>60000.0</td>\n",
       "      <td>0</td>\n",
       "      <td>0.0</td>\n",
       "      <td>no</td>\n",
       "    </tr>\n",
       "  </tbody>\n",
       "</table>\n",
       "</div>"
      ],
      "text/plain": [
       "   Courses  Grade  Year  SchoolCategory  FeesPer Year  FeeBalance  \\\n",
       "0        2      0  2014               4        134200         0.0   \n",
       "1        0      2  2015               4         90000         0.0   \n",
       "2        0      1  2017               0         53000         0.0   \n",
       "3        0      4  2016               4         89186         0.0   \n",
       "4        2      4  2016               0         58000    166294.0   \n",
       "\n",
       "   PaymentMode  MotherAlive  FatherAlive FatherEmployment MothersEmployment  \\\n",
       "0       Parent          1.0          1.0       unemployed          employed   \n",
       "1       Parent          1.0          1.0    self employed          employed   \n",
       "2     Guardian          0.0          0.0            blank             blank   \n",
       "3  Scholarship          1.0          1.0    self employed        unemployed   \n",
       "4       Parent          1.0          0.0            blank          employed   \n",
       "\n",
       "  Guardian GuardianEmployment  FatherFinancialIncome  MotherFinancialIncome  \\\n",
       "0     none                 no                    0.0                 152000   \n",
       "1     none                 no               130000.0                 152000   \n",
       "2  brother           employed                    0.0                      0   \n",
       "3     none                 no               130000.0                  25000   \n",
       "4     none                 no                    0.0                  40000   \n",
       "\n",
       "     Amount Siblings  SiblingsFees Awarded  \n",
       "0   25000.0        2      134272.0      no  \n",
       "1  130000.0        0           0.0      no  \n",
       "2   50000.0        0           0.0      no  \n",
       "3       0.0        0           0.0      no  \n",
       "4   60000.0        0           0.0      no  "
      ]
     },
     "execution_count": 59,
     "metadata": {},
     "output_type": "execute_result"
    }
   ],
   "source": [
    "data.head()"
   ]
  },
  {
   "cell_type": "markdown",
   "metadata": {},
   "source": [
    "#### Payment Mode"
   ]
  },
  {
   "cell_type": "code",
   "execution_count": 60,
   "metadata": {},
   "outputs": [
    {
     "data": {
      "text/plain": [
       "LabelEncoder()"
      ]
     },
     "execution_count": 60,
     "metadata": {},
     "output_type": "execute_result"
    }
   ],
   "source": [
    "le.fit(data['PaymentMode'])"
   ]
  },
  {
   "cell_type": "code",
   "execution_count": 61,
   "metadata": {},
   "outputs": [
    {
     "data": {
      "text/plain": [
       "['Guardian',\n",
       " 'Parent',\n",
       " 'Parent and Scholarship',\n",
       " 'Scholarship',\n",
       " 'fundraising',\n",
       " 'relative',\n",
       " 'wellwisher']"
      ]
     },
     "execution_count": 61,
     "metadata": {},
     "output_type": "execute_result"
    }
   ],
   "source": [
    "list(le.classes_)"
   ]
  },
  {
   "cell_type": "code",
   "execution_count": 62,
   "metadata": {},
   "outputs": [],
   "source": [
    "data.PaymentMode = le.transform(data['PaymentMode'])"
   ]
  },
  {
   "cell_type": "code",
   "execution_count": 63,
   "metadata": {},
   "outputs": [
    {
     "data": {
      "text/html": [
       "<div>\n",
       "<style scoped>\n",
       "    .dataframe tbody tr th:only-of-type {\n",
       "        vertical-align: middle;\n",
       "    }\n",
       "\n",
       "    .dataframe tbody tr th {\n",
       "        vertical-align: top;\n",
       "    }\n",
       "\n",
       "    .dataframe thead th {\n",
       "        text-align: right;\n",
       "    }\n",
       "</style>\n",
       "<table border=\"1\" class=\"dataframe\">\n",
       "  <thead>\n",
       "    <tr style=\"text-align: right;\">\n",
       "      <th></th>\n",
       "      <th>Courses</th>\n",
       "      <th>Grade</th>\n",
       "      <th>Year</th>\n",
       "      <th>SchoolCategory</th>\n",
       "      <th>FeesPer Year</th>\n",
       "      <th>FeeBalance</th>\n",
       "      <th>PaymentMode</th>\n",
       "      <th>MotherAlive</th>\n",
       "      <th>FatherAlive</th>\n",
       "      <th>FatherEmployment</th>\n",
       "      <th>MothersEmployment</th>\n",
       "      <th>Guardian</th>\n",
       "      <th>GuardianEmployment</th>\n",
       "      <th>FatherFinancialIncome</th>\n",
       "      <th>MotherFinancialIncome</th>\n",
       "      <th>Amount</th>\n",
       "      <th>Siblings</th>\n",
       "      <th>SiblingsFees</th>\n",
       "      <th>Awarded</th>\n",
       "    </tr>\n",
       "  </thead>\n",
       "  <tbody>\n",
       "    <tr>\n",
       "      <th>0</th>\n",
       "      <td>2</td>\n",
       "      <td>0</td>\n",
       "      <td>2014</td>\n",
       "      <td>4</td>\n",
       "      <td>134200</td>\n",
       "      <td>0.0</td>\n",
       "      <td>1</td>\n",
       "      <td>1.0</td>\n",
       "      <td>1.0</td>\n",
       "      <td>unemployed</td>\n",
       "      <td>employed</td>\n",
       "      <td>none</td>\n",
       "      <td>no</td>\n",
       "      <td>0.0</td>\n",
       "      <td>152000</td>\n",
       "      <td>25000.0</td>\n",
       "      <td>2</td>\n",
       "      <td>134272.0</td>\n",
       "      <td>no</td>\n",
       "    </tr>\n",
       "    <tr>\n",
       "      <th>1</th>\n",
       "      <td>0</td>\n",
       "      <td>2</td>\n",
       "      <td>2015</td>\n",
       "      <td>4</td>\n",
       "      <td>90000</td>\n",
       "      <td>0.0</td>\n",
       "      <td>1</td>\n",
       "      <td>1.0</td>\n",
       "      <td>1.0</td>\n",
       "      <td>self employed</td>\n",
       "      <td>employed</td>\n",
       "      <td>none</td>\n",
       "      <td>no</td>\n",
       "      <td>130000.0</td>\n",
       "      <td>152000</td>\n",
       "      <td>130000.0</td>\n",
       "      <td>0</td>\n",
       "      <td>0.0</td>\n",
       "      <td>no</td>\n",
       "    </tr>\n",
       "    <tr>\n",
       "      <th>2</th>\n",
       "      <td>0</td>\n",
       "      <td>1</td>\n",
       "      <td>2017</td>\n",
       "      <td>0</td>\n",
       "      <td>53000</td>\n",
       "      <td>0.0</td>\n",
       "      <td>0</td>\n",
       "      <td>0.0</td>\n",
       "      <td>0.0</td>\n",
       "      <td>blank</td>\n",
       "      <td>blank</td>\n",
       "      <td>brother</td>\n",
       "      <td>employed</td>\n",
       "      <td>0.0</td>\n",
       "      <td>0</td>\n",
       "      <td>50000.0</td>\n",
       "      <td>0</td>\n",
       "      <td>0.0</td>\n",
       "      <td>no</td>\n",
       "    </tr>\n",
       "    <tr>\n",
       "      <th>3</th>\n",
       "      <td>0</td>\n",
       "      <td>4</td>\n",
       "      <td>2016</td>\n",
       "      <td>4</td>\n",
       "      <td>89186</td>\n",
       "      <td>0.0</td>\n",
       "      <td>3</td>\n",
       "      <td>1.0</td>\n",
       "      <td>1.0</td>\n",
       "      <td>self employed</td>\n",
       "      <td>unemployed</td>\n",
       "      <td>none</td>\n",
       "      <td>no</td>\n",
       "      <td>130000.0</td>\n",
       "      <td>25000</td>\n",
       "      <td>0.0</td>\n",
       "      <td>0</td>\n",
       "      <td>0.0</td>\n",
       "      <td>no</td>\n",
       "    </tr>\n",
       "    <tr>\n",
       "      <th>4</th>\n",
       "      <td>2</td>\n",
       "      <td>4</td>\n",
       "      <td>2016</td>\n",
       "      <td>0</td>\n",
       "      <td>58000</td>\n",
       "      <td>166294.0</td>\n",
       "      <td>1</td>\n",
       "      <td>1.0</td>\n",
       "      <td>0.0</td>\n",
       "      <td>blank</td>\n",
       "      <td>employed</td>\n",
       "      <td>none</td>\n",
       "      <td>no</td>\n",
       "      <td>0.0</td>\n",
       "      <td>40000</td>\n",
       "      <td>60000.0</td>\n",
       "      <td>0</td>\n",
       "      <td>0.0</td>\n",
       "      <td>no</td>\n",
       "    </tr>\n",
       "  </tbody>\n",
       "</table>\n",
       "</div>"
      ],
      "text/plain": [
       "   Courses  Grade  Year  SchoolCategory  FeesPer Year  FeeBalance  \\\n",
       "0        2      0  2014               4        134200         0.0   \n",
       "1        0      2  2015               4         90000         0.0   \n",
       "2        0      1  2017               0         53000         0.0   \n",
       "3        0      4  2016               4         89186         0.0   \n",
       "4        2      4  2016               0         58000    166294.0   \n",
       "\n",
       "   PaymentMode  MotherAlive  FatherAlive FatherEmployment MothersEmployment  \\\n",
       "0            1          1.0          1.0       unemployed          employed   \n",
       "1            1          1.0          1.0    self employed          employed   \n",
       "2            0          0.0          0.0            blank             blank   \n",
       "3            3          1.0          1.0    self employed        unemployed   \n",
       "4            1          1.0          0.0            blank          employed   \n",
       "\n",
       "  Guardian GuardianEmployment  FatherFinancialIncome  MotherFinancialIncome  \\\n",
       "0     none                 no                    0.0                 152000   \n",
       "1     none                 no               130000.0                 152000   \n",
       "2  brother           employed                    0.0                      0   \n",
       "3     none                 no               130000.0                  25000   \n",
       "4     none                 no                    0.0                  40000   \n",
       "\n",
       "     Amount Siblings  SiblingsFees Awarded  \n",
       "0   25000.0        2      134272.0      no  \n",
       "1  130000.0        0           0.0      no  \n",
       "2   50000.0        0           0.0      no  \n",
       "3       0.0        0           0.0      no  \n",
       "4   60000.0        0           0.0      no  "
      ]
     },
     "execution_count": 63,
     "metadata": {},
     "output_type": "execute_result"
    }
   ],
   "source": [
    "data.head()"
   ]
  },
  {
   "cell_type": "markdown",
   "metadata": {},
   "source": [
    "#### Father Employment"
   ]
  },
  {
   "cell_type": "code",
   "execution_count": 64,
   "metadata": {},
   "outputs": [
    {
     "data": {
      "text/plain": [
       "LabelEncoder()"
      ]
     },
     "execution_count": 64,
     "metadata": {},
     "output_type": "execute_result"
    }
   ],
   "source": [
    "le.fit(data['FatherEmployment'])"
   ]
  },
  {
   "cell_type": "code",
   "execution_count": 65,
   "metadata": {},
   "outputs": [
    {
     "data": {
      "text/plain": [
       "['blank',\n",
       " 'casual worker',\n",
       " 'employed',\n",
       " 'retired',\n",
       " 'self employed',\n",
       " 'unemployed']"
      ]
     },
     "execution_count": 65,
     "metadata": {},
     "output_type": "execute_result"
    }
   ],
   "source": [
    "list(le.classes_)"
   ]
  },
  {
   "cell_type": "code",
   "execution_count": 66,
   "metadata": {},
   "outputs": [],
   "source": [
    "data.FatherEmployment = le.transform(data['FatherEmployment'])"
   ]
  },
  {
   "cell_type": "markdown",
   "metadata": {},
   "source": [
    "#### Mother Employment"
   ]
  },
  {
   "cell_type": "code",
   "execution_count": 67,
   "metadata": {},
   "outputs": [
    {
     "data": {
      "text/plain": [
       "LabelEncoder()"
      ]
     },
     "execution_count": 67,
     "metadata": {},
     "output_type": "execute_result"
    }
   ],
   "source": [
    "le.fit(data['MothersEmployment'])"
   ]
  },
  {
   "cell_type": "code",
   "execution_count": 68,
   "metadata": {},
   "outputs": [
    {
     "data": {
      "text/plain": [
       "['blank',\n",
       " 'casual worker',\n",
       " 'employed',\n",
       " 'retired',\n",
       " 'self employed',\n",
       " 'unemployed']"
      ]
     },
     "execution_count": 68,
     "metadata": {},
     "output_type": "execute_result"
    }
   ],
   "source": [
    "list(le.classes_)"
   ]
  },
  {
   "cell_type": "code",
   "execution_count": 69,
   "metadata": {},
   "outputs": [],
   "source": [
    "data.MothersEmployment = le.transform(data['MothersEmployment'])"
   ]
  },
  {
   "cell_type": "markdown",
   "metadata": {},
   "source": [
    "#### Guardian Employment"
   ]
  },
  {
   "cell_type": "code",
   "execution_count": 70,
   "metadata": {},
   "outputs": [
    {
     "data": {
      "text/plain": [
       "LabelEncoder()"
      ]
     },
     "execution_count": 70,
     "metadata": {},
     "output_type": "execute_result"
    }
   ],
   "source": [
    "le.fit(data['GuardianEmployment'])"
   ]
  },
  {
   "cell_type": "code",
   "execution_count": 71,
   "metadata": {},
   "outputs": [
    {
     "data": {
      "text/plain": [
       "['casual worker', 'employed', 'no', 'retired', 'self employed', 'unemployed']"
      ]
     },
     "execution_count": 71,
     "metadata": {},
     "output_type": "execute_result"
    }
   ],
   "source": [
    "list(le.classes_)"
   ]
  },
  {
   "cell_type": "code",
   "execution_count": 72,
   "metadata": {},
   "outputs": [],
   "source": [
    "data.GuardianEmployment = le.transform(data['GuardianEmployment'])"
   ]
  },
  {
   "cell_type": "markdown",
   "metadata": {},
   "source": [
    "#### Awarded"
   ]
  },
  {
   "cell_type": "code",
   "execution_count": 73,
   "metadata": {},
   "outputs": [
    {
     "data": {
      "text/plain": [
       "LabelEncoder()"
      ]
     },
     "execution_count": 73,
     "metadata": {},
     "output_type": "execute_result"
    }
   ],
   "source": [
    "le.fit(data.Awarded)"
   ]
  },
  {
   "cell_type": "code",
   "execution_count": 74,
   "metadata": {},
   "outputs": [
    {
     "data": {
      "text/plain": [
       "['no', 'yes']"
      ]
     },
     "execution_count": 74,
     "metadata": {},
     "output_type": "execute_result"
    }
   ],
   "source": [
    "list(le.classes_)"
   ]
  },
  {
   "cell_type": "code",
   "execution_count": 75,
   "metadata": {},
   "outputs": [],
   "source": [
    "data.Awarded = le.transform(data['Awarded'])"
   ]
  },
  {
   "cell_type": "markdown",
   "metadata": {},
   "source": [
    "#### Guardian"
   ]
  },
  {
   "cell_type": "code",
   "execution_count": 76,
   "metadata": {},
   "outputs": [
    {
     "data": {
      "text/plain": [
       "LabelEncoder()"
      ]
     },
     "execution_count": 76,
     "metadata": {},
     "output_type": "execute_result"
    }
   ],
   "source": [
    "le.fit(data.Guardian)"
   ]
  },
  {
   "cell_type": "code",
   "execution_count": 77,
   "metadata": {},
   "outputs": [
    {
     "data": {
      "text/plain": [
       "['Grandmother',\n",
       " 'aunt',\n",
       " 'brother',\n",
       " 'grandfather',\n",
       " 'none',\n",
       " 'other',\n",
       " 'sister',\n",
       " 'uncle',\n",
       " 'wellwisher']"
      ]
     },
     "execution_count": 77,
     "metadata": {},
     "output_type": "execute_result"
    }
   ],
   "source": [
    "list(le.classes_)"
   ]
  },
  {
   "cell_type": "code",
   "execution_count": 78,
   "metadata": {},
   "outputs": [],
   "source": [
    "data.Guardian = le.transform(data['Guardian'])"
   ]
  },
  {
   "cell_type": "code",
   "execution_count": 79,
   "metadata": {},
   "outputs": [
    {
     "data": {
      "text/html": [
       "<div>\n",
       "<style scoped>\n",
       "    .dataframe tbody tr th:only-of-type {\n",
       "        vertical-align: middle;\n",
       "    }\n",
       "\n",
       "    .dataframe tbody tr th {\n",
       "        vertical-align: top;\n",
       "    }\n",
       "\n",
       "    .dataframe thead th {\n",
       "        text-align: right;\n",
       "    }\n",
       "</style>\n",
       "<table border=\"1\" class=\"dataframe\">\n",
       "  <thead>\n",
       "    <tr style=\"text-align: right;\">\n",
       "      <th></th>\n",
       "      <th>Courses</th>\n",
       "      <th>Grade</th>\n",
       "      <th>Year</th>\n",
       "      <th>SchoolCategory</th>\n",
       "      <th>FeesPer Year</th>\n",
       "      <th>FeeBalance</th>\n",
       "      <th>PaymentMode</th>\n",
       "      <th>MotherAlive</th>\n",
       "      <th>FatherAlive</th>\n",
       "      <th>FatherEmployment</th>\n",
       "      <th>MothersEmployment</th>\n",
       "      <th>Guardian</th>\n",
       "      <th>GuardianEmployment</th>\n",
       "      <th>FatherFinancialIncome</th>\n",
       "      <th>MotherFinancialIncome</th>\n",
       "      <th>Amount</th>\n",
       "      <th>Siblings</th>\n",
       "      <th>SiblingsFees</th>\n",
       "      <th>Awarded</th>\n",
       "    </tr>\n",
       "  </thead>\n",
       "  <tbody>\n",
       "    <tr>\n",
       "      <th>0</th>\n",
       "      <td>2</td>\n",
       "      <td>0</td>\n",
       "      <td>2014</td>\n",
       "      <td>4</td>\n",
       "      <td>134200</td>\n",
       "      <td>0.0</td>\n",
       "      <td>1</td>\n",
       "      <td>1.0</td>\n",
       "      <td>1.0</td>\n",
       "      <td>5</td>\n",
       "      <td>2</td>\n",
       "      <td>4</td>\n",
       "      <td>2</td>\n",
       "      <td>0.0</td>\n",
       "      <td>152000</td>\n",
       "      <td>25000.0</td>\n",
       "      <td>2</td>\n",
       "      <td>134272.0</td>\n",
       "      <td>0</td>\n",
       "    </tr>\n",
       "    <tr>\n",
       "      <th>1</th>\n",
       "      <td>0</td>\n",
       "      <td>2</td>\n",
       "      <td>2015</td>\n",
       "      <td>4</td>\n",
       "      <td>90000</td>\n",
       "      <td>0.0</td>\n",
       "      <td>1</td>\n",
       "      <td>1.0</td>\n",
       "      <td>1.0</td>\n",
       "      <td>4</td>\n",
       "      <td>2</td>\n",
       "      <td>4</td>\n",
       "      <td>2</td>\n",
       "      <td>130000.0</td>\n",
       "      <td>152000</td>\n",
       "      <td>130000.0</td>\n",
       "      <td>0</td>\n",
       "      <td>0.0</td>\n",
       "      <td>0</td>\n",
       "    </tr>\n",
       "    <tr>\n",
       "      <th>2</th>\n",
       "      <td>0</td>\n",
       "      <td>1</td>\n",
       "      <td>2017</td>\n",
       "      <td>0</td>\n",
       "      <td>53000</td>\n",
       "      <td>0.0</td>\n",
       "      <td>0</td>\n",
       "      <td>0.0</td>\n",
       "      <td>0.0</td>\n",
       "      <td>0</td>\n",
       "      <td>0</td>\n",
       "      <td>2</td>\n",
       "      <td>1</td>\n",
       "      <td>0.0</td>\n",
       "      <td>0</td>\n",
       "      <td>50000.0</td>\n",
       "      <td>0</td>\n",
       "      <td>0.0</td>\n",
       "      <td>0</td>\n",
       "    </tr>\n",
       "    <tr>\n",
       "      <th>3</th>\n",
       "      <td>0</td>\n",
       "      <td>4</td>\n",
       "      <td>2016</td>\n",
       "      <td>4</td>\n",
       "      <td>89186</td>\n",
       "      <td>0.0</td>\n",
       "      <td>3</td>\n",
       "      <td>1.0</td>\n",
       "      <td>1.0</td>\n",
       "      <td>4</td>\n",
       "      <td>5</td>\n",
       "      <td>4</td>\n",
       "      <td>2</td>\n",
       "      <td>130000.0</td>\n",
       "      <td>25000</td>\n",
       "      <td>0.0</td>\n",
       "      <td>0</td>\n",
       "      <td>0.0</td>\n",
       "      <td>0</td>\n",
       "    </tr>\n",
       "    <tr>\n",
       "      <th>4</th>\n",
       "      <td>2</td>\n",
       "      <td>4</td>\n",
       "      <td>2016</td>\n",
       "      <td>0</td>\n",
       "      <td>58000</td>\n",
       "      <td>166294.0</td>\n",
       "      <td>1</td>\n",
       "      <td>1.0</td>\n",
       "      <td>0.0</td>\n",
       "      <td>0</td>\n",
       "      <td>2</td>\n",
       "      <td>4</td>\n",
       "      <td>2</td>\n",
       "      <td>0.0</td>\n",
       "      <td>40000</td>\n",
       "      <td>60000.0</td>\n",
       "      <td>0</td>\n",
       "      <td>0.0</td>\n",
       "      <td>0</td>\n",
       "    </tr>\n",
       "  </tbody>\n",
       "</table>\n",
       "</div>"
      ],
      "text/plain": [
       "   Courses  Grade  Year  SchoolCategory  FeesPer Year  FeeBalance  \\\n",
       "0        2      0  2014               4        134200         0.0   \n",
       "1        0      2  2015               4         90000         0.0   \n",
       "2        0      1  2017               0         53000         0.0   \n",
       "3        0      4  2016               4         89186         0.0   \n",
       "4        2      4  2016               0         58000    166294.0   \n",
       "\n",
       "   PaymentMode  MotherAlive  FatherAlive  FatherEmployment  MothersEmployment  \\\n",
       "0            1          1.0          1.0                 5                  2   \n",
       "1            1          1.0          1.0                 4                  2   \n",
       "2            0          0.0          0.0                 0                  0   \n",
       "3            3          1.0          1.0                 4                  5   \n",
       "4            1          1.0          0.0                 0                  2   \n",
       "\n",
       "   Guardian  GuardianEmployment  FatherFinancialIncome  MotherFinancialIncome  \\\n",
       "0         4                   2                    0.0                 152000   \n",
       "1         4                   2               130000.0                 152000   \n",
       "2         2                   1                    0.0                      0   \n",
       "3         4                   2               130000.0                  25000   \n",
       "4         4                   2                    0.0                  40000   \n",
       "\n",
       "     Amount Siblings  SiblingsFees  Awarded  \n",
       "0   25000.0        2      134272.0        0  \n",
       "1  130000.0        0           0.0        0  \n",
       "2   50000.0        0           0.0        0  \n",
       "3       0.0        0           0.0        0  \n",
       "4   60000.0        0           0.0        0  "
      ]
     },
     "execution_count": 79,
     "metadata": {},
     "output_type": "execute_result"
    }
   ],
   "source": [
    "data.head()"
   ]
  },
  {
   "cell_type": "markdown",
   "metadata": {},
   "source": [
    "# Model"
   ]
  },
  {
   "cell_type": "code",
   "execution_count": 80,
   "metadata": {},
   "outputs": [
    {
     "data": {
      "text/plain": [
       "<matplotlib.axes._subplots.AxesSubplot at 0x7fb91fb3c668>"
      ]
     },
     "execution_count": 80,
     "metadata": {},
     "output_type": "execute_result"
    },
    {
     "data": {
      "image/png": "[encoded data removed]",
      "text/plain": [
       "<Figure size 432x288 with 2 Axes>"
      ]
     },
     "metadata": {
      "needs_background": "light"
     },
     "output_type": "display_data"
    }
   ],
   "source": [
    "sns.heatmap(data.corr())"
   ]
  },
  {
   "cell_type": "code",
   "execution_count": 81,
   "metadata": {},
   "outputs": [],
   "source": [
    "#X = data.drop(columns=['Awarded'])\n",
    "y=data['Awarded']\n"
   ]
  },
  {
   "cell_type": "code",
   "execution_count": 82,
   "metadata": {},
   "outputs": [],
   "source": [
    "#X=data[['Courses','Grade','FeesPer Year','FeeBalance','FatherEmployment','MothersEmployment','GuardianEmployment','FatherFinancialIncome','MotherFinancialIncome','Amount','SiblingsFees']]\n",
    "X = data.drop(columns=['Awarded','Year'])"
   ]
  },
  {
   "cell_type": "code",
   "execution_count": 83,
   "metadata": {},
   "outputs": [],
   "source": [
    "from sklearn.model_selection import train_test_split\n",
    "X_train, X_test, y_train, y_test = train_test_split(X, y, test_size=0.2)"
   ]
  },
  {
   "cell_type": "code",
   "execution_count": 84,
   "metadata": {},
   "outputs": [
    {
     "name": "stdout",
     "output_type": "stream",
     "text": [
      "Warning: xgboost.XGBClassifier is not available and will not be used by TPOT.\n"
     ]
    },
    {
     "data": {
      "application/vnd.jupyter.widget-view+json": {
       "model_id": "",
       "version_major": 2,
       "version_minor": 0
      },
      "text/plain": [
       "HBox(children=(IntProgress(value=0, description='Optimization Progress', max=300, style=ProgressStyle(descript…"
      ]
     },
     "metadata": {},
     "output_type": "display_data"
    },
    {
     "name": "stdout",
     "output_type": "stream",
     "text": [
      "Generation 1 - Current best internal CV score: 0.708421052631579\n",
      "Generation 2 - Current best internal CV score: 0.708421052631579\n",
      "Generation 3 - Current best internal CV score: 0.708421052631579\n",
      "Generation 4 - Current best internal CV score: 0.708421052631579\n",
      "Generation 5 - Current best internal CV score: 0.708421052631579\n",
      "\n",
      "Best pipeline: GradientBoostingClassifier(input_matrix, learning_rate=0.01, max_depth=8, max_features=0.45, min_samples_leaf=6, min_samples_split=4, n_estimators=100, subsample=0.6500000000000001)\n",
      "0.8\n"
     ]
    }
   ],
   "source": [
    "tpot = TPOTClassifier(generations=5, population_size=50, verbosity=2)\n",
    "tpot.fit(X_train, y_train)\n",
    "print(tpot.score(X_test, y_test))\n"
   ]
  },
  {
   "cell_type": "code",
   "execution_count": 85,
   "metadata": {},
   "outputs": [
    {
     "data": {
      "text/html": [
       "<div>\n",
       "<style scoped>\n",
       "    .dataframe tbody tr th:only-of-type {\n",
       "        vertical-align: middle;\n",
       "    }\n",
       "\n",
       "    .dataframe tbody tr th {\n",
       "        vertical-align: top;\n",
       "    }\n",
       "\n",
       "    .dataframe thead th {\n",
       "        text-align: right;\n",
       "    }\n",
       "</style>\n",
       "<table border=\"1\" class=\"dataframe\">\n",
       "  <thead>\n",
       "    <tr style=\"text-align: right;\">\n",
       "      <th></th>\n",
       "      <th>Courses</th>\n",
       "      <th>Grade</th>\n",
       "      <th>SchoolCategory</th>\n",
       "      <th>FeesPer Year</th>\n",
       "      <th>FeeBalance</th>\n",
       "      <th>PaymentMode</th>\n",
       "      <th>MotherAlive</th>\n",
       "      <th>FatherAlive</th>\n",
       "      <th>FatherEmployment</th>\n",
       "      <th>MothersEmployment</th>\n",
       "      <th>Guardian</th>\n",
       "      <th>GuardianEmployment</th>\n",
       "      <th>FatherFinancialIncome</th>\n",
       "      <th>MotherFinancialIncome</th>\n",
       "      <th>Amount</th>\n",
       "      <th>Siblings</th>\n",
       "      <th>SiblingsFees</th>\n",
       "    </tr>\n",
       "  </thead>\n",
       "  <tbody>\n",
       "    <tr>\n",
       "      <th>0</th>\n",
       "      <td>2</td>\n",
       "      <td>0</td>\n",
       "      <td>4</td>\n",
       "      <td>134200</td>\n",
       "      <td>0.0</td>\n",
       "      <td>1</td>\n",
       "      <td>1.0</td>\n",
       "      <td>1.0</td>\n",
       "      <td>5</td>\n",
       "      <td>2</td>\n",
       "      <td>4</td>\n",
       "      <td>2</td>\n",
       "      <td>0.0</td>\n",
       "      <td>152000</td>\n",
       "      <td>25000.0</td>\n",
       "      <td>2</td>\n",
       "      <td>134272.0</td>\n",
       "    </tr>\n",
       "    <tr>\n",
       "      <th>1</th>\n",
       "      <td>0</td>\n",
       "      <td>2</td>\n",
       "      <td>4</td>\n",
       "      <td>90000</td>\n",
       "      <td>0.0</td>\n",
       "      <td>1</td>\n",
       "      <td>1.0</td>\n",
       "      <td>1.0</td>\n",
       "      <td>4</td>\n",
       "      <td>2</td>\n",
       "      <td>4</td>\n",
       "      <td>2</td>\n",
       "      <td>130000.0</td>\n",
       "      <td>152000</td>\n",
       "      <td>130000.0</td>\n",
       "      <td>0</td>\n",
       "      <td>0.0</td>\n",
       "    </tr>\n",
       "    <tr>\n",
       "      <th>2</th>\n",
       "      <td>0</td>\n",
       "      <td>1</td>\n",
       "      <td>0</td>\n",
       "      <td>53000</td>\n",
       "      <td>0.0</td>\n",
       "      <td>0</td>\n",
       "      <td>0.0</td>\n",
       "      <td>0.0</td>\n",
       "      <td>0</td>\n",
       "      <td>0</td>\n",
       "      <td>2</td>\n",
       "      <td>1</td>\n",
       "      <td>0.0</td>\n",
       "      <td>0</td>\n",
       "      <td>50000.0</td>\n",
       "      <td>0</td>\n",
       "      <td>0.0</td>\n",
       "    </tr>\n",
       "    <tr>\n",
       "      <th>3</th>\n",
       "      <td>0</td>\n",
       "      <td>4</td>\n",
       "      <td>4</td>\n",
       "      <td>89186</td>\n",
       "      <td>0.0</td>\n",
       "      <td>3</td>\n",
       "      <td>1.0</td>\n",
       "      <td>1.0</td>\n",
       "      <td>4</td>\n",
       "      <td>5</td>\n",
       "      <td>4</td>\n",
       "      <td>2</td>\n",
       "      <td>130000.0</td>\n",
       "      <td>25000</td>\n",
       "      <td>0.0</td>\n",
       "      <td>0</td>\n",
       "      <td>0.0</td>\n",
       "    </tr>\n",
       "    <tr>\n",
       "      <th>4</th>\n",
       "      <td>2</td>\n",
       "      <td>4</td>\n",
       "      <td>0</td>\n",
       "      <td>58000</td>\n",
       "      <td>166294.0</td>\n",
       "      <td>1</td>\n",
       "      <td>1.0</td>\n",
       "      <td>0.0</td>\n",
       "      <td>0</td>\n",
       "      <td>2</td>\n",
       "      <td>4</td>\n",
       "      <td>2</td>\n",
       "      <td>0.0</td>\n",
       "      <td>40000</td>\n",
       "      <td>60000.0</td>\n",
       "      <td>0</td>\n",
       "      <td>0.0</td>\n",
       "    </tr>\n",
       "  </tbody>\n",
       "</table>\n",
       "</div>"
      ],
      "text/plain": [
       "   Courses  Grade  SchoolCategory  FeesPer Year  FeeBalance  PaymentMode  \\\n",
       "0        2      0               4        134200         0.0            1   \n",
       "1        0      2               4         90000         0.0            1   \n",
       "2        0      1               0         53000         0.0            0   \n",
       "3        0      4               4         89186         0.0            3   \n",
       "4        2      4               0         58000    166294.0            1   \n",
       "\n",
       "   MotherAlive  FatherAlive  FatherEmployment  MothersEmployment  Guardian  \\\n",
       "0          1.0          1.0                 5                  2         4   \n",
       "1          1.0          1.0                 4                  2         4   \n",
       "2          0.0          0.0                 0                  0         2   \n",
       "3          1.0          1.0                 4                  5         4   \n",
       "4          1.0          0.0                 0                  2         4   \n",
       "\n",
       "   GuardianEmployment  FatherFinancialIncome  MotherFinancialIncome    Amount  \\\n",
       "0                   2                    0.0                 152000   25000.0   \n",
       "1                   2               130000.0                 152000  130000.0   \n",
       "2                   1                    0.0                      0   50000.0   \n",
       "3                   2               130000.0                  25000       0.0   \n",
       "4                   2                    0.0                  40000   60000.0   \n",
       "\n",
       "  Siblings  SiblingsFees  \n",
       "0        2      134272.0  \n",
       "1        0           0.0  \n",
       "2        0           0.0  \n",
       "3        0           0.0  \n",
       "4        0           0.0  "
      ]
     },
     "execution_count": 85,
     "metadata": {},
     "output_type": "execute_result"
    }
   ],
   "source": [
    "X.head()\n"
   ]
  },
  {
   "cell_type": "code",
   "execution_count": 86,
   "metadata": {},
   "outputs": [
    {
     "name": "stdout",
     "output_type": "stream",
     "text": [
      "WARNING:tensorflow:From /home/caroline/anaconda3/lib/python3.7/site-packages/keras/backend/tensorflow_backend.py:74: The name tf.get_default_graph is deprecated. Please use tf.compat.v1.get_default_graph instead.\n",
      "\n",
      "WARNING:tensorflow:From /home/caroline/anaconda3/lib/python3.7/site-packages/keras/backend/tensorflow_backend.py:517: The name tf.placeholder is deprecated. Please use tf.compat.v1.placeholder instead.\n",
      "\n",
      "WARNING:tensorflow:From /home/caroline/anaconda3/lib/python3.7/site-packages/keras/backend/tensorflow_backend.py:4115: The name tf.random_normal is deprecated. Please use tf.random.normal instead.\n",
      "\n"
     ]
    }
   ],
   "source": [
    "classifier = Sequential()\n",
    "#First Hidden Layer\n",
    "classifier.add(Dense(4, activation='relu', kernel_initializer='random_normal', input_dim=17))\n",
    "#Second  Hidden Layer\n",
    "classifier.add(Dense(4, activation='relu', kernel_initializer='random_normal'))\n",
    "#classifier.add(Dense(4, activation='relu', kernel_initializer='random_normal'))\n",
    "#Output Layer\n",
    "classifier.add(Dense(1, activation='sigmoid', kernel_initializer='random_normal'))"
   ]
  },
  {
   "cell_type": "code",
   "execution_count": 87,
   "metadata": {},
   "outputs": [
    {
     "name": "stdout",
     "output_type": "stream",
     "text": [
      "WARNING:tensorflow:From /home/caroline/anaconda3/lib/python3.7/site-packages/keras/optimizers.py:790: The name tf.train.Optimizer is deprecated. Please use tf.compat.v1.train.Optimizer instead.\n",
      "\n",
      "WARNING:tensorflow:From /home/caroline/anaconda3/lib/python3.7/site-packages/keras/backend/tensorflow_backend.py:3376: The name tf.log is deprecated. Please use tf.math.log instead.\n",
      "\n",
      "WARNING:tensorflow:From /home/caroline/anaconda3/lib/python3.7/site-packages/tensorflow/python/ops/nn_impl.py:180: add_dispatch_support.<locals>.wrapper (from tensorflow.python.ops.array_ops) is deprecated and will be removed in a future version.\n",
      "Instructions for updating:\n",
      "Use tf.where in 2.0, which has the same broadcast rule as np.where\n"
     ]
    }
   ],
   "source": [
    "#Compiling the neural network\n",
    "classifier.compile(optimizer ='adam',loss='binary_crossentropy', metrics =['accuracy'])"
   ]
  },
  {
   "cell_type": "code",
   "execution_count": 88,
   "metadata": {},
   "outputs": [
    {
     "name": "stdout",
     "output_type": "stream",
     "text": [
      "WARNING:tensorflow:From /home/caroline/anaconda3/lib/python3.7/site-packages/keras/backend/tensorflow_backend.py:986: The name tf.assign_add is deprecated. Please use tf.compat.v1.assign_add instead.\n",
      "\n",
      "Epoch 1/150\n",
      "99/99 [==============================] - 2s 16ms/step - loss: 4.9279 - acc: 0.5152\n",
      "Epoch 2/150\n",
      "99/99 [==============================] - 0s 316us/step - loss: 3.1423 - acc: 0.5051\n",
      "Epoch 3/150\n",
      "99/99 [==============================] - 0s 334us/step - loss: 1.7223 - acc: 0.5354\n",
      "Epoch 4/150\n",
      "99/99 [==============================] - 0s 297us/step - loss: 1.1224 - acc: 0.5859\n",
      "Epoch 5/150\n",
      "99/99 [==============================] - 0s 307us/step - loss: 1.0378 - acc: 0.6667\n",
      "Epoch 6/150\n",
      "99/99 [==============================] - 0s 286us/step - loss: 0.9601 - acc: 0.6667\n",
      "Epoch 7/150\n",
      "99/99 [==============================] - 0s 315us/step - loss: 0.8940 - acc: 0.6162\n",
      "Epoch 8/150\n",
      "99/99 [==============================] - 0s 304us/step - loss: 0.8580 - acc: 0.6970\n",
      "Epoch 9/150\n",
      "99/99 [==============================] - 0s 340us/step - loss: 0.7764 - acc: 0.6263\n",
      "Epoch 10/150\n",
      "99/99 [==============================] - 0s 333us/step - loss: 0.6737 - acc: 0.6566\n",
      "Epoch 11/150\n",
      "99/99 [==============================] - 0s 408us/step - loss: 0.6685 - acc: 0.6970\n",
      "Epoch 12/150\n",
      "99/99 [==============================] - 0s 321us/step - loss: 0.6785 - acc: 0.6869\n",
      "Epoch 13/150\n",
      "99/99 [==============================] - 0s 295us/step - loss: 0.6664 - acc: 0.6364\n",
      "Epoch 14/150\n",
      "99/99 [==============================] - 0s 283us/step - loss: 0.6605 - acc: 0.6970\n",
      "Epoch 15/150\n",
      "99/99 [==============================] - 0s 290us/step - loss: 0.6423 - acc: 0.6667\n",
      "Epoch 16/150\n",
      "99/99 [==============================] - 0s 330us/step - loss: 0.6542 - acc: 0.6566\n",
      "Epoch 17/150\n",
      "99/99 [==============================] - 0s 321us/step - loss: 0.6396 - acc: 0.6970\n",
      "Epoch 18/150\n",
      "99/99 [==============================] - 0s 321us/step - loss: 0.6237 - acc: 0.7071\n",
      "Epoch 19/150\n",
      "99/99 [==============================] - 0s 314us/step - loss: 0.6347 - acc: 0.6869\n",
      "Epoch 20/150\n",
      "99/99 [==============================] - 0s 317us/step - loss: 0.6143 - acc: 0.6869\n",
      "Epoch 21/150\n",
      "99/99 [==============================] - 0s 379us/step - loss: 0.6264 - acc: 0.6667\n",
      "Epoch 22/150\n",
      "99/99 [==============================] - 0s 318us/step - loss: 0.6272 - acc: 0.6768\n",
      "Epoch 23/150\n",
      "99/99 [==============================] - 0s 311us/step - loss: 0.6107 - acc: 0.6869\n",
      "Epoch 24/150\n",
      "99/99 [==============================] - 0s 303us/step - loss: 0.6099 - acc: 0.6667\n",
      "Epoch 25/150\n",
      "99/99 [==============================] - 0s 328us/step - loss: 0.6080 - acc: 0.6768\n",
      "Epoch 26/150\n",
      "99/99 [==============================] - 0s 332us/step - loss: 0.5934 - acc: 0.6768\n",
      "Epoch 27/150\n",
      "99/99 [==============================] - 0s 293us/step - loss: 0.6170 - acc: 0.6465\n",
      "Epoch 28/150\n",
      "99/99 [==============================] - 0s 290us/step - loss: 0.6183 - acc: 0.6667\n",
      "Epoch 29/150\n",
      "99/99 [==============================] - 0s 316us/step - loss: 0.5975 - acc: 0.6768\n",
      "Epoch 30/150\n",
      "99/99 [==============================] - 0s 322us/step - loss: 0.5968 - acc: 0.6667\n",
      "Epoch 31/150\n",
      "99/99 [==============================] - 0s 325us/step - loss: 0.5924 - acc: 0.6768\n",
      "Epoch 32/150\n",
      "99/99 [==============================] - 0s 327us/step - loss: 0.5927 - acc: 0.6869\n",
      "Epoch 33/150\n",
      "99/99 [==============================] - 0s 299us/step - loss: 0.5910 - acc: 0.6667\n",
      "Epoch 34/150\n",
      "99/99 [==============================] - 0s 308us/step - loss: 0.6082 - acc: 0.6667\n",
      "Epoch 35/150\n",
      "99/99 [==============================] - 0s 282us/step - loss: 0.6000 - acc: 0.6364\n",
      "Epoch 36/150\n",
      "99/99 [==============================] - 0s 325us/step - loss: 0.5771 - acc: 0.7273\n",
      "Epoch 37/150\n",
      "99/99 [==============================] - 0s 313us/step - loss: 0.5992 - acc: 0.6869\n",
      "Epoch 38/150\n",
      "99/99 [==============================] - 0s 302us/step - loss: 0.5987 - acc: 0.7273\n",
      "Epoch 39/150\n",
      "99/99 [==============================] - 0s 315us/step - loss: 0.5817 - acc: 0.6970\n",
      "Epoch 40/150\n",
      "99/99 [==============================] - 0s 531us/step - loss: 0.5913 - acc: 0.6970\n",
      "Epoch 41/150\n",
      "99/99 [==============================] - 0s 326us/step - loss: 0.6101 - acc: 0.6768\n",
      "Epoch 42/150\n",
      "99/99 [==============================] - 0s 297us/step - loss: 0.5740 - acc: 0.7071\n",
      "Epoch 43/150\n",
      "99/99 [==============================] - 0s 312us/step - loss: 0.5587 - acc: 0.7374\n",
      "Epoch 44/150\n",
      "99/99 [==============================] - 0s 324us/step - loss: 0.5849 - acc: 0.7071\n",
      "Epoch 45/150\n",
      "99/99 [==============================] - 0s 327us/step - loss: 0.5784 - acc: 0.7172\n",
      "Epoch 46/150\n",
      "99/99 [==============================] - 0s 327us/step - loss: 0.5654 - acc: 0.6869\n",
      "Epoch 47/150\n",
      "99/99 [==============================] - 0s 345us/step - loss: 0.5486 - acc: 0.7172\n",
      "Epoch 48/150\n",
      "99/99 [==============================] - 0s 314us/step - loss: 0.5548 - acc: 0.6667\n",
      "Epoch 49/150\n",
      "99/99 [==============================] - 0s 328us/step - loss: 0.5546 - acc: 0.7172\n",
      "Epoch 50/150\n",
      "99/99 [==============================] - 0s 302us/step - loss: 0.5600 - acc: 0.6970\n",
      "Epoch 51/150\n",
      "99/99 [==============================] - 0s 328us/step - loss: 0.5560 - acc: 0.6667\n",
      "Epoch 52/150\n",
      "99/99 [==============================] - 0s 364us/step - loss: 0.5446 - acc: 0.7071\n",
      "Epoch 53/150\n",
      "99/99 [==============================] - 0s 325us/step - loss: 0.5302 - acc: 0.7071\n",
      "Epoch 54/150\n",
      "99/99 [==============================] - 0s 341us/step - loss: 0.5392 - acc: 0.6566\n",
      "Epoch 55/150\n",
      "99/99 [==============================] - 0s 317us/step - loss: 0.5352 - acc: 0.7172\n",
      "Epoch 56/150\n",
      "99/99 [==============================] - 0s 319us/step - loss: 0.5519 - acc: 0.6970\n",
      "Epoch 57/150\n",
      "99/99 [==============================] - 0s 314us/step - loss: 0.5345 - acc: 0.7475\n",
      "Epoch 58/150\n",
      "99/99 [==============================] - 0s 322us/step - loss: 0.5454 - acc: 0.6566\n",
      "Epoch 59/150\n",
      "99/99 [==============================] - 0s 361us/step - loss: 0.5356 - acc: 0.7172\n",
      "Epoch 60/150\n",
      "99/99 [==============================] - 0s 302us/step - loss: 0.5584 - acc: 0.6970\n",
      "Epoch 61/150\n",
      "99/99 [==============================] - 0s 355us/step - loss: 0.5657 - acc: 0.6768\n",
      "Epoch 62/150\n",
      "99/99 [==============================] - 0s 309us/step - loss: 0.5402 - acc: 0.6566\n",
      "Epoch 63/150\n",
      "99/99 [==============================] - 0s 306us/step - loss: 0.5480 - acc: 0.7475\n",
      "Epoch 64/150\n",
      "99/99 [==============================] - 0s 345us/step - loss: 0.5266 - acc: 0.7071\n",
      "Epoch 65/150\n",
      "99/99 [==============================] - 0s 310us/step - loss: 0.5586 - acc: 0.6970\n",
      "Epoch 66/150\n",
      "99/99 [==============================] - 0s 333us/step - loss: 0.5580 - acc: 0.6970\n",
      "Epoch 67/150\n",
      "99/99 [==============================] - 0s 342us/step - loss: 0.5194 - acc: 0.7273\n",
      "Epoch 68/150\n",
      "99/99 [==============================] - 0s 324us/step - loss: 0.5325 - acc: 0.7071\n",
      "Epoch 69/150\n",
      "99/99 [==============================] - 0s 338us/step - loss: 0.5045 - acc: 0.7172\n",
      "Epoch 70/150\n",
      "99/99 [==============================] - 0s 313us/step - loss: 0.5261 - acc: 0.7475\n",
      "Epoch 71/150\n",
      "99/99 [==============================] - 0s 505us/step - loss: 0.4837 - acc: 0.7475\n",
      "Epoch 72/150\n",
      "99/99 [==============================] - 0s 320us/step - loss: 0.5255 - acc: 0.7374\n",
      "Epoch 73/150\n",
      "99/99 [==============================] - 0s 320us/step - loss: 0.5280 - acc: 0.6970\n",
      "Epoch 74/150\n",
      "99/99 [==============================] - 0s 344us/step - loss: 0.4909 - acc: 0.7374\n",
      "Epoch 75/150\n",
      "99/99 [==============================] - 0s 330us/step - loss: 0.5301 - acc: 0.6869\n",
      "Epoch 76/150\n",
      "99/99 [==============================] - 0s 341us/step - loss: 0.4928 - acc: 0.7273\n",
      "Epoch 77/150\n",
      "99/99 [==============================] - 0s 325us/step - loss: 0.5109 - acc: 0.7273\n",
      "Epoch 78/150\n",
      "99/99 [==============================] - 0s 290us/step - loss: 0.4849 - acc: 0.7677\n",
      "Epoch 79/150\n",
      "99/99 [==============================] - 0s 336us/step - loss: 0.5171 - acc: 0.7273\n",
      "Epoch 80/150\n",
      "99/99 [==============================] - 0s 314us/step - loss: 0.5189 - acc: 0.7172\n",
      "Epoch 81/150\n",
      "99/99 [==============================] - 0s 317us/step - loss: 0.4778 - acc: 0.7475\n",
      "Epoch 82/150\n",
      "99/99 [==============================] - 0s 321us/step - loss: 0.5118 - acc: 0.7071\n",
      "Epoch 83/150\n"
     ]
    },
    {
     "name": "stdout",
     "output_type": "stream",
     "text": [
      "99/99 [==============================] - 0s 336us/step - loss: 0.5121 - acc: 0.7677\n",
      "Epoch 84/150\n",
      "99/99 [==============================] - 0s 339us/step - loss: 0.4802 - acc: 0.7273\n",
      "Epoch 85/150\n",
      "99/99 [==============================] - 0s 344us/step - loss: 0.4734 - acc: 0.7677\n",
      "Epoch 86/150\n",
      "99/99 [==============================] - 0s 307us/step - loss: 0.4586 - acc: 0.7778\n",
      "Epoch 87/150\n",
      "99/99 [==============================] - 0s 338us/step - loss: 0.4698 - acc: 0.7475\n",
      "Epoch 88/150\n",
      "99/99 [==============================] - 0s 326us/step - loss: 0.4986 - acc: 0.7475\n",
      "Epoch 89/150\n",
      "99/99 [==============================] - 0s 331us/step - loss: 0.4678 - acc: 0.7576\n",
      "Epoch 90/150\n",
      "99/99 [==============================] - 0s 302us/step - loss: 0.4555 - acc: 0.7576\n",
      "Epoch 91/150\n",
      "99/99 [==============================] - 0s 324us/step - loss: 0.4530 - acc: 0.7677\n",
      "Epoch 92/150\n",
      "99/99 [==============================] - 0s 337us/step - loss: 0.4763 - acc: 0.7374\n",
      "Epoch 93/150\n",
      "99/99 [==============================] - 0s 311us/step - loss: 0.4716 - acc: 0.7677\n",
      "Epoch 94/150\n",
      "99/99 [==============================] - 0s 344us/step - loss: 0.4506 - acc: 0.7677\n",
      "Epoch 95/150\n",
      "99/99 [==============================] - 0s 329us/step - loss: 0.4551 - acc: 0.7778\n",
      "Epoch 96/150\n",
      "99/99 [==============================] - 0s 341us/step - loss: 0.4520 - acc: 0.7677\n",
      "Epoch 97/150\n",
      "99/99 [==============================] - 0s 300us/step - loss: 0.4581 - acc: 0.7374\n",
      "Epoch 98/150\n",
      "99/99 [==============================] - 0s 328us/step - loss: 0.4987 - acc: 0.7475\n",
      "Epoch 99/150\n",
      "99/99 [==============================] - 0s 330us/step - loss: 0.4640 - acc: 0.7374\n",
      "Epoch 100/150\n",
      "99/99 [==============================] - 0s 672us/step - loss: 0.4624 - acc: 0.7374\n",
      "Epoch 101/150\n",
      "99/99 [==============================] - 0s 318us/step - loss: 0.4599 - acc: 0.7475\n",
      "Epoch 102/150\n",
      "99/99 [==============================] - 0s 352us/step - loss: 0.4526 - acc: 0.7576\n",
      "Epoch 103/150\n",
      "99/99 [==============================] - 0s 350us/step - loss: 0.4473 - acc: 0.7677\n",
      "Epoch 104/150\n",
      "99/99 [==============================] - 0s 367us/step - loss: 0.4567 - acc: 0.7677\n",
      "Epoch 105/150\n",
      "99/99 [==============================] - 0s 323us/step - loss: 0.4626 - acc: 0.7475\n",
      "Epoch 106/150\n",
      "99/99 [==============================] - 0s 320us/step - loss: 0.4461 - acc: 0.7778\n",
      "Epoch 107/150\n",
      "99/99 [==============================] - 0s 298us/step - loss: 0.4741 - acc: 0.7677\n",
      "Epoch 108/150\n",
      "99/99 [==============================] - 0s 336us/step - loss: 0.4544 - acc: 0.7677\n",
      "Epoch 109/150\n",
      "99/99 [==============================] - 0s 330us/step - loss: 0.4753 - acc: 0.7475\n",
      "Epoch 110/150\n",
      "99/99 [==============================] - 0s 284us/step - loss: 0.4566 - acc: 0.7576\n",
      "Epoch 111/150\n",
      "99/99 [==============================] - 0s 311us/step - loss: 0.4481 - acc: 0.7677\n",
      "Epoch 112/150\n",
      "99/99 [==============================] - 0s 303us/step - loss: 0.4487 - acc: 0.7475\n",
      "Epoch 113/150\n",
      "99/99 [==============================] - 0s 313us/step - loss: 0.4487 - acc: 0.7778\n",
      "Epoch 114/150\n",
      "99/99 [==============================] - 0s 305us/step - loss: 0.4436 - acc: 0.7576\n",
      "Epoch 115/150\n",
      "99/99 [==============================] - 0s 315us/step - loss: 0.4474 - acc: 0.7879\n",
      "Epoch 116/150\n",
      "99/99 [==============================] - 0s 305us/step - loss: 0.4374 - acc: 0.7576\n",
      "Epoch 117/150\n",
      "99/99 [==============================] - 0s 286us/step - loss: 0.4382 - acc: 0.7677\n",
      "Epoch 118/150\n",
      "99/99 [==============================] - 0s 299us/step - loss: 0.4400 - acc: 0.7677\n",
      "Epoch 119/150\n",
      "99/99 [==============================] - 0s 287us/step - loss: 0.4337 - acc: 0.7576\n",
      "Epoch 120/150\n",
      "99/99 [==============================] - 0s 283us/step - loss: 0.4469 - acc: 0.7374\n",
      "Epoch 121/150\n",
      "99/99 [==============================] - 0s 306us/step - loss: 0.4392 - acc: 0.7778\n",
      "Epoch 122/150\n",
      "99/99 [==============================] - 0s 312us/step - loss: 0.4371 - acc: 0.7677\n",
      "Epoch 123/150\n",
      "99/99 [==============================] - 0s 328us/step - loss: 0.4434 - acc: 0.7576\n",
      "Epoch 124/150\n",
      "99/99 [==============================] - 0s 299us/step - loss: 0.4484 - acc: 0.7677\n",
      "Epoch 125/150\n",
      "99/99 [==============================] - 0s 309us/step - loss: 0.4388 - acc: 0.7475\n",
      "Epoch 126/150\n",
      "99/99 [==============================] - 0s 292us/step - loss: 0.4395 - acc: 0.7576\n",
      "Epoch 127/150\n",
      "99/99 [==============================] - 0s 295us/step - loss: 0.4369 - acc: 0.7778\n",
      "Epoch 128/150\n",
      "99/99 [==============================] - 0s 296us/step - loss: 0.4386 - acc: 0.7576\n",
      "Epoch 129/150\n",
      "99/99 [==============================] - 0s 307us/step - loss: 0.4371 - acc: 0.7778\n",
      "Epoch 130/150\n",
      "99/99 [==============================] - 0s 301us/step - loss: 0.4351 - acc: 0.7879\n",
      "Epoch 131/150\n",
      "99/99 [==============================] - 0s 309us/step - loss: 0.4419 - acc: 0.7879\n",
      "Epoch 132/150\n",
      "99/99 [==============================] - 0s 310us/step - loss: 0.4291 - acc: 0.7778\n",
      "Epoch 133/150\n",
      "99/99 [==============================] - 0s 312us/step - loss: 0.4377 - acc: 0.7475\n",
      "Epoch 134/150\n",
      "99/99 [==============================] - 0s 298us/step - loss: 0.4429 - acc: 0.7778\n",
      "Epoch 135/150\n",
      "99/99 [==============================] - 0s 286us/step - loss: 0.4434 - acc: 0.7677\n",
      "Epoch 136/150\n",
      "99/99 [==============================] - 0s 317us/step - loss: 0.4478 - acc: 0.7576\n",
      "Epoch 137/150\n",
      "99/99 [==============================] - 0s 307us/step - loss: 0.4372 - acc: 0.7879\n",
      "Epoch 138/150\n",
      "99/99 [==============================] - 0s 316us/step - loss: 0.4578 - acc: 0.7778\n",
      "Epoch 139/150\n",
      "99/99 [==============================] - 0s 343us/step - loss: 0.4607 - acc: 0.7576\n",
      "Epoch 140/150\n",
      "99/99 [==============================] - 0s 313us/step - loss: 0.4281 - acc: 0.7778\n",
      "Epoch 141/150\n",
      "99/99 [==============================] - 0s 324us/step - loss: 0.4463 - acc: 0.7677\n",
      "Epoch 142/150\n",
      "99/99 [==============================] - 0s 346us/step - loss: 0.4314 - acc: 0.7879\n",
      "Epoch 143/150\n",
      "99/99 [==============================] - 0s 334us/step - loss: 0.4411 - acc: 0.7778\n",
      "Epoch 144/150\n",
      "99/99 [==============================] - 0s 309us/step - loss: 0.4319 - acc: 0.7879\n",
      "Epoch 145/150\n",
      "99/99 [==============================] - 0s 338us/step - loss: 0.4878 - acc: 0.7273\n",
      "Epoch 146/150\n",
      "99/99 [==============================] - 0s 305us/step - loss: 0.4591 - acc: 0.7778\n",
      "Epoch 147/150\n",
      "99/99 [==============================] - 0s 344us/step - loss: 0.4511 - acc: 0.7677\n",
      "Epoch 148/150\n",
      "99/99 [==============================] - 0s 314us/step - loss: 0.4284 - acc: 0.7879\n",
      "Epoch 149/150\n",
      "99/99 [==============================] - 0s 647us/step - loss: 0.4507 - acc: 0.7576\n",
      "Epoch 150/150\n",
      "99/99 [==============================] - 0s 314us/step - loss: 0.4195 - acc: 0.7879\n"
     ]
    },
    {
     "data": {
      "text/plain": [
       "<keras.callbacks.History at 0x7fb90c3cdef0>"
      ]
     },
     "execution_count": 88,
     "metadata": {},
     "output_type": "execute_result"
    }
   ],
   "source": [
    "#Fitting the data to the training dataset\n",
    "classifier.fit(X_train,y_train, batch_size=10, epochs=150)"
   ]
  },
  {
   "cell_type": "code",
   "execution_count": 89,
   "metadata": {},
   "outputs": [
    {
     "name": "stdout",
     "output_type": "stream",
     "text": [
      "99/99 [==============================] - 0s 2ms/step\n"
     ]
    },
    {
     "data": {
      "text/plain": [
       "[0.44451758145081877, 0.7878787878787878]"
      ]
     },
     "execution_count": 89,
     "metadata": {},
     "output_type": "execute_result"
    }
   ],
   "source": [
    "eval_model=classifier.evaluate(X_train, y_train)\n",
    "eval_model"
   ]
  },
  {
   "cell_type": "code",
   "execution_count": 90,
   "metadata": {},
   "outputs": [],
   "source": [
    "y_pred=classifier.predict(X_test)\n",
    "y_pred =(y_pred>0.5)"
   ]
  },
  {
   "cell_type": "code",
   "execution_count": 91,
   "metadata": {},
   "outputs": [
    {
     "data": {
      "text/plain": [
       "(25, 1)"
      ]
     },
     "execution_count": 91,
     "metadata": {},
     "output_type": "execute_result"
    }
   ],
   "source": [
    "y_pred.shape"
   ]
  },
  {
   "cell_type": "code",
   "execution_count": 92,
   "metadata": {},
   "outputs": [
    {
     "name": "stdout",
     "output_type": "stream",
     "text": [
      "[[10  4]\n",
      " [ 0 11]]\n"
     ]
    }
   ],
   "source": [
    "from sklearn.metrics import confusion_matrix\n",
    "cm = confusion_matrix(y_test, y_pred)\n",
    "print(cm)"
   ]
  },
  {
   "cell_type": "code",
   "execution_count": 93,
   "metadata": {},
   "outputs": [
    {
     "data": {
      "text/plain": [
       "84.0"
      ]
     },
     "execution_count": 93,
     "metadata": {},
     "output_type": "execute_result"
    }
   ],
   "source": [
    "((cm[0,0]+cm[1,1])/np.sum(cm))*100"
   ]
  },
  {
   "cell_type": "code",
   "execution_count": 94,
   "metadata": {},
   "outputs": [],
   "source": [
    "from numpy import array\n",
    "\n",
    "Xnew = array([[0,4,4,1,250000,0,4,3,0,1,1,3,3,100000,25000,2,29000,]])"
   ]
  },
  {
   "cell_type": "code",
   "execution_count": 95,
   "metadata": {},
   "outputs": [],
   "source": [
    "ynew = classifier.predict_classes(Xnew)\n"
   ]
  },
  {
   "cell_type": "code",
   "execution_count": 96,
   "metadata": {},
   "outputs": [
    {
     "name": "stdout",
     "output_type": "stream",
     "text": [
      "[[0]]\n"
     ]
    }
   ],
   "source": [
    "print(ynew)"
   ]
  },
  {
   "cell_type": "code",
   "execution_count": 97,
   "metadata": {},
   "outputs": [
    {
     "name": "stderr",
     "output_type": "stream",
     "text": [
      "/home/caroline/anaconda3/lib/python3.7/site-packages/sklearn/externals/joblib/__init__.py:15: DeprecationWarning: sklearn.externals.joblib is deprecated in 0.21 and will be removed in 0.23. Please import this functionality directly from joblib, which can be installed with: pip install joblib. If this warning is raised when loading pickled models, you may need to re-serialize those models with scikit-learn 0.21+.\n",
      "  warnings.warn(msg, category=DeprecationWarning)\n"
     ]
    },
    {
     "data": {
      "text/plain": [
       "['model.pkl']"
      ]
     },
     "execution_count": 97,
     "metadata": {},
     "output_type": "execute_result"
    }
   ],
   "source": [
    "from sklearn.externals import joblib\n",
    "\n",
    "joblib.dump(classifier, 'model.pkl')"
   ]
  },
  {
   "cell_type": "code",
   "execution_count": 98,
   "metadata": {},
   "outputs": [],
   "source": [
    "model_columns=list(X.columns)"
   ]
  },
  {
   "cell_type": "code",
   "execution_count": 99,
   "metadata": {},
   "outputs": [
    {
     "data": {
      "text/plain": [
       "['model_columns.pkl']"
      ]
     },
     "execution_count": 99,
     "metadata": {},
     "output_type": "execute_result"
    }
   ],
   "source": [
    "joblib.dump(model_columns,'model_columns.pkl')"
   ]
  },
  {
   "cell_type": "code",
   "execution_count": null,
   "metadata": {},
   "outputs": [],
   "source": []
  }
 ],
 "metadata": {
  "kernelspec": {
   "display_name": "Python 3",
   "language": "python",
   "name": "python3"
  },
  "language_info": {
   "codemirror_mode": {
    "name": "ipython",
    "version": 3
   },
   "file_extension": ".py",
   "mimetype": "text/x-python",
   "name": "python",
   "nbconvert_exporter": "python",
   "pygments_lexer": "ipython3",
   "version": "3.7.3"
  }
 },
 "nbformat": 4,
 "nbformat_minor": 2
}
