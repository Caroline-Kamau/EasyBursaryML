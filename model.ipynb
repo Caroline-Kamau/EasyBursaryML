{
 "cells": [
  {
   "cell_type": "code",
   "execution_count": 1,
   "metadata": {},
   "outputs": [],
   "source": [
    "# Is project\n"
   ]
  },
  {
   "cell_type": "code",
   "execution_count": 2,
   "metadata": {},
   "outputs": [
    {
     "name": "stderr",
     "output_type": "stream",
     "text": [
      "Using TensorFlow backend.\n"
     ]
    }
   ],
   "source": [
    "#imports\n",
    "import pandas as pd\n",
    "import numpy as np\n",
    "from sklearn.preprocessing import LabelEncoder\n",
    "import seaborn as sns\n",
    "import matplotlib.pyplot as plt\n",
    "%matplotlib inline\n",
    "from keras.models import Sequential\n",
    "from keras.layers import Dense\n",
    "from sklearn.model_selection import KFold\n",
    "from sklearn.model_selection import StratifiedKFold\n",
    "\n"
   ]
  },
  {
   "cell_type": "markdown",
   "metadata": {},
   "source": [
    "# Feature Engineering"
   ]
  },
  {
   "cell_type": "code",
   "execution_count": 3,
   "metadata": {},
   "outputs": [],
   "source": [
    "data = pd.read_csv('data.csv')"
   ]
  },
  {
   "cell_type": "code",
   "execution_count": 4,
   "metadata": {},
   "outputs": [
    {
     "data": {
      "text/html": [
       "<div>\n",
       "<style scoped>\n",
       "    .dataframe tbody tr th:only-of-type {\n",
       "        vertical-align: middle;\n",
       "    }\n",
       "\n",
       "    .dataframe tbody tr th {\n",
       "        vertical-align: top;\n",
       "    }\n",
       "\n",
       "    .dataframe thead th {\n",
       "        text-align: right;\n",
       "    }\n",
       "</style>\n",
       "<table border=\"1\" class=\"dataframe\">\n",
       "  <thead>\n",
       "    <tr style=\"text-align: right;\">\n",
       "      <th></th>\n",
       "      <th>Courses</th>\n",
       "      <th>Grade</th>\n",
       "      <th>Year</th>\n",
       "      <th>SchoolCategory</th>\n",
       "      <th>FeesPer Year</th>\n",
       "      <th>FeeBalance</th>\n",
       "      <th>PaymentMode</th>\n",
       "      <th>MotherAlive</th>\n",
       "      <th>FatherAlive</th>\n",
       "      <th>FatherEmployment</th>\n",
       "      <th>MothersEmployment</th>\n",
       "      <th>Guardian</th>\n",
       "      <th>GuardianEmployment</th>\n",
       "      <th>FatherFinancialIncome</th>\n",
       "      <th>MotherFinancialIncome</th>\n",
       "      <th>Amount</th>\n",
       "      <th>Siblings</th>\n",
       "      <th>SiblingsFees</th>\n",
       "      <th>Awarded</th>\n",
       "    </tr>\n",
       "  </thead>\n",
       "  <tbody>\n",
       "    <tr>\n",
       "      <th>0</th>\n",
       "      <td>BAIS</td>\n",
       "      <td>A</td>\n",
       "      <td>2014</td>\n",
       "      <td>private</td>\n",
       "      <td>134200</td>\n",
       "      <td>0.0</td>\n",
       "      <td>Parent</td>\n",
       "      <td>1.0</td>\n",
       "      <td>1.0</td>\n",
       "      <td>unemployed</td>\n",
       "      <td>employed</td>\n",
       "      <td>none</td>\n",
       "      <td>no</td>\n",
       "      <td>0.0</td>\n",
       "      <td>152000</td>\n",
       "      <td>NaN</td>\n",
       "      <td>2</td>\n",
       "      <td>134272.0</td>\n",
       "      <td>no</td>\n",
       "    </tr>\n",
       "    <tr>\n",
       "      <th>1</th>\n",
       "      <td>BAC</td>\n",
       "      <td>B+</td>\n",
       "      <td>2015</td>\n",
       "      <td>private</td>\n",
       "      <td>90000</td>\n",
       "      <td>0.0</td>\n",
       "      <td>Parent</td>\n",
       "      <td>1.0</td>\n",
       "      <td>1.0</td>\n",
       "      <td>self employed</td>\n",
       "      <td>employed</td>\n",
       "      <td>none</td>\n",
       "      <td>no</td>\n",
       "      <td>130000.0</td>\n",
       "      <td>152000</td>\n",
       "      <td>130000.0</td>\n",
       "      <td>7</td>\n",
       "      <td>NaN</td>\n",
       "      <td>no</td>\n",
       "    </tr>\n",
       "    <tr>\n",
       "      <th>2</th>\n",
       "      <td>BAC</td>\n",
       "      <td>B</td>\n",
       "      <td>2017</td>\n",
       "      <td>ExtraCounty</td>\n",
       "      <td>53000</td>\n",
       "      <td>0.0</td>\n",
       "      <td>Guardian</td>\n",
       "      <td>0.0</td>\n",
       "      <td>0.0</td>\n",
       "      <td>deceased</td>\n",
       "      <td>deceased</td>\n",
       "      <td>brother</td>\n",
       "      <td>employed</td>\n",
       "      <td>0.0</td>\n",
       "      <td>0</td>\n",
       "      <td>50000.0</td>\n",
       "      <td>NaN</td>\n",
       "      <td>NaN</td>\n",
       "      <td>no</td>\n",
       "    </tr>\n",
       "    <tr>\n",
       "      <th>3</th>\n",
       "      <td>BAC</td>\n",
       "      <td>C+</td>\n",
       "      <td>2016</td>\n",
       "      <td>private</td>\n",
       "      <td>89186</td>\n",
       "      <td>0.0</td>\n",
       "      <td>Scholarship</td>\n",
       "      <td>1.0</td>\n",
       "      <td>1.0</td>\n",
       "      <td>self employed</td>\n",
       "      <td>unemployed</td>\n",
       "      <td>none</td>\n",
       "      <td>self employed</td>\n",
       "      <td>130000.0</td>\n",
       "      <td>25000</td>\n",
       "      <td>0.0</td>\n",
       "      <td>2</td>\n",
       "      <td>NaN</td>\n",
       "      <td>no</td>\n",
       "    </tr>\n",
       "    <tr>\n",
       "      <th>4</th>\n",
       "      <td>BAIS</td>\n",
       "      <td>C+</td>\n",
       "      <td>2016</td>\n",
       "      <td>ExtraCounty</td>\n",
       "      <td>58000</td>\n",
       "      <td>166294.0</td>\n",
       "      <td>Parent</td>\n",
       "      <td>1.0</td>\n",
       "      <td>0.0</td>\n",
       "      <td>deceased</td>\n",
       "      <td>employed</td>\n",
       "      <td>none</td>\n",
       "      <td>no</td>\n",
       "      <td>0.0</td>\n",
       "      <td>40000</td>\n",
       "      <td>60000.0</td>\n",
       "      <td>no</td>\n",
       "      <td>NaN</td>\n",
       "      <td>no</td>\n",
       "    </tr>\n",
       "  </tbody>\n",
       "</table>\n",
       "</div>"
      ],
      "text/plain": [
       "  Courses Grade  Year SchoolCategory  FeesPer Year  FeeBalance  PaymentMode  \\\n",
       "0    BAIS     A  2014        private        134200         0.0       Parent   \n",
       "1     BAC    B+  2015        private         90000         0.0       Parent   \n",
       "2     BAC     B  2017    ExtraCounty         53000         0.0     Guardian   \n",
       "3     BAC    C+  2016        private         89186         0.0  Scholarship   \n",
       "4    BAIS    C+  2016    ExtraCounty         58000    166294.0       Parent   \n",
       "\n",
       "   MotherAlive  FatherAlive FatherEmployment MothersEmployment Guardian  \\\n",
       "0          1.0          1.0       unemployed          employed     none   \n",
       "1          1.0          1.0    self employed          employed     none   \n",
       "2          0.0          0.0         deceased          deceased  brother   \n",
       "3          1.0          1.0    self employed        unemployed     none   \n",
       "4          1.0          0.0         deceased          employed     none   \n",
       "\n",
       "  GuardianEmployment  FatherFinancialIncome  MotherFinancialIncome    Amount  \\\n",
       "0                 no                    0.0                 152000       NaN   \n",
       "1                 no               130000.0                 152000  130000.0   \n",
       "2           employed                    0.0                      0   50000.0   \n",
       "3      self employed               130000.0                  25000       0.0   \n",
       "4                 no                    0.0                  40000   60000.0   \n",
       "\n",
       "  Siblings  SiblingsFees Awarded  \n",
       "0        2      134272.0      no  \n",
       "1        7           NaN      no  \n",
       "2      NaN           NaN      no  \n",
       "3        2           NaN      no  \n",
       "4       no           NaN      no  "
      ]
     },
     "execution_count": 4,
     "metadata": {},
     "output_type": "execute_result"
    }
   ],
   "source": [
    "data.head()"
   ]
  },
  {
   "cell_type": "code",
   "execution_count": 5,
   "metadata": {},
   "outputs": [
    {
     "data": {
      "text/plain": [
       "Courses                   object\n",
       "Grade                     object\n",
       "Year                       int64\n",
       "SchoolCategory            object\n",
       "FeesPer Year               int64\n",
       "FeeBalance               float64\n",
       "PaymentMode               object\n",
       "MotherAlive              float64\n",
       "FatherAlive              float64\n",
       "FatherEmployment          object\n",
       "MothersEmployment         object\n",
       "Guardian                  object\n",
       "GuardianEmployment        object\n",
       "FatherFinancialIncome    float64\n",
       "MotherFinancialIncome      int64\n",
       "Amount                   float64\n",
       "Siblings                  object\n",
       "SiblingsFees             float64\n",
       "Awarded                   object\n",
       "dtype: object"
      ]
     },
     "execution_count": 5,
     "metadata": {},
     "output_type": "execute_result"
    }
   ],
   "source": [
    "data.dtypes"
   ]
  },
  {
   "cell_type": "code",
   "execution_count": 6,
   "metadata": {},
   "outputs": [
    {
     "data": {
      "text/plain": [
       "Courses                   0\n",
       "Grade                     1\n",
       "Year                      0\n",
       "SchoolCategory           11\n",
       "FeesPer Year              0\n",
       "FeeBalance                1\n",
       "PaymentMode               7\n",
       "MotherAlive              14\n",
       "FatherAlive              20\n",
       "FatherEmployment         21\n",
       "MothersEmployment        11\n",
       "Guardian                  2\n",
       "GuardianEmployment        3\n",
       "FatherFinancialIncome     3\n",
       "MotherFinancialIncome     0\n",
       "Amount                   23\n",
       "Siblings                 23\n",
       "SiblingsFees             63\n",
       "Awarded                   0\n",
       "dtype: int64"
      ]
     },
     "execution_count": 6,
     "metadata": {},
     "output_type": "execute_result"
    }
   ],
   "source": [
    "data.isnull().sum()"
   ]
  },
  {
   "cell_type": "markdown",
   "metadata": {},
   "source": [
    "### Null values"
   ]
  },
  {
   "cell_type": "markdown",
   "metadata": {},
   "source": [
    "#### Grade column"
   ]
  },
  {
   "cell_type": "code",
   "execution_count": 7,
   "metadata": {},
   "outputs": [],
   "source": [
    "data['Grade'].fillna('B' ,inplace=True)\n"
   ]
  },
  {
   "cell_type": "code",
   "execution_count": 8,
   "metadata": {},
   "outputs": [
    {
     "data": {
      "text/plain": [
       "B     61\n",
       "C+    30\n",
       "B+    14\n",
       "A     12\n",
       "c      4\n",
       "C      2\n",
       "D+     1\n",
       "Name: Grade, dtype: int64"
      ]
     },
     "execution_count": 8,
     "metadata": {},
     "output_type": "execute_result"
    }
   ],
   "source": [
    "data['Grade'].value_counts()"
   ]
  },
  {
   "cell_type": "markdown",
   "metadata": {},
   "source": [
    "#### School category"
   ]
  },
  {
   "cell_type": "code",
   "execution_count": 9,
   "metadata": {},
   "outputs": [
    {
     "data": {
      "text/plain": [
       "private        47\n",
       "county         30\n",
       "ExtraCounty    19\n",
       "national       12\n",
       "other           5\n",
       "Name: SchoolCategory, dtype: int64"
      ]
     },
     "execution_count": 9,
     "metadata": {},
     "output_type": "execute_result"
    }
   ],
   "source": [
    "data['SchoolCategory'].value_counts()"
   ]
  },
  {
   "cell_type": "code",
   "execution_count": 10,
   "metadata": {},
   "outputs": [],
   "source": [
    "data['SchoolCategory'].fillna('private', inplace=True)"
   ]
  },
  {
   "cell_type": "markdown",
   "metadata": {},
   "source": [
    "#### Mother Alive"
   ]
  },
  {
   "cell_type": "code",
   "execution_count": 11,
   "metadata": {},
   "outputs": [],
   "source": [
    "data['MotherAlive'] = np.where((data['MothersEmployment'].notna()), #1 means alive\n",
    "                                   1,data['MotherAlive'])\n"
   ]
  },
  {
   "cell_type": "code",
   "execution_count": 12,
   "metadata": {},
   "outputs": [],
   "source": [
    "data['MotherAlive'] = np.where(data['MothersEmployment']==\"deceased\", #0 means deceased\n",
    "                                   0,data['MotherAlive'])\n"
   ]
  },
  {
   "cell_type": "code",
   "execution_count": 13,
   "metadata": {},
   "outputs": [],
   "source": [
    "data['MotherAlive'].fillna(2, inplace=True) #2 means it was left blank"
   ]
  },
  {
   "cell_type": "markdown",
   "metadata": {},
   "source": [
    "#### Father Alive"
   ]
  },
  {
   "cell_type": "code",
   "execution_count": 14,
   "metadata": {},
   "outputs": [],
   "source": [
    "data['FatherAlive'] = np.where((data['FatherEmployment'].notna()),  #1 means alive\n",
    "                                   1,data['FatherAlive'])\n"
   ]
  },
  {
   "cell_type": "code",
   "execution_count": 15,
   "metadata": {},
   "outputs": [],
   "source": [
    "data['FatherAlive'] = np.where(data['FatherEmployment']==\"deceased\",  #0 means deceased\n",
    "                                   0,data['FatherAlive'])\n"
   ]
  },
  {
   "cell_type": "code",
   "execution_count": 16,
   "metadata": {},
   "outputs": [],
   "source": [
    "data['FatherAlive'].fillna(2, inplace=True) #2 means it was left blank"
   ]
  },
  {
   "cell_type": "markdown",
   "metadata": {},
   "source": [
    "#### fee balance"
   ]
  },
  {
   "cell_type": "code",
   "execution_count": 17,
   "metadata": {},
   "outputs": [],
   "source": [
    "data['FeeBalance'].fillna(0, inplace=True)"
   ]
  },
  {
   "cell_type": "markdown",
   "metadata": {},
   "source": [
    "#### siblings"
   ]
  },
  {
   "cell_type": "code",
   "execution_count": 18,
   "metadata": {},
   "outputs": [],
   "source": [
    "data['Siblings'] = np.where((data['SiblingsFees'].isnull()),\n",
    "                                   0,data['Siblings'])\n"
   ]
  },
  {
   "cell_type": "code",
   "execution_count": 19,
   "metadata": {},
   "outputs": [],
   "source": [
    "smode_filler = data['Siblings'].mode()"
   ]
  },
  {
   "cell_type": "code",
   "execution_count": 20,
   "metadata": {},
   "outputs": [],
   "source": [
    "data['Siblings'].fillna(smode_filler, inplace=True)"
   ]
  },
  {
   "cell_type": "code",
   "execution_count": 21,
   "metadata": {},
   "outputs": [],
   "source": [
    "data['Siblings'].fillna(0, inplace= True)"
   ]
  },
  {
   "cell_type": "markdown",
   "metadata": {},
   "source": [
    "#### siblings fees"
   ]
  },
  {
   "cell_type": "code",
   "execution_count": 22,
   "metadata": {},
   "outputs": [],
   "source": [
    "data['SiblingsFees'] = np.where(data['Siblings']==0,\n",
    "                                   0,data['SiblingsFees'])\n"
   ]
  },
  {
   "cell_type": "markdown",
   "metadata": {},
   "source": [
    "#### Payment  Mode"
   ]
  },
  {
   "cell_type": "code",
   "execution_count": 23,
   "metadata": {},
   "outputs": [
    {
     "data": {
      "text/plain": [
       "Parent                    61\n",
       "Scholarship               31\n",
       "Guardian                  16\n",
       "Parent and Scholarship     3\n",
       "relative                   3\n",
       "wellwisher                 2\n",
       "fundraising                1\n",
       "Name: PaymentMode, dtype: int64"
      ]
     },
     "execution_count": 23,
     "metadata": {},
     "output_type": "execute_result"
    }
   ],
   "source": [
    "data['PaymentMode'].value_counts()"
   ]
  },
  {
   "cell_type": "code",
   "execution_count": 24,
   "metadata": {},
   "outputs": [],
   "source": [
    "data['PaymentMode'].fillna('Parent', inplace=True)"
   ]
  },
  {
   "cell_type": "markdown",
   "metadata": {},
   "source": [
    "#### Father Employment Status"
   ]
  },
  {
   "cell_type": "code",
   "execution_count": 25,
   "metadata": {},
   "outputs": [
    {
     "data": {
      "text/plain": [
       "employed         30\n",
       "deceased         29\n",
       "self employed    23\n",
       "unemployed        9\n",
       "retired           5\n",
       "casual worker     4\n",
       "blank             3\n",
       "Name: FatherEmployment, dtype: int64"
      ]
     },
     "execution_count": 25,
     "metadata": {},
     "output_type": "execute_result"
    }
   ],
   "source": [
    "data['FatherEmployment'].value_counts()"
   ]
  },
  {
   "cell_type": "code",
   "execution_count": 26,
   "metadata": {},
   "outputs": [],
   "source": [
    "data['FatherEmployment'] = np.where(data['FatherAlive']==0,  #0 means deceased\n",
    "                                   \"blank\",data['FatherEmployment'])"
   ]
  },
  {
   "cell_type": "code",
   "execution_count": 27,
   "metadata": {},
   "outputs": [],
   "source": [
    "data['FatherEmployment'] = np.where(data['FatherAlive']==2,  #2 means fatherAlive was left blank\n",
    "                                   \"blank\",data['FatherEmployment'])"
   ]
  },
  {
   "cell_type": "code",
   "execution_count": 28,
   "metadata": {},
   "outputs": [],
   "source": [
    "data['FatherEmployment'].fillna('employed', inplace = True)"
   ]
  },
  {
   "cell_type": "markdown",
   "metadata": {},
   "source": [
    "#### Mother Employment Status"
   ]
  },
  {
   "cell_type": "code",
   "execution_count": 29,
   "metadata": {},
   "outputs": [
    {
     "data": {
      "text/plain": [
       "employed         34\n",
       "self employed    32\n",
       "unemployed       21\n",
       "deceased         14\n",
       "casual worker    10\n",
       "retired           2\n",
       "Name: MothersEmployment, dtype: int64"
      ]
     },
     "execution_count": 29,
     "metadata": {},
     "output_type": "execute_result"
    }
   ],
   "source": [
    "data['MothersEmployment'].value_counts()"
   ]
  },
  {
   "cell_type": "code",
   "execution_count": 30,
   "metadata": {},
   "outputs": [],
   "source": [
    "data['MothersEmployment'] = np.where(data['MotherAlive']==0,  #0 means deceased\n",
    "                                   \"blank\",data['MothersEmployment'])"
   ]
  },
  {
   "cell_type": "code",
   "execution_count": 31,
   "metadata": {},
   "outputs": [],
   "source": [
    "data['MothersEmployment'] = np.where(data['MotherAlive']==2,  #2 means MotherAlive was left blank\n",
    "                                   \"blank\",data['MothersEmployment'])"
   ]
  },
  {
   "cell_type": "code",
   "execution_count": 32,
   "metadata": {},
   "outputs": [],
   "source": [
    "data['MothersEmployment'].fillna ('employed',inplace = True)"
   ]
  },
  {
   "cell_type": "markdown",
   "metadata": {},
   "source": [
    "#### Guardian"
   ]
  },
  {
   "cell_type": "code",
   "execution_count": 33,
   "metadata": {},
   "outputs": [
    {
     "data": {
      "text/plain": [
       "none           93\n",
       "other           7\n",
       "uncle           6\n",
       "brother         5\n",
       "aunt            5\n",
       "sister          3\n",
       "Grandmother     1\n",
       "grandfather     1\n",
       "wellwisher      1\n",
       "Name: Guardian, dtype: int64"
      ]
     },
     "execution_count": 33,
     "metadata": {},
     "output_type": "execute_result"
    }
   ],
   "source": [
    "data['Guardian'].value_counts()"
   ]
  },
  {
   "cell_type": "code",
   "execution_count": 34,
   "metadata": {},
   "outputs": [],
   "source": [
    "data['Guardian'].fillna('none', inplace = True)"
   ]
  },
  {
   "cell_type": "markdown",
   "metadata": {},
   "source": [
    "#### Guardian Employment"
   ]
  },
  {
   "cell_type": "code",
   "execution_count": 35,
   "metadata": {},
   "outputs": [
    {
     "data": {
      "text/plain": [
       "no               92\n",
       "employed         17\n",
       "self employed     8\n",
       "retired           2\n",
       "casual worker     1\n",
       "unemployed        1\n",
       "Name: GuardianEmployment, dtype: int64"
      ]
     },
     "execution_count": 35,
     "metadata": {},
     "output_type": "execute_result"
    }
   ],
   "source": [
    "data['GuardianEmployment'].value_counts()"
   ]
  },
  {
   "cell_type": "code",
   "execution_count": 36,
   "metadata": {},
   "outputs": [],
   "source": [
    "data['GuardianEmployment'] = np.where(data['Guardian']==\"none\",  \n",
    "                                   \"no\",data['GuardianEmployment'])"
   ]
  },
  {
   "cell_type": "code",
   "execution_count": 37,
   "metadata": {},
   "outputs": [],
   "source": [
    "data['GuardianEmployment'].fillna('no', inplace= True)"
   ]
  },
  {
   "cell_type": "markdown",
   "metadata": {},
   "source": [
    "#### Financial Income"
   ]
  },
  {
   "cell_type": "code",
   "execution_count": 38,
   "metadata": {},
   "outputs": [],
   "source": [
    "data['MotherFinancialIncome'] = np.where(data['MothersEmployment']==\"deceased\",\n",
    "                                   0,data['MotherFinancialIncome'])"
   ]
  },
  {
   "cell_type": "code",
   "execution_count": 39,
   "metadata": {},
   "outputs": [],
   "source": [
    "data['FatherFinancialIncome'] = np.where(data['FatherEmployment']==\"deceased\",\n",
    "                                   0,data['FatherFinancialIncome'])"
   ]
  },
  {
   "cell_type": "code",
   "execution_count": 40,
   "metadata": {},
   "outputs": [],
   "source": [
    "data['FatherFinancialIncome'] = np.where(data['FatherEmployment']==\"unemployed\",\n",
    "                                   0,data['FatherFinancialIncome'])"
   ]
  },
  {
   "cell_type": "code",
   "execution_count": 41,
   "metadata": {},
   "outputs": [],
   "source": [
    "median_filler = data['FatherFinancialIncome'].median()"
   ]
  },
  {
   "cell_type": "code",
   "execution_count": 42,
   "metadata": {},
   "outputs": [],
   "source": [
    "data['FatherFinancialIncome'].fillna(median_filler, inplace=True)"
   ]
  },
  {
   "cell_type": "markdown",
   "metadata": {},
   "source": [
    "#### Amount Able to pay"
   ]
  },
  {
   "cell_type": "code",
   "execution_count": 43,
   "metadata": {},
   "outputs": [],
   "source": [
    "amount_filler = data['Amount'].median()"
   ]
  },
  {
   "cell_type": "code",
   "execution_count": 44,
   "metadata": {},
   "outputs": [],
   "source": [
    "data['Amount'].fillna(amount_filler, inplace=True)"
   ]
  },
  {
   "cell_type": "code",
   "execution_count": 45,
   "metadata": {},
   "outputs": [
    {
     "data": {
      "text/plain": [
       "Courses                  0\n",
       "Grade                    0\n",
       "Year                     0\n",
       "SchoolCategory           0\n",
       "FeesPer Year             0\n",
       "FeeBalance               0\n",
       "PaymentMode              0\n",
       "MotherAlive              0\n",
       "FatherAlive              0\n",
       "FatherEmployment         0\n",
       "MothersEmployment        0\n",
       "Guardian                 0\n",
       "GuardianEmployment       0\n",
       "FatherFinancialIncome    0\n",
       "MotherFinancialIncome    0\n",
       "Amount                   0\n",
       "Siblings                 0\n",
       "SiblingsFees             0\n",
       "Awarded                  0\n",
       "dtype: int64"
      ]
     },
     "execution_count": 45,
     "metadata": {},
     "output_type": "execute_result"
    }
   ],
   "source": [
    "data.isnull().sum()"
   ]
  },
  {
   "cell_type": "markdown",
   "metadata": {},
   "source": [
    "### Encoding"
   ]
  },
  {
   "cell_type": "markdown",
   "metadata": {},
   "source": [
    "#### Courses"
   ]
  },
  {
   "cell_type": "code",
   "execution_count": 46,
   "metadata": {},
   "outputs": [
    {
     "data": {
      "text/plain": [
       "LabelEncoder()"
      ]
     },
     "execution_count": 46,
     "metadata": {},
     "output_type": "execute_result"
    }
   ],
   "source": [
    "\n",
    "le = LabelEncoder()\n",
    "le.fit(data['Courses'])\n"
   ]
  },
  {
   "cell_type": "code",
   "execution_count": 47,
   "metadata": {},
   "outputs": [
    {
     "data": {
      "text/plain": [
       "['BAC',\n",
       " 'BADSP',\n",
       " 'BAIS',\n",
       " 'BBSACT',\n",
       " 'BBSFE',\n",
       " 'BBSFEN',\n",
       " 'BCOM',\n",
       " 'BHM',\n",
       " 'CFA',\n",
       " 'CPA',\n",
       " 'DBM',\n",
       " 'LLB']"
      ]
     },
     "execution_count": 47,
     "metadata": {},
     "output_type": "execute_result"
    }
   ],
   "source": [
    "list(le.classes_)\n"
   ]
  },
  {
   "cell_type": "code",
   "execution_count": 48,
   "metadata": {},
   "outputs": [],
   "source": [
    "data.Courses = le.transform(data['Courses']) \n"
   ]
  },
  {
   "cell_type": "code",
   "execution_count": 49,
   "metadata": {},
   "outputs": [
    {
     "data": {
      "text/html": [
       "<div>\n",
       "<style scoped>\n",
       "    .dataframe tbody tr th:only-of-type {\n",
       "        vertical-align: middle;\n",
       "    }\n",
       "\n",
       "    .dataframe tbody tr th {\n",
       "        vertical-align: top;\n",
       "    }\n",
       "\n",
       "    .dataframe thead th {\n",
       "        text-align: right;\n",
       "    }\n",
       "</style>\n",
       "<table border=\"1\" class=\"dataframe\">\n",
       "  <thead>\n",
       "    <tr style=\"text-align: right;\">\n",
       "      <th></th>\n",
       "      <th>Courses</th>\n",
       "      <th>Grade</th>\n",
       "      <th>Year</th>\n",
       "      <th>SchoolCategory</th>\n",
       "      <th>FeesPer Year</th>\n",
       "      <th>FeeBalance</th>\n",
       "      <th>PaymentMode</th>\n",
       "      <th>MotherAlive</th>\n",
       "      <th>FatherAlive</th>\n",
       "      <th>FatherEmployment</th>\n",
       "      <th>MothersEmployment</th>\n",
       "      <th>Guardian</th>\n",
       "      <th>GuardianEmployment</th>\n",
       "      <th>FatherFinancialIncome</th>\n",
       "      <th>MotherFinancialIncome</th>\n",
       "      <th>Amount</th>\n",
       "      <th>Siblings</th>\n",
       "      <th>SiblingsFees</th>\n",
       "      <th>Awarded</th>\n",
       "    </tr>\n",
       "  </thead>\n",
       "  <tbody>\n",
       "    <tr>\n",
       "      <th>0</th>\n",
       "      <td>2</td>\n",
       "      <td>A</td>\n",
       "      <td>2014</td>\n",
       "      <td>private</td>\n",
       "      <td>134200</td>\n",
       "      <td>0.0</td>\n",
       "      <td>Parent</td>\n",
       "      <td>1.0</td>\n",
       "      <td>1.0</td>\n",
       "      <td>unemployed</td>\n",
       "      <td>employed</td>\n",
       "      <td>none</td>\n",
       "      <td>no</td>\n",
       "      <td>0.0</td>\n",
       "      <td>152000</td>\n",
       "      <td>25000.0</td>\n",
       "      <td>2</td>\n",
       "      <td>134272.0</td>\n",
       "      <td>no</td>\n",
       "    </tr>\n",
       "    <tr>\n",
       "      <th>1</th>\n",
       "      <td>0</td>\n",
       "      <td>B+</td>\n",
       "      <td>2015</td>\n",
       "      <td>private</td>\n",
       "      <td>90000</td>\n",
       "      <td>0.0</td>\n",
       "      <td>Parent</td>\n",
       "      <td>1.0</td>\n",
       "      <td>1.0</td>\n",
       "      <td>self employed</td>\n",
       "      <td>employed</td>\n",
       "      <td>none</td>\n",
       "      <td>no</td>\n",
       "      <td>130000.0</td>\n",
       "      <td>152000</td>\n",
       "      <td>130000.0</td>\n",
       "      <td>0</td>\n",
       "      <td>0.0</td>\n",
       "      <td>no</td>\n",
       "    </tr>\n",
       "    <tr>\n",
       "      <th>2</th>\n",
       "      <td>0</td>\n",
       "      <td>B</td>\n",
       "      <td>2017</td>\n",
       "      <td>ExtraCounty</td>\n",
       "      <td>53000</td>\n",
       "      <td>0.0</td>\n",
       "      <td>Guardian</td>\n",
       "      <td>0.0</td>\n",
       "      <td>0.0</td>\n",
       "      <td>blank</td>\n",
       "      <td>blank</td>\n",
       "      <td>brother</td>\n",
       "      <td>employed</td>\n",
       "      <td>0.0</td>\n",
       "      <td>0</td>\n",
       "      <td>50000.0</td>\n",
       "      <td>0</td>\n",
       "      <td>0.0</td>\n",
       "      <td>no</td>\n",
       "    </tr>\n",
       "    <tr>\n",
       "      <th>3</th>\n",
       "      <td>0</td>\n",
       "      <td>C+</td>\n",
       "      <td>2016</td>\n",
       "      <td>private</td>\n",
       "      <td>89186</td>\n",
       "      <td>0.0</td>\n",
       "      <td>Scholarship</td>\n",
       "      <td>1.0</td>\n",
       "      <td>1.0</td>\n",
       "      <td>self employed</td>\n",
       "      <td>unemployed</td>\n",
       "      <td>none</td>\n",
       "      <td>no</td>\n",
       "      <td>130000.0</td>\n",
       "      <td>25000</td>\n",
       "      <td>0.0</td>\n",
       "      <td>0</td>\n",
       "      <td>0.0</td>\n",
       "      <td>no</td>\n",
       "    </tr>\n",
       "    <tr>\n",
       "      <th>4</th>\n",
       "      <td>2</td>\n",
       "      <td>C+</td>\n",
       "      <td>2016</td>\n",
       "      <td>ExtraCounty</td>\n",
       "      <td>58000</td>\n",
       "      <td>166294.0</td>\n",
       "      <td>Parent</td>\n",
       "      <td>1.0</td>\n",
       "      <td>0.0</td>\n",
       "      <td>blank</td>\n",
       "      <td>employed</td>\n",
       "      <td>none</td>\n",
       "      <td>no</td>\n",
       "      <td>0.0</td>\n",
       "      <td>40000</td>\n",
       "      <td>60000.0</td>\n",
       "      <td>0</td>\n",
       "      <td>0.0</td>\n",
       "      <td>no</td>\n",
       "    </tr>\n",
       "  </tbody>\n",
       "</table>\n",
       "</div>"
      ],
      "text/plain": [
       "   Courses Grade  Year SchoolCategory  FeesPer Year  FeeBalance  PaymentMode  \\\n",
       "0        2     A  2014        private        134200         0.0       Parent   \n",
       "1        0    B+  2015        private         90000         0.0       Parent   \n",
       "2        0     B  2017    ExtraCounty         53000         0.0     Guardian   \n",
       "3        0    C+  2016        private         89186         0.0  Scholarship   \n",
       "4        2    C+  2016    ExtraCounty         58000    166294.0       Parent   \n",
       "\n",
       "   MotherAlive  FatherAlive FatherEmployment MothersEmployment Guardian  \\\n",
       "0          1.0          1.0       unemployed          employed     none   \n",
       "1          1.0          1.0    self employed          employed     none   \n",
       "2          0.0          0.0            blank             blank  brother   \n",
       "3          1.0          1.0    self employed        unemployed     none   \n",
       "4          1.0          0.0            blank          employed     none   \n",
       "\n",
       "  GuardianEmployment  FatherFinancialIncome  MotherFinancialIncome    Amount  \\\n",
       "0                 no                    0.0                 152000   25000.0   \n",
       "1                 no               130000.0                 152000  130000.0   \n",
       "2           employed                    0.0                      0   50000.0   \n",
       "3                 no               130000.0                  25000       0.0   \n",
       "4                 no                    0.0                  40000   60000.0   \n",
       "\n",
       "  Siblings  SiblingsFees Awarded  \n",
       "0        2      134272.0      no  \n",
       "1        0           0.0      no  \n",
       "2        0           0.0      no  \n",
       "3        0           0.0      no  \n",
       "4        0           0.0      no  "
      ]
     },
     "execution_count": 49,
     "metadata": {},
     "output_type": "execute_result"
    }
   ],
   "source": [
    "data.head()"
   ]
  },
  {
   "cell_type": "markdown",
   "metadata": {},
   "source": [
    "#### Grade"
   ]
  },
  {
   "cell_type": "code",
   "execution_count": 50,
   "metadata": {},
   "outputs": [
    {
     "data": {
      "text/plain": [
       "LabelEncoder()"
      ]
     },
     "execution_count": 50,
     "metadata": {},
     "output_type": "execute_result"
    }
   ],
   "source": [
    "le.fit(data['Grade'])\n"
   ]
  },
  {
   "cell_type": "code",
   "execution_count": 51,
   "metadata": {},
   "outputs": [
    {
     "data": {
      "text/plain": [
       "['A', 'B', 'B+', 'C', 'C+', 'D+', 'c']"
      ]
     },
     "execution_count": 51,
     "metadata": {},
     "output_type": "execute_result"
    }
   ],
   "source": [
    "list(le.classes_)"
   ]
  },
  {
   "cell_type": "code",
   "execution_count": 52,
   "metadata": {},
   "outputs": [],
   "source": [
    "data.Grade = le.transform(data['Grade'])"
   ]
  },
  {
   "cell_type": "code",
   "execution_count": 53,
   "metadata": {},
   "outputs": [
    {
     "data": {
      "text/html": [
       "<div>\n",
       "<style scoped>\n",
       "    .dataframe tbody tr th:only-of-type {\n",
       "        vertical-align: middle;\n",
       "    }\n",
       "\n",
       "    .dataframe tbody tr th {\n",
       "        vertical-align: top;\n",
       "    }\n",
       "\n",
       "    .dataframe thead th {\n",
       "        text-align: right;\n",
       "    }\n",
       "</style>\n",
       "<table border=\"1\" class=\"dataframe\">\n",
       "  <thead>\n",
       "    <tr style=\"text-align: right;\">\n",
       "      <th></th>\n",
       "      <th>Courses</th>\n",
       "      <th>Grade</th>\n",
       "      <th>Year</th>\n",
       "      <th>SchoolCategory</th>\n",
       "      <th>FeesPer Year</th>\n",
       "      <th>FeeBalance</th>\n",
       "      <th>PaymentMode</th>\n",
       "      <th>MotherAlive</th>\n",
       "      <th>FatherAlive</th>\n",
       "      <th>FatherEmployment</th>\n",
       "      <th>MothersEmployment</th>\n",
       "      <th>Guardian</th>\n",
       "      <th>GuardianEmployment</th>\n",
       "      <th>FatherFinancialIncome</th>\n",
       "      <th>MotherFinancialIncome</th>\n",
       "      <th>Amount</th>\n",
       "      <th>Siblings</th>\n",
       "      <th>SiblingsFees</th>\n",
       "      <th>Awarded</th>\n",
       "    </tr>\n",
       "  </thead>\n",
       "  <tbody>\n",
       "    <tr>\n",
       "      <th>0</th>\n",
       "      <td>2</td>\n",
       "      <td>0</td>\n",
       "      <td>2014</td>\n",
       "      <td>private</td>\n",
       "      <td>134200</td>\n",
       "      <td>0.0</td>\n",
       "      <td>Parent</td>\n",
       "      <td>1.0</td>\n",
       "      <td>1.0</td>\n",
       "      <td>unemployed</td>\n",
       "      <td>employed</td>\n",
       "      <td>none</td>\n",
       "      <td>no</td>\n",
       "      <td>0.0</td>\n",
       "      <td>152000</td>\n",
       "      <td>25000.0</td>\n",
       "      <td>2</td>\n",
       "      <td>134272.0</td>\n",
       "      <td>no</td>\n",
       "    </tr>\n",
       "    <tr>\n",
       "      <th>1</th>\n",
       "      <td>0</td>\n",
       "      <td>2</td>\n",
       "      <td>2015</td>\n",
       "      <td>private</td>\n",
       "      <td>90000</td>\n",
       "      <td>0.0</td>\n",
       "      <td>Parent</td>\n",
       "      <td>1.0</td>\n",
       "      <td>1.0</td>\n",
       "      <td>self employed</td>\n",
       "      <td>employed</td>\n",
       "      <td>none</td>\n",
       "      <td>no</td>\n",
       "      <td>130000.0</td>\n",
       "      <td>152000</td>\n",
       "      <td>130000.0</td>\n",
       "      <td>0</td>\n",
       "      <td>0.0</td>\n",
       "      <td>no</td>\n",
       "    </tr>\n",
       "    <tr>\n",
       "      <th>2</th>\n",
       "      <td>0</td>\n",
       "      <td>1</td>\n",
       "      <td>2017</td>\n",
       "      <td>ExtraCounty</td>\n",
       "      <td>53000</td>\n",
       "      <td>0.0</td>\n",
       "      <td>Guardian</td>\n",
       "      <td>0.0</td>\n",
       "      <td>0.0</td>\n",
       "      <td>blank</td>\n",
       "      <td>blank</td>\n",
       "      <td>brother</td>\n",
       "      <td>employed</td>\n",
       "      <td>0.0</td>\n",
       "      <td>0</td>\n",
       "      <td>50000.0</td>\n",
       "      <td>0</td>\n",
       "      <td>0.0</td>\n",
       "      <td>no</td>\n",
       "    </tr>\n",
       "    <tr>\n",
       "      <th>3</th>\n",
       "      <td>0</td>\n",
       "      <td>4</td>\n",
       "      <td>2016</td>\n",
       "      <td>private</td>\n",
       "      <td>89186</td>\n",
       "      <td>0.0</td>\n",
       "      <td>Scholarship</td>\n",
       "      <td>1.0</td>\n",
       "      <td>1.0</td>\n",
       "      <td>self employed</td>\n",
       "      <td>unemployed</td>\n",
       "      <td>none</td>\n",
       "      <td>no</td>\n",
       "      <td>130000.0</td>\n",
       "      <td>25000</td>\n",
       "      <td>0.0</td>\n",
       "      <td>0</td>\n",
       "      <td>0.0</td>\n",
       "      <td>no</td>\n",
       "    </tr>\n",
       "    <tr>\n",
       "      <th>4</th>\n",
       "      <td>2</td>\n",
       "      <td>4</td>\n",
       "      <td>2016</td>\n",
       "      <td>ExtraCounty</td>\n",
       "      <td>58000</td>\n",
       "      <td>166294.0</td>\n",
       "      <td>Parent</td>\n",
       "      <td>1.0</td>\n",
       "      <td>0.0</td>\n",
       "      <td>blank</td>\n",
       "      <td>employed</td>\n",
       "      <td>none</td>\n",
       "      <td>no</td>\n",
       "      <td>0.0</td>\n",
       "      <td>40000</td>\n",
       "      <td>60000.0</td>\n",
       "      <td>0</td>\n",
       "      <td>0.0</td>\n",
       "      <td>no</td>\n",
       "    </tr>\n",
       "  </tbody>\n",
       "</table>\n",
       "</div>"
      ],
      "text/plain": [
       "   Courses  Grade  Year SchoolCategory  FeesPer Year  FeeBalance  PaymentMode  \\\n",
       "0        2      0  2014        private        134200         0.0       Parent   \n",
       "1        0      2  2015        private         90000         0.0       Parent   \n",
       "2        0      1  2017    ExtraCounty         53000         0.0     Guardian   \n",
       "3        0      4  2016        private         89186         0.0  Scholarship   \n",
       "4        2      4  2016    ExtraCounty         58000    166294.0       Parent   \n",
       "\n",
       "   MotherAlive  FatherAlive FatherEmployment MothersEmployment Guardian  \\\n",
       "0          1.0          1.0       unemployed          employed     none   \n",
       "1          1.0          1.0    self employed          employed     none   \n",
       "2          0.0          0.0            blank             blank  brother   \n",
       "3          1.0          1.0    self employed        unemployed     none   \n",
       "4          1.0          0.0            blank          employed     none   \n",
       "\n",
       "  GuardianEmployment  FatherFinancialIncome  MotherFinancialIncome    Amount  \\\n",
       "0                 no                    0.0                 152000   25000.0   \n",
       "1                 no               130000.0                 152000  130000.0   \n",
       "2           employed                    0.0                      0   50000.0   \n",
       "3                 no               130000.0                  25000       0.0   \n",
       "4                 no                    0.0                  40000   60000.0   \n",
       "\n",
       "  Siblings  SiblingsFees Awarded  \n",
       "0        2      134272.0      no  \n",
       "1        0           0.0      no  \n",
       "2        0           0.0      no  \n",
       "3        0           0.0      no  \n",
       "4        0           0.0      no  "
      ]
     },
     "execution_count": 53,
     "metadata": {},
     "output_type": "execute_result"
    }
   ],
   "source": [
    "data.head()"
   ]
  },
  {
   "cell_type": "markdown",
   "metadata": {},
   "source": [
    "#### School Category"
   ]
  },
  {
   "cell_type": "code",
   "execution_count": 54,
   "metadata": {},
   "outputs": [
    {
     "data": {
      "text/plain": [
       "LabelEncoder()"
      ]
     },
     "execution_count": 54,
     "metadata": {},
     "output_type": "execute_result"
    }
   ],
   "source": [
    "le.fit(data['SchoolCategory'])"
   ]
  },
  {
   "cell_type": "code",
   "execution_count": 55,
   "metadata": {},
   "outputs": [
    {
     "data": {
      "text/plain": [
       "['ExtraCounty', 'county', 'national', 'other', 'private']"
      ]
     },
     "execution_count": 55,
     "metadata": {},
     "output_type": "execute_result"
    }
   ],
   "source": [
    "list(le.classes_)"
   ]
  },
  {
   "cell_type": "code",
   "execution_count": 56,
   "metadata": {},
   "outputs": [],
   "source": [
    "data.SchoolCategory = le.transform(data['SchoolCategory'])"
   ]
  },
  {
   "cell_type": "code",
   "execution_count": 57,
   "metadata": {},
   "outputs": [
    {
     "data": {
      "text/html": [
       "<div>\n",
       "<style scoped>\n",
       "    .dataframe tbody tr th:only-of-type {\n",
       "        vertical-align: middle;\n",
       "    }\n",
       "\n",
       "    .dataframe tbody tr th {\n",
       "        vertical-align: top;\n",
       "    }\n",
       "\n",
       "    .dataframe thead th {\n",
       "        text-align: right;\n",
       "    }\n",
       "</style>\n",
       "<table border=\"1\" class=\"dataframe\">\n",
       "  <thead>\n",
       "    <tr style=\"text-align: right;\">\n",
       "      <th></th>\n",
       "      <th>Courses</th>\n",
       "      <th>Grade</th>\n",
       "      <th>Year</th>\n",
       "      <th>SchoolCategory</th>\n",
       "      <th>FeesPer Year</th>\n",
       "      <th>FeeBalance</th>\n",
       "      <th>PaymentMode</th>\n",
       "      <th>MotherAlive</th>\n",
       "      <th>FatherAlive</th>\n",
       "      <th>FatherEmployment</th>\n",
       "      <th>MothersEmployment</th>\n",
       "      <th>Guardian</th>\n",
       "      <th>GuardianEmployment</th>\n",
       "      <th>FatherFinancialIncome</th>\n",
       "      <th>MotherFinancialIncome</th>\n",
       "      <th>Amount</th>\n",
       "      <th>Siblings</th>\n",
       "      <th>SiblingsFees</th>\n",
       "      <th>Awarded</th>\n",
       "    </tr>\n",
       "  </thead>\n",
       "  <tbody>\n",
       "    <tr>\n",
       "      <th>0</th>\n",
       "      <td>2</td>\n",
       "      <td>0</td>\n",
       "      <td>2014</td>\n",
       "      <td>4</td>\n",
       "      <td>134200</td>\n",
       "      <td>0.0</td>\n",
       "      <td>Parent</td>\n",
       "      <td>1.0</td>\n",
       "      <td>1.0</td>\n",
       "      <td>unemployed</td>\n",
       "      <td>employed</td>\n",
       "      <td>none</td>\n",
       "      <td>no</td>\n",
       "      <td>0.0</td>\n",
       "      <td>152000</td>\n",
       "      <td>25000.0</td>\n",
       "      <td>2</td>\n",
       "      <td>134272.0</td>\n",
       "      <td>no</td>\n",
       "    </tr>\n",
       "    <tr>\n",
       "      <th>1</th>\n",
       "      <td>0</td>\n",
       "      <td>2</td>\n",
       "      <td>2015</td>\n",
       "      <td>4</td>\n",
       "      <td>90000</td>\n",
       "      <td>0.0</td>\n",
       "      <td>Parent</td>\n",
       "      <td>1.0</td>\n",
       "      <td>1.0</td>\n",
       "      <td>self employed</td>\n",
       "      <td>employed</td>\n",
       "      <td>none</td>\n",
       "      <td>no</td>\n",
       "      <td>130000.0</td>\n",
       "      <td>152000</td>\n",
       "      <td>130000.0</td>\n",
       "      <td>0</td>\n",
       "      <td>0.0</td>\n",
       "      <td>no</td>\n",
       "    </tr>\n",
       "    <tr>\n",
       "      <th>2</th>\n",
       "      <td>0</td>\n",
       "      <td>1</td>\n",
       "      <td>2017</td>\n",
       "      <td>0</td>\n",
       "      <td>53000</td>\n",
       "      <td>0.0</td>\n",
       "      <td>Guardian</td>\n",
       "      <td>0.0</td>\n",
       "      <td>0.0</td>\n",
       "      <td>blank</td>\n",
       "      <td>blank</td>\n",
       "      <td>brother</td>\n",
       "      <td>employed</td>\n",
       "      <td>0.0</td>\n",
       "      <td>0</td>\n",
       "      <td>50000.0</td>\n",
       "      <td>0</td>\n",
       "      <td>0.0</td>\n",
       "      <td>no</td>\n",
       "    </tr>\n",
       "    <tr>\n",
       "      <th>3</th>\n",
       "      <td>0</td>\n",
       "      <td>4</td>\n",
       "      <td>2016</td>\n",
       "      <td>4</td>\n",
       "      <td>89186</td>\n",
       "      <td>0.0</td>\n",
       "      <td>Scholarship</td>\n",
       "      <td>1.0</td>\n",
       "      <td>1.0</td>\n",
       "      <td>self employed</td>\n",
       "      <td>unemployed</td>\n",
       "      <td>none</td>\n",
       "      <td>no</td>\n",
       "      <td>130000.0</td>\n",
       "      <td>25000</td>\n",
       "      <td>0.0</td>\n",
       "      <td>0</td>\n",
       "      <td>0.0</td>\n",
       "      <td>no</td>\n",
       "    </tr>\n",
       "    <tr>\n",
       "      <th>4</th>\n",
       "      <td>2</td>\n",
       "      <td>4</td>\n",
       "      <td>2016</td>\n",
       "      <td>0</td>\n",
       "      <td>58000</td>\n",
       "      <td>166294.0</td>\n",
       "      <td>Parent</td>\n",
       "      <td>1.0</td>\n",
       "      <td>0.0</td>\n",
       "      <td>blank</td>\n",
       "      <td>employed</td>\n",
       "      <td>none</td>\n",
       "      <td>no</td>\n",
       "      <td>0.0</td>\n",
       "      <td>40000</td>\n",
       "      <td>60000.0</td>\n",
       "      <td>0</td>\n",
       "      <td>0.0</td>\n",
       "      <td>no</td>\n",
       "    </tr>\n",
       "  </tbody>\n",
       "</table>\n",
       "</div>"
      ],
      "text/plain": [
       "   Courses  Grade  Year  SchoolCategory  FeesPer Year  FeeBalance  \\\n",
       "0        2      0  2014               4        134200         0.0   \n",
       "1        0      2  2015               4         90000         0.0   \n",
       "2        0      1  2017               0         53000         0.0   \n",
       "3        0      4  2016               4         89186         0.0   \n",
       "4        2      4  2016               0         58000    166294.0   \n",
       "\n",
       "   PaymentMode  MotherAlive  FatherAlive FatherEmployment MothersEmployment  \\\n",
       "0       Parent          1.0          1.0       unemployed          employed   \n",
       "1       Parent          1.0          1.0    self employed          employed   \n",
       "2     Guardian          0.0          0.0            blank             blank   \n",
       "3  Scholarship          1.0          1.0    self employed        unemployed   \n",
       "4       Parent          1.0          0.0            blank          employed   \n",
       "\n",
       "  Guardian GuardianEmployment  FatherFinancialIncome  MotherFinancialIncome  \\\n",
       "0     none                 no                    0.0                 152000   \n",
       "1     none                 no               130000.0                 152000   \n",
       "2  brother           employed                    0.0                      0   \n",
       "3     none                 no               130000.0                  25000   \n",
       "4     none                 no                    0.0                  40000   \n",
       "\n",
       "     Amount Siblings  SiblingsFees Awarded  \n",
       "0   25000.0        2      134272.0      no  \n",
       "1  130000.0        0           0.0      no  \n",
       "2   50000.0        0           0.0      no  \n",
       "3       0.0        0           0.0      no  \n",
       "4   60000.0        0           0.0      no  "
      ]
     },
     "execution_count": 57,
     "metadata": {},
     "output_type": "execute_result"
    }
   ],
   "source": [
    "data.head()"
   ]
  },
  {
   "cell_type": "markdown",
   "metadata": {},
   "source": [
    "#### Payment Mode"
   ]
  },
  {
   "cell_type": "code",
   "execution_count": 58,
   "metadata": {},
   "outputs": [
    {
     "data": {
      "text/plain": [
       "LabelEncoder()"
      ]
     },
     "execution_count": 58,
     "metadata": {},
     "output_type": "execute_result"
    }
   ],
   "source": [
    "le.fit(data['PaymentMode'])"
   ]
  },
  {
   "cell_type": "code",
   "execution_count": 59,
   "metadata": {},
   "outputs": [
    {
     "data": {
      "text/plain": [
       "['Guardian',\n",
       " 'Parent',\n",
       " 'Parent and Scholarship',\n",
       " 'Scholarship',\n",
       " 'fundraising',\n",
       " 'relative',\n",
       " 'wellwisher']"
      ]
     },
     "execution_count": 59,
     "metadata": {},
     "output_type": "execute_result"
    }
   ],
   "source": [
    "list(le.classes_)"
   ]
  },
  {
   "cell_type": "code",
   "execution_count": 60,
   "metadata": {},
   "outputs": [],
   "source": [
    "data.PaymentMode = le.transform(data['PaymentMode'])"
   ]
  },
  {
   "cell_type": "code",
   "execution_count": 61,
   "metadata": {},
   "outputs": [
    {
     "data": {
      "text/html": [
       "<div>\n",
       "<style scoped>\n",
       "    .dataframe tbody tr th:only-of-type {\n",
       "        vertical-align: middle;\n",
       "    }\n",
       "\n",
       "    .dataframe tbody tr th {\n",
       "        vertical-align: top;\n",
       "    }\n",
       "\n",
       "    .dataframe thead th {\n",
       "        text-align: right;\n",
       "    }\n",
       "</style>\n",
       "<table border=\"1\" class=\"dataframe\">\n",
       "  <thead>\n",
       "    <tr style=\"text-align: right;\">\n",
       "      <th></th>\n",
       "      <th>Courses</th>\n",
       "      <th>Grade</th>\n",
       "      <th>Year</th>\n",
       "      <th>SchoolCategory</th>\n",
       "      <th>FeesPer Year</th>\n",
       "      <th>FeeBalance</th>\n",
       "      <th>PaymentMode</th>\n",
       "      <th>MotherAlive</th>\n",
       "      <th>FatherAlive</th>\n",
       "      <th>FatherEmployment</th>\n",
       "      <th>MothersEmployment</th>\n",
       "      <th>Guardian</th>\n",
       "      <th>GuardianEmployment</th>\n",
       "      <th>FatherFinancialIncome</th>\n",
       "      <th>MotherFinancialIncome</th>\n",
       "      <th>Amount</th>\n",
       "      <th>Siblings</th>\n",
       "      <th>SiblingsFees</th>\n",
       "      <th>Awarded</th>\n",
       "    </tr>\n",
       "  </thead>\n",
       "  <tbody>\n",
       "    <tr>\n",
       "      <th>0</th>\n",
       "      <td>2</td>\n",
       "      <td>0</td>\n",
       "      <td>2014</td>\n",
       "      <td>4</td>\n",
       "      <td>134200</td>\n",
       "      <td>0.0</td>\n",
       "      <td>1</td>\n",
       "      <td>1.0</td>\n",
       "      <td>1.0</td>\n",
       "      <td>unemployed</td>\n",
       "      <td>employed</td>\n",
       "      <td>none</td>\n",
       "      <td>no</td>\n",
       "      <td>0.0</td>\n",
       "      <td>152000</td>\n",
       "      <td>25000.0</td>\n",
       "      <td>2</td>\n",
       "      <td>134272.0</td>\n",
       "      <td>no</td>\n",
       "    </tr>\n",
       "    <tr>\n",
       "      <th>1</th>\n",
       "      <td>0</td>\n",
       "      <td>2</td>\n",
       "      <td>2015</td>\n",
       "      <td>4</td>\n",
       "      <td>90000</td>\n",
       "      <td>0.0</td>\n",
       "      <td>1</td>\n",
       "      <td>1.0</td>\n",
       "      <td>1.0</td>\n",
       "      <td>self employed</td>\n",
       "      <td>employed</td>\n",
       "      <td>none</td>\n",
       "      <td>no</td>\n",
       "      <td>130000.0</td>\n",
       "      <td>152000</td>\n",
       "      <td>130000.0</td>\n",
       "      <td>0</td>\n",
       "      <td>0.0</td>\n",
       "      <td>no</td>\n",
       "    </tr>\n",
       "    <tr>\n",
       "      <th>2</th>\n",
       "      <td>0</td>\n",
       "      <td>1</td>\n",
       "      <td>2017</td>\n",
       "      <td>0</td>\n",
       "      <td>53000</td>\n",
       "      <td>0.0</td>\n",
       "      <td>0</td>\n",
       "      <td>0.0</td>\n",
       "      <td>0.0</td>\n",
       "      <td>blank</td>\n",
       "      <td>blank</td>\n",
       "      <td>brother</td>\n",
       "      <td>employed</td>\n",
       "      <td>0.0</td>\n",
       "      <td>0</td>\n",
       "      <td>50000.0</td>\n",
       "      <td>0</td>\n",
       "      <td>0.0</td>\n",
       "      <td>no</td>\n",
       "    </tr>\n",
       "    <tr>\n",
       "      <th>3</th>\n",
       "      <td>0</td>\n",
       "      <td>4</td>\n",
       "      <td>2016</td>\n",
       "      <td>4</td>\n",
       "      <td>89186</td>\n",
       "      <td>0.0</td>\n",
       "      <td>3</td>\n",
       "      <td>1.0</td>\n",
       "      <td>1.0</td>\n",
       "      <td>self employed</td>\n",
       "      <td>unemployed</td>\n",
       "      <td>none</td>\n",
       "      <td>no</td>\n",
       "      <td>130000.0</td>\n",
       "      <td>25000</td>\n",
       "      <td>0.0</td>\n",
       "      <td>0</td>\n",
       "      <td>0.0</td>\n",
       "      <td>no</td>\n",
       "    </tr>\n",
       "    <tr>\n",
       "      <th>4</th>\n",
       "      <td>2</td>\n",
       "      <td>4</td>\n",
       "      <td>2016</td>\n",
       "      <td>0</td>\n",
       "      <td>58000</td>\n",
       "      <td>166294.0</td>\n",
       "      <td>1</td>\n",
       "      <td>1.0</td>\n",
       "      <td>0.0</td>\n",
       "      <td>blank</td>\n",
       "      <td>employed</td>\n",
       "      <td>none</td>\n",
       "      <td>no</td>\n",
       "      <td>0.0</td>\n",
       "      <td>40000</td>\n",
       "      <td>60000.0</td>\n",
       "      <td>0</td>\n",
       "      <td>0.0</td>\n",
       "      <td>no</td>\n",
       "    </tr>\n",
       "  </tbody>\n",
       "</table>\n",
       "</div>"
      ],
      "text/plain": [
       "   Courses  Grade  Year  SchoolCategory  FeesPer Year  FeeBalance  \\\n",
       "0        2      0  2014               4        134200         0.0   \n",
       "1        0      2  2015               4         90000         0.0   \n",
       "2        0      1  2017               0         53000         0.0   \n",
       "3        0      4  2016               4         89186         0.0   \n",
       "4        2      4  2016               0         58000    166294.0   \n",
       "\n",
       "   PaymentMode  MotherAlive  FatherAlive FatherEmployment MothersEmployment  \\\n",
       "0            1          1.0          1.0       unemployed          employed   \n",
       "1            1          1.0          1.0    self employed          employed   \n",
       "2            0          0.0          0.0            blank             blank   \n",
       "3            3          1.0          1.0    self employed        unemployed   \n",
       "4            1          1.0          0.0            blank          employed   \n",
       "\n",
       "  Guardian GuardianEmployment  FatherFinancialIncome  MotherFinancialIncome  \\\n",
       "0     none                 no                    0.0                 152000   \n",
       "1     none                 no               130000.0                 152000   \n",
       "2  brother           employed                    0.0                      0   \n",
       "3     none                 no               130000.0                  25000   \n",
       "4     none                 no                    0.0                  40000   \n",
       "\n",
       "     Amount Siblings  SiblingsFees Awarded  \n",
       "0   25000.0        2      134272.0      no  \n",
       "1  130000.0        0           0.0      no  \n",
       "2   50000.0        0           0.0      no  \n",
       "3       0.0        0           0.0      no  \n",
       "4   60000.0        0           0.0      no  "
      ]
     },
     "execution_count": 61,
     "metadata": {},
     "output_type": "execute_result"
    }
   ],
   "source": [
    "data.head()"
   ]
  },
  {
   "cell_type": "markdown",
   "metadata": {},
   "source": [
    "#### Father Employment"
   ]
  },
  {
   "cell_type": "code",
   "execution_count": 62,
   "metadata": {},
   "outputs": [
    {
     "data": {
      "text/plain": [
       "LabelEncoder()"
      ]
     },
     "execution_count": 62,
     "metadata": {},
     "output_type": "execute_result"
    }
   ],
   "source": [
    "le.fit(data['FatherEmployment'])"
   ]
  },
  {
   "cell_type": "code",
   "execution_count": 63,
   "metadata": {},
   "outputs": [
    {
     "data": {
      "text/plain": [
       "['blank',\n",
       " 'casual worker',\n",
       " 'employed',\n",
       " 'retired',\n",
       " 'self employed',\n",
       " 'unemployed']"
      ]
     },
     "execution_count": 63,
     "metadata": {},
     "output_type": "execute_result"
    }
   ],
   "source": [
    "list(le.classes_)"
   ]
  },
  {
   "cell_type": "code",
   "execution_count": 64,
   "metadata": {},
   "outputs": [],
   "source": [
    "data.FatherEmployment = le.transform(data['FatherEmployment'])"
   ]
  },
  {
   "cell_type": "markdown",
   "metadata": {},
   "source": [
    "#### Mother Employment"
   ]
  },
  {
   "cell_type": "code",
   "execution_count": 65,
   "metadata": {},
   "outputs": [
    {
     "data": {
      "text/plain": [
       "LabelEncoder()"
      ]
     },
     "execution_count": 65,
     "metadata": {},
     "output_type": "execute_result"
    }
   ],
   "source": [
    "le.fit(data['MothersEmployment'])"
   ]
  },
  {
   "cell_type": "code",
   "execution_count": 66,
   "metadata": {},
   "outputs": [
    {
     "data": {
      "text/plain": [
       "['blank',\n",
       " 'casual worker',\n",
       " 'employed',\n",
       " 'retired',\n",
       " 'self employed',\n",
       " 'unemployed']"
      ]
     },
     "execution_count": 66,
     "metadata": {},
     "output_type": "execute_result"
    }
   ],
   "source": [
    "list(le.classes_)"
   ]
  },
  {
   "cell_type": "code",
   "execution_count": 67,
   "metadata": {},
   "outputs": [],
   "source": [
    "data.MothersEmployment = le.transform(data['MothersEmployment'])"
   ]
  },
  {
   "cell_type": "markdown",
   "metadata": {},
   "source": [
    "#### Guardian Employment"
   ]
  },
  {
   "cell_type": "code",
   "execution_count": 68,
   "metadata": {},
   "outputs": [
    {
     "data": {
      "text/plain": [
       "LabelEncoder()"
      ]
     },
     "execution_count": 68,
     "metadata": {},
     "output_type": "execute_result"
    }
   ],
   "source": [
    "le.fit(data['GuardianEmployment'])"
   ]
  },
  {
   "cell_type": "code",
   "execution_count": 69,
   "metadata": {},
   "outputs": [
    {
     "data": {
      "text/plain": [
       "['casual worker', 'employed', 'no', 'retired', 'self employed', 'unemployed']"
      ]
     },
     "execution_count": 69,
     "metadata": {},
     "output_type": "execute_result"
    }
   ],
   "source": [
    "list(le.classes_)"
   ]
  },
  {
   "cell_type": "code",
   "execution_count": 70,
   "metadata": {},
   "outputs": [],
   "source": [
    "data.GuardianEmployment = le.transform(data['GuardianEmployment'])"
   ]
  },
  {
   "cell_type": "markdown",
   "metadata": {},
   "source": [
    "#### Awarded"
   ]
  },
  {
   "cell_type": "code",
   "execution_count": 71,
   "metadata": {},
   "outputs": [
    {
     "data": {
      "text/plain": [
       "LabelEncoder()"
      ]
     },
     "execution_count": 71,
     "metadata": {},
     "output_type": "execute_result"
    }
   ],
   "source": [
    "le.fit(data.Awarded)"
   ]
  },
  {
   "cell_type": "code",
   "execution_count": 72,
   "metadata": {},
   "outputs": [
    {
     "data": {
      "text/plain": [
       "['no', 'yes']"
      ]
     },
     "execution_count": 72,
     "metadata": {},
     "output_type": "execute_result"
    }
   ],
   "source": [
    "list(le.classes_)"
   ]
  },
  {
   "cell_type": "code",
   "execution_count": 73,
   "metadata": {},
   "outputs": [],
   "source": [
    "data.Awarded = le.transform(data['Awarded'])"
   ]
  },
  {
   "cell_type": "markdown",
   "metadata": {},
   "source": [
    "#### Guardian"
   ]
  },
  {
   "cell_type": "code",
   "execution_count": 74,
   "metadata": {},
   "outputs": [
    {
     "data": {
      "text/plain": [
       "LabelEncoder()"
      ]
     },
     "execution_count": 74,
     "metadata": {},
     "output_type": "execute_result"
    }
   ],
   "source": [
    "le.fit(data.Guardian)"
   ]
  },
  {
   "cell_type": "code",
   "execution_count": 75,
   "metadata": {},
   "outputs": [
    {
     "data": {
      "text/plain": [
       "['Grandmother',\n",
       " 'aunt',\n",
       " 'brother',\n",
       " 'grandfather',\n",
       " 'none',\n",
       " 'other',\n",
       " 'sister',\n",
       " 'uncle',\n",
       " 'wellwisher']"
      ]
     },
     "execution_count": 75,
     "metadata": {},
     "output_type": "execute_result"
    }
   ],
   "source": [
    "list(le.classes_)"
   ]
  },
  {
   "cell_type": "code",
   "execution_count": 76,
   "metadata": {},
   "outputs": [],
   "source": [
    "data.Guardian = le.transform(data['Guardian'])"
   ]
  },
  {
   "cell_type": "code",
   "execution_count": 77,
   "metadata": {},
   "outputs": [
    {
     "data": {
      "text/html": [
       "<div>\n",
       "<style scoped>\n",
       "    .dataframe tbody tr th:only-of-type {\n",
       "        vertical-align: middle;\n",
       "    }\n",
       "\n",
       "    .dataframe tbody tr th {\n",
       "        vertical-align: top;\n",
       "    }\n",
       "\n",
       "    .dataframe thead th {\n",
       "        text-align: right;\n",
       "    }\n",
       "</style>\n",
       "<table border=\"1\" class=\"dataframe\">\n",
       "  <thead>\n",
       "    <tr style=\"text-align: right;\">\n",
       "      <th></th>\n",
       "      <th>Courses</th>\n",
       "      <th>Grade</th>\n",
       "      <th>Year</th>\n",
       "      <th>SchoolCategory</th>\n",
       "      <th>FeesPer Year</th>\n",
       "      <th>FeeBalance</th>\n",
       "      <th>PaymentMode</th>\n",
       "      <th>MotherAlive</th>\n",
       "      <th>FatherAlive</th>\n",
       "      <th>FatherEmployment</th>\n",
       "      <th>MothersEmployment</th>\n",
       "      <th>Guardian</th>\n",
       "      <th>GuardianEmployment</th>\n",
       "      <th>FatherFinancialIncome</th>\n",
       "      <th>MotherFinancialIncome</th>\n",
       "      <th>Amount</th>\n",
       "      <th>Siblings</th>\n",
       "      <th>SiblingsFees</th>\n",
       "      <th>Awarded</th>\n",
       "    </tr>\n",
       "  </thead>\n",
       "  <tbody>\n",
       "    <tr>\n",
       "      <th>0</th>\n",
       "      <td>2</td>\n",
       "      <td>0</td>\n",
       "      <td>2014</td>\n",
       "      <td>4</td>\n",
       "      <td>134200</td>\n",
       "      <td>0.0</td>\n",
       "      <td>1</td>\n",
       "      <td>1.0</td>\n",
       "      <td>1.0</td>\n",
       "      <td>5</td>\n",
       "      <td>2</td>\n",
       "      <td>4</td>\n",
       "      <td>2</td>\n",
       "      <td>0.0</td>\n",
       "      <td>152000</td>\n",
       "      <td>25000.0</td>\n",
       "      <td>2</td>\n",
       "      <td>134272.0</td>\n",
       "      <td>0</td>\n",
       "    </tr>\n",
       "    <tr>\n",
       "      <th>1</th>\n",
       "      <td>0</td>\n",
       "      <td>2</td>\n",
       "      <td>2015</td>\n",
       "      <td>4</td>\n",
       "      <td>90000</td>\n",
       "      <td>0.0</td>\n",
       "      <td>1</td>\n",
       "      <td>1.0</td>\n",
       "      <td>1.0</td>\n",
       "      <td>4</td>\n",
       "      <td>2</td>\n",
       "      <td>4</td>\n",
       "      <td>2</td>\n",
       "      <td>130000.0</td>\n",
       "      <td>152000</td>\n",
       "      <td>130000.0</td>\n",
       "      <td>0</td>\n",
       "      <td>0.0</td>\n",
       "      <td>0</td>\n",
       "    </tr>\n",
       "    <tr>\n",
       "      <th>2</th>\n",
       "      <td>0</td>\n",
       "      <td>1</td>\n",
       "      <td>2017</td>\n",
       "      <td>0</td>\n",
       "      <td>53000</td>\n",
       "      <td>0.0</td>\n",
       "      <td>0</td>\n",
       "      <td>0.0</td>\n",
       "      <td>0.0</td>\n",
       "      <td>0</td>\n",
       "      <td>0</td>\n",
       "      <td>2</td>\n",
       "      <td>1</td>\n",
       "      <td>0.0</td>\n",
       "      <td>0</td>\n",
       "      <td>50000.0</td>\n",
       "      <td>0</td>\n",
       "      <td>0.0</td>\n",
       "      <td>0</td>\n",
       "    </tr>\n",
       "    <tr>\n",
       "      <th>3</th>\n",
       "      <td>0</td>\n",
       "      <td>4</td>\n",
       "      <td>2016</td>\n",
       "      <td>4</td>\n",
       "      <td>89186</td>\n",
       "      <td>0.0</td>\n",
       "      <td>3</td>\n",
       "      <td>1.0</td>\n",
       "      <td>1.0</td>\n",
       "      <td>4</td>\n",
       "      <td>5</td>\n",
       "      <td>4</td>\n",
       "      <td>2</td>\n",
       "      <td>130000.0</td>\n",
       "      <td>25000</td>\n",
       "      <td>0.0</td>\n",
       "      <td>0</td>\n",
       "      <td>0.0</td>\n",
       "      <td>0</td>\n",
       "    </tr>\n",
       "    <tr>\n",
       "      <th>4</th>\n",
       "      <td>2</td>\n",
       "      <td>4</td>\n",
       "      <td>2016</td>\n",
       "      <td>0</td>\n",
       "      <td>58000</td>\n",
       "      <td>166294.0</td>\n",
       "      <td>1</td>\n",
       "      <td>1.0</td>\n",
       "      <td>0.0</td>\n",
       "      <td>0</td>\n",
       "      <td>2</td>\n",
       "      <td>4</td>\n",
       "      <td>2</td>\n",
       "      <td>0.0</td>\n",
       "      <td>40000</td>\n",
       "      <td>60000.0</td>\n",
       "      <td>0</td>\n",
       "      <td>0.0</td>\n",
       "      <td>0</td>\n",
       "    </tr>\n",
       "  </tbody>\n",
       "</table>\n",
       "</div>"
      ],
      "text/plain": [
       "   Courses  Grade  Year  SchoolCategory  FeesPer Year  FeeBalance  \\\n",
       "0        2      0  2014               4        134200         0.0   \n",
       "1        0      2  2015               4         90000         0.0   \n",
       "2        0      1  2017               0         53000         0.0   \n",
       "3        0      4  2016               4         89186         0.0   \n",
       "4        2      4  2016               0         58000    166294.0   \n",
       "\n",
       "   PaymentMode  MotherAlive  FatherAlive  FatherEmployment  MothersEmployment  \\\n",
       "0            1          1.0          1.0                 5                  2   \n",
       "1            1          1.0          1.0                 4                  2   \n",
       "2            0          0.0          0.0                 0                  0   \n",
       "3            3          1.0          1.0                 4                  5   \n",
       "4            1          1.0          0.0                 0                  2   \n",
       "\n",
       "   Guardian  GuardianEmployment  FatherFinancialIncome  MotherFinancialIncome  \\\n",
       "0         4                   2                    0.0                 152000   \n",
       "1         4                   2               130000.0                 152000   \n",
       "2         2                   1                    0.0                      0   \n",
       "3         4                   2               130000.0                  25000   \n",
       "4         4                   2                    0.0                  40000   \n",
       "\n",
       "     Amount Siblings  SiblingsFees  Awarded  \n",
       "0   25000.0        2      134272.0        0  \n",
       "1  130000.0        0           0.0        0  \n",
       "2   50000.0        0           0.0        0  \n",
       "3       0.0        0           0.0        0  \n",
       "4   60000.0        0           0.0        0  "
      ]
     },
     "execution_count": 77,
     "metadata": {},
     "output_type": "execute_result"
    }
   ],
   "source": [
    "data.head()"
   ]
  },
  {
   "cell_type": "markdown",
   "metadata": {},
   "source": [
    "# Model"
   ]
  },
  {
   "cell_type": "code",
   "execution_count": 78,
   "metadata": {},
   "outputs": [
    {
     "data": {
      "text/plain": [
       "<matplotlib.axes._subplots.AxesSubplot at 0x177e1aa17f0>"
      ]
     },
     "execution_count": 78,
     "metadata": {},
     "output_type": "execute_result"
    },
    {
     "data": {
      "image/png": "[encoded data removed]",
      "text/plain": [
       "<Figure size 432x288 with 2 Axes>"
      ]
     },
     "metadata": {
      "needs_background": "light"
     },
     "output_type": "display_data"
    }
   ],
   "source": [
    "sns.heatmap(data.corr())"
   ]
  },
  {
   "cell_type": "code",
   "execution_count": 79,
   "metadata": {},
   "outputs": [],
   "source": [
    "#X = data.drop(columns=['Awarded'])\n",
    "y=data['Awarded']\n"
   ]
  },
  {
   "cell_type": "code",
   "execution_count": 80,
   "metadata": {},
   "outputs": [],
   "source": [
    "#X=data[['Courses','Grade','FeesPer Year','FeeBalance','FatherEmployment','MothersEmployment','GuardianEmployment','FatherFinancialIncome','MotherFinancialIncome','Amount','SiblingsFees']]\n",
    "X = data.drop(columns=['Awarded','PaymentMode','Year'])"
   ]
  },
  {
   "cell_type": "code",
   "execution_count": 81,
   "metadata": {},
   "outputs": [],
   "source": [
    "from sklearn.model_selection import train_test_split\n",
    "X_train, X_test, y_train, y_test = train_test_split(X, y, test_size=0.2)"
   ]
  },
  {
   "cell_type": "code",
   "execution_count": 82,
   "metadata": {},
   "outputs": [
    {
     "data": {
      "text/html": [
       "<div>\n",
       "<style scoped>\n",
       "    .dataframe tbody tr th:only-of-type {\n",
       "        vertical-align: middle;\n",
       "    }\n",
       "\n",
       "    .dataframe tbody tr th {\n",
       "        vertical-align: top;\n",
       "    }\n",
       "\n",
       "    .dataframe thead th {\n",
       "        text-align: right;\n",
       "    }\n",
       "</style>\n",
       "<table border=\"1\" class=\"dataframe\">\n",
       "  <thead>\n",
       "    <tr style=\"text-align: right;\">\n",
       "      <th></th>\n",
       "      <th>Courses</th>\n",
       "      <th>Grade</th>\n",
       "      <th>SchoolCategory</th>\n",
       "      <th>FeesPer Year</th>\n",
       "      <th>FeeBalance</th>\n",
       "      <th>MotherAlive</th>\n",
       "      <th>FatherAlive</th>\n",
       "      <th>FatherEmployment</th>\n",
       "      <th>MothersEmployment</th>\n",
       "      <th>Guardian</th>\n",
       "      <th>GuardianEmployment</th>\n",
       "      <th>FatherFinancialIncome</th>\n",
       "      <th>MotherFinancialIncome</th>\n",
       "      <th>Amount</th>\n",
       "      <th>Siblings</th>\n",
       "      <th>SiblingsFees</th>\n",
       "    </tr>\n",
       "  </thead>\n",
       "  <tbody>\n",
       "    <tr>\n",
       "      <th>0</th>\n",
       "      <td>2</td>\n",
       "      <td>0</td>\n",
       "      <td>4</td>\n",
       "      <td>134200</td>\n",
       "      <td>0.0</td>\n",
       "      <td>1.0</td>\n",
       "      <td>1.0</td>\n",
       "      <td>5</td>\n",
       "      <td>2</td>\n",
       "      <td>4</td>\n",
       "      <td>2</td>\n",
       "      <td>0.0</td>\n",
       "      <td>152000</td>\n",
       "      <td>25000.0</td>\n",
       "      <td>2</td>\n",
       "      <td>134272.0</td>\n",
       "    </tr>\n",
       "    <tr>\n",
       "      <th>1</th>\n",
       "      <td>0</td>\n",
       "      <td>2</td>\n",
       "      <td>4</td>\n",
       "      <td>90000</td>\n",
       "      <td>0.0</td>\n",
       "      <td>1.0</td>\n",
       "      <td>1.0</td>\n",
       "      <td>4</td>\n",
       "      <td>2</td>\n",
       "      <td>4</td>\n",
       "      <td>2</td>\n",
       "      <td>130000.0</td>\n",
       "      <td>152000</td>\n",
       "      <td>130000.0</td>\n",
       "      <td>0</td>\n",
       "      <td>0.0</td>\n",
       "    </tr>\n",
       "    <tr>\n",
       "      <th>2</th>\n",
       "      <td>0</td>\n",
       "      <td>1</td>\n",
       "      <td>0</td>\n",
       "      <td>53000</td>\n",
       "      <td>0.0</td>\n",
       "      <td>0.0</td>\n",
       "      <td>0.0</td>\n",
       "      <td>0</td>\n",
       "      <td>0</td>\n",
       "      <td>2</td>\n",
       "      <td>1</td>\n",
       "      <td>0.0</td>\n",
       "      <td>0</td>\n",
       "      <td>50000.0</td>\n",
       "      <td>0</td>\n",
       "      <td>0.0</td>\n",
       "    </tr>\n",
       "    <tr>\n",
       "      <th>3</th>\n",
       "      <td>0</td>\n",
       "      <td>4</td>\n",
       "      <td>4</td>\n",
       "      <td>89186</td>\n",
       "      <td>0.0</td>\n",
       "      <td>1.0</td>\n",
       "      <td>1.0</td>\n",
       "      <td>4</td>\n",
       "      <td>5</td>\n",
       "      <td>4</td>\n",
       "      <td>2</td>\n",
       "      <td>130000.0</td>\n",
       "      <td>25000</td>\n",
       "      <td>0.0</td>\n",
       "      <td>0</td>\n",
       "      <td>0.0</td>\n",
       "    </tr>\n",
       "    <tr>\n",
       "      <th>4</th>\n",
       "      <td>2</td>\n",
       "      <td>4</td>\n",
       "      <td>0</td>\n",
       "      <td>58000</td>\n",
       "      <td>166294.0</td>\n",
       "      <td>1.0</td>\n",
       "      <td>0.0</td>\n",
       "      <td>0</td>\n",
       "      <td>2</td>\n",
       "      <td>4</td>\n",
       "      <td>2</td>\n",
       "      <td>0.0</td>\n",
       "      <td>40000</td>\n",
       "      <td>60000.0</td>\n",
       "      <td>0</td>\n",
       "      <td>0.0</td>\n",
       "    </tr>\n",
       "  </tbody>\n",
       "</table>\n",
       "</div>"
      ],
      "text/plain": [
       "   Courses  Grade  SchoolCategory  FeesPer Year  FeeBalance  MotherAlive  \\\n",
       "0        2      0               4        134200         0.0          1.0   \n",
       "1        0      2               4         90000         0.0          1.0   \n",
       "2        0      1               0         53000         0.0          0.0   \n",
       "3        0      4               4         89186         0.0          1.0   \n",
       "4        2      4               0         58000    166294.0          1.0   \n",
       "\n",
       "   FatherAlive  FatherEmployment  MothersEmployment  Guardian  \\\n",
       "0          1.0                 5                  2         4   \n",
       "1          1.0                 4                  2         4   \n",
       "2          0.0                 0                  0         2   \n",
       "3          1.0                 4                  5         4   \n",
       "4          0.0                 0                  2         4   \n",
       "\n",
       "   GuardianEmployment  FatherFinancialIncome  MotherFinancialIncome    Amount  \\\n",
       "0                   2                    0.0                 152000   25000.0   \n",
       "1                   2               130000.0                 152000  130000.0   \n",
       "2                   1                    0.0                      0   50000.0   \n",
       "3                   2               130000.0                  25000       0.0   \n",
       "4                   2                    0.0                  40000   60000.0   \n",
       "\n",
       "  Siblings  SiblingsFees  \n",
       "0        2      134272.0  \n",
       "1        0           0.0  \n",
       "2        0           0.0  \n",
       "3        0           0.0  \n",
       "4        0           0.0  "
      ]
     },
     "execution_count": 82,
     "metadata": {},
     "output_type": "execute_result"
    }
   ],
   "source": [
    "X.head()\n"
   ]
  },
  {
   "cell_type": "code",
   "execution_count": 83,
   "metadata": {},
   "outputs": [
    {
     "name": "stdout",
     "output_type": "stream",
     "text": [
      "WARNING:tensorflow:From C:\\Users\\User\\Anaconda3\\lib\\site-packages\\tensorflow\\python\\framework\\op_def_library.py:263: colocate_with (from tensorflow.python.framework.ops) is deprecated and will be removed in a future version.\n",
      "Instructions for updating:\n",
      "Colocations handled automatically by placer.\n"
     ]
    }
   ],
   "source": [
    "classifier = Sequential()\n",
    "#First Hidden Layer\n",
    "classifier.add(Dense(4, activation='relu', kernel_initializer='random_normal', input_dim=16))\n",
    "#Second  Hidden Layer\n",
    "classifier.add(Dense(4, activation='relu', kernel_initializer='random_normal'))\n",
    "#classifier.add(Dense(4, activation='relu', kernel_initializer='random_normal'))\n",
    "#Output Layer\n",
    "classifier.add(Dense(1, activation='sigmoid', kernel_initializer='random_normal'))"
   ]
  },
  {
   "cell_type": "code",
   "execution_count": 84,
   "metadata": {},
   "outputs": [],
   "source": [
    "#Compiling the neural network\n",
    "classifier.compile(optimizer ='adam',loss='binary_crossentropy', metrics =['accuracy'])"
   ]
  },
  {
   "cell_type": "code",
   "execution_count": 85,
   "metadata": {},
   "outputs": [
    {
     "name": "stdout",
     "output_type": "stream",
     "text": [
      "WARNING:tensorflow:From C:\\Users\\User\\Anaconda3\\lib\\site-packages\\tensorflow\\python\\ops\\math_ops.py:3066: to_int32 (from tensorflow.python.ops.math_ops) is deprecated and will be removed in a future version.\n",
      "Instructions for updating:\n",
      "Use tf.cast instead.\n",
      "Epoch 1/150\n",
      "99/99 [==============================] - 1s 6ms/step - loss: 3.7474 - acc: 0.5657\n",
      "Epoch 2/150\n",
      "99/99 [==============================] - 0s 242us/step - loss: 2.5687 - acc: 0.5960\n",
      "Epoch 3/150\n",
      "99/99 [==============================] - 0s 283us/step - loss: 1.6818 - acc: 0.5354\n",
      "Epoch 4/150\n",
      "99/99 [==============================] - 0s 242us/step - loss: 1.3416 - acc: 0.5051\n",
      "Epoch 5/150\n",
      "99/99 [==============================] - 0s 242us/step - loss: 0.9844 - acc: 0.4848\n",
      "Epoch 6/150\n",
      "99/99 [==============================] - 0s 202us/step - loss: 0.8882 - acc: 0.5051\n",
      "Epoch 7/150\n",
      "99/99 [==============================] - 0s 202us/step - loss: 0.8800 - acc: 0.5354\n",
      "Epoch 8/150\n",
      "99/99 [==============================] - 0s 242us/step - loss: 0.8436 - acc: 0.4040\n",
      "Epoch 9/150\n",
      "99/99 [==============================] - 0s 202us/step - loss: 0.7361 - acc: 0.4848\n",
      "Epoch 10/150\n",
      "99/99 [==============================] - 0s 202us/step - loss: 0.7069 - acc: 0.5455\n",
      "Epoch 11/150\n",
      "99/99 [==============================] - 0s 242us/step - loss: 0.7709 - acc: 0.4646\n",
      "Epoch 12/150\n",
      "99/99 [==============================] - 0s 243us/step - loss: 0.8085 - acc: 0.4040\n",
      "Epoch 13/150\n",
      "99/99 [==============================] - 0s 283us/step - loss: 0.6807 - acc: 0.5455\n",
      "Epoch 14/150\n",
      "99/99 [==============================] - 0s 242us/step - loss: 0.7317 - acc: 0.5758\n",
      "Epoch 15/150\n",
      "99/99 [==============================] - 0s 202us/step - loss: 0.6792 - acc: 0.5354\n",
      "Epoch 16/150\n",
      "99/99 [==============================] - 0s 242us/step - loss: 0.7163 - acc: 0.5455\n",
      "Epoch 17/150\n",
      "99/99 [==============================] - 0s 202us/step - loss: 0.6629 - acc: 0.5657\n",
      "Epoch 18/150\n",
      "99/99 [==============================] - 0s 202us/step - loss: 0.6507 - acc: 0.5556\n",
      "Epoch 19/150\n",
      "99/99 [==============================] - 0s 202us/step - loss: 0.6617 - acc: 0.5657\n",
      "Epoch 20/150\n",
      "99/99 [==============================] - 0s 202us/step - loss: 0.6635 - acc: 0.6263\n",
      "Epoch 21/150\n",
      "99/99 [==============================] - 0s 242us/step - loss: 0.7380 - acc: 0.5253\n",
      "Epoch 22/150\n",
      "99/99 [==============================] - 0s 202us/step - loss: 0.7515 - acc: 0.5354\n",
      "Epoch 23/150\n",
      "99/99 [==============================] - 0s 242us/step - loss: 0.7822 - acc: 0.5455\n",
      "Epoch 24/150\n",
      "99/99 [==============================] - 0s 202us/step - loss: 0.7409 - acc: 0.5657\n",
      "Epoch 25/150\n",
      "99/99 [==============================] - 0s 202us/step - loss: 0.8154 - acc: 0.5253\n",
      "Epoch 26/150\n",
      "99/99 [==============================] - 0s 242us/step - loss: 0.6338 - acc: 0.5859\n",
      "Epoch 27/150\n",
      "99/99 [==============================] - 0s 202us/step - loss: 0.6300 - acc: 0.5960\n",
      "Epoch 28/150\n",
      "99/99 [==============================] - 0s 202us/step - loss: 0.6486 - acc: 0.5758\n",
      "Epoch 29/150\n",
      "99/99 [==============================] - 0s 242us/step - loss: 0.6692 - acc: 0.5758\n",
      "Epoch 30/150\n",
      "99/99 [==============================] - 0s 242us/step - loss: 0.6571 - acc: 0.5960\n",
      "Epoch 31/150\n",
      "99/99 [==============================] - 0s 242us/step - loss: 0.6508 - acc: 0.6667\n",
      "Epoch 32/150\n",
      "99/99 [==============================] - 0s 242us/step - loss: 0.6228 - acc: 0.5859\n",
      "Epoch 33/150\n",
      "99/99 [==============================] - 0s 242us/step - loss: 0.6142 - acc: 0.6061\n",
      "Epoch 34/150\n",
      "99/99 [==============================] - 0s 202us/step - loss: 0.6113 - acc: 0.5859\n",
      "Epoch 35/150\n",
      "99/99 [==============================] - 0s 202us/step - loss: 0.6133 - acc: 0.6061\n",
      "Epoch 36/150\n",
      "99/99 [==============================] - 0s 202us/step - loss: 0.6010 - acc: 0.6566\n",
      "Epoch 37/150\n",
      "99/99 [==============================] - 0s 202us/step - loss: 0.6161 - acc: 0.6465\n",
      "Epoch 38/150\n",
      "99/99 [==============================] - 0s 606us/step - loss: 0.6376 - acc: 0.5657\n",
      "Epoch 39/150\n",
      "99/99 [==============================] - 0s 202us/step - loss: 0.6267 - acc: 0.5960\n",
      "Epoch 40/150\n",
      "99/99 [==============================] - 0s 202us/step - loss: 0.6262 - acc: 0.6263\n",
      "Epoch 41/150\n",
      "99/99 [==============================] - 0s 242us/step - loss: 0.6289 - acc: 0.5657\n",
      "Epoch 42/150\n",
      "99/99 [==============================] - 0s 202us/step - loss: 0.6323 - acc: 0.5455\n",
      "Epoch 43/150\n",
      "99/99 [==============================] - 0s 162us/step - loss: 0.6182 - acc: 0.5556\n",
      "Epoch 44/150\n",
      "99/99 [==============================] - 0s 323us/step - loss: 0.5969 - acc: 0.5960\n",
      "Epoch 45/150\n",
      "99/99 [==============================] - 0s 162us/step - loss: 0.6086 - acc: 0.5758\n",
      "Epoch 46/150\n",
      "99/99 [==============================] - 0s 242us/step - loss: 0.5894 - acc: 0.6162\n",
      "Epoch 47/150\n",
      "99/99 [==============================] - 0s 202us/step - loss: 0.5891 - acc: 0.5960\n",
      "Epoch 48/150\n",
      "99/99 [==============================] - 0s 202us/step - loss: 0.5952 - acc: 0.5657\n",
      "Epoch 49/150\n",
      "99/99 [==============================] - 0s 202us/step - loss: 0.5890 - acc: 0.6162\n",
      "Epoch 50/150\n",
      "99/99 [==============================] - 0s 242us/step - loss: 0.6121 - acc: 0.5657\n",
      "Epoch 51/150\n",
      "99/99 [==============================] - 0s 202us/step - loss: 0.5933 - acc: 0.6465\n",
      "Epoch 52/150\n",
      "99/99 [==============================] - 0s 242us/step - loss: 0.6106 - acc: 0.5960\n",
      "Epoch 53/150\n",
      "99/99 [==============================] - 0s 202us/step - loss: 0.5829 - acc: 0.6364\n",
      "Epoch 54/150\n",
      "99/99 [==============================] - 0s 202us/step - loss: 0.5681 - acc: 0.6263\n",
      "Epoch 55/150\n",
      "99/99 [==============================] - 0s 202us/step - loss: 0.5670 - acc: 0.6566\n",
      "Epoch 56/150\n",
      "99/99 [==============================] - 0s 202us/step - loss: 0.5541 - acc: 0.6465\n",
      "Epoch 57/150\n",
      "99/99 [==============================] - 0s 162us/step - loss: 0.5612 - acc: 0.6465\n",
      "Epoch 58/150\n",
      "99/99 [==============================] - 0s 242us/step - loss: 0.5623 - acc: 0.6465\n",
      "Epoch 59/150\n",
      "99/99 [==============================] - 0s 162us/step - loss: 0.5499 - acc: 0.6162\n",
      "Epoch 60/150\n",
      "99/99 [==============================] - 0s 242us/step - loss: 0.5544 - acc: 0.6869\n",
      "Epoch 61/150\n",
      "99/99 [==============================] - 0s 162us/step - loss: 0.5414 - acc: 0.6566\n",
      "Epoch 62/150\n",
      "99/99 [==============================] - 0s 283us/step - loss: 0.5429 - acc: 0.6465\n",
      "Epoch 63/150\n",
      "99/99 [==============================] - 0s 242us/step - loss: 0.5980 - acc: 0.6364\n",
      "Epoch 64/150\n",
      "99/99 [==============================] - 0s 242us/step - loss: 0.6225 - acc: 0.6162\n",
      "Epoch 65/150\n",
      "99/99 [==============================] - 0s 242us/step - loss: 0.5675 - acc: 0.6768\n",
      "Epoch 66/150\n",
      "99/99 [==============================] - 0s 202us/step - loss: 0.6068 - acc: 0.5960\n",
      "Epoch 67/150\n",
      "99/99 [==============================] - 0s 202us/step - loss: 0.6171 - acc: 0.6263\n",
      "Epoch 68/150\n",
      "99/99 [==============================] - 0s 242us/step - loss: 0.5534 - acc: 0.6566\n",
      "Epoch 69/150\n",
      "99/99 [==============================] - 0s 242us/step - loss: 0.5794 - acc: 0.6667\n",
      "Epoch 70/150\n",
      "99/99 [==============================] - 0s 202us/step - loss: 0.5267 - acc: 0.6869\n",
      "Epoch 71/150\n",
      "99/99 [==============================] - 0s 283us/step - loss: 0.5349 - acc: 0.6465\n",
      "Epoch 72/150\n",
      "99/99 [==============================] - 0s 283us/step - loss: 0.5612 - acc: 0.7071\n",
      "Epoch 73/150\n",
      "99/99 [==============================] - 0s 242us/step - loss: 0.5410 - acc: 0.6768\n",
      "Epoch 74/150\n",
      "99/99 [==============================] - 0s 242us/step - loss: 0.5308 - acc: 0.7374\n",
      "Epoch 75/150\n",
      "99/99 [==============================] - 0s 202us/step - loss: 0.5509 - acc: 0.7172\n",
      "Epoch 76/150\n",
      "99/99 [==============================] - 0s 202us/step - loss: 0.5319 - acc: 0.6768\n",
      "Epoch 77/150\n",
      "99/99 [==============================] - 0s 242us/step - loss: 0.5444 - acc: 0.7172\n",
      "Epoch 78/150\n",
      "99/99 [==============================] - 0s 242us/step - loss: 0.5437 - acc: 0.6667\n",
      "Epoch 79/150\n",
      "99/99 [==============================] - 0s 243us/step - loss: 0.5743 - acc: 0.6869\n",
      "Epoch 80/150\n",
      "99/99 [==============================] - 0s 202us/step - loss: 0.6740 - acc: 0.6566\n",
      "Epoch 81/150\n",
      "99/99 [==============================] - 0s 202us/step - loss: 0.6362 - acc: 0.6263\n",
      "Epoch 82/150\n",
      "99/99 [==============================] - 0s 242us/step - loss: 0.5539 - acc: 0.7273\n"
     ]
    },
    {
     "name": "stdout",
     "output_type": "stream",
     "text": [
      "Epoch 83/150\n",
      "99/99 [==============================] - 0s 162us/step - loss: 0.5699 - acc: 0.6667\n",
      "Epoch 84/150\n",
      "99/99 [==============================] - 0s 202us/step - loss: 0.5425 - acc: 0.7273\n",
      "Epoch 85/150\n",
      "99/99 [==============================] - 0s 202us/step - loss: 0.5510 - acc: 0.7071\n",
      "Epoch 86/150\n",
      "99/99 [==============================] - 0s 202us/step - loss: 0.5496 - acc: 0.6970\n",
      "Epoch 87/150\n",
      "99/99 [==============================] - 0s 202us/step - loss: 0.5539 - acc: 0.7273\n",
      "Epoch 88/150\n",
      "99/99 [==============================] - 0s 242us/step - loss: 0.5986 - acc: 0.6667\n",
      "Epoch 89/150\n",
      "99/99 [==============================] - 0s 283us/step - loss: 0.5773 - acc: 0.7172\n",
      "Epoch 90/150\n",
      "99/99 [==============================] - 0s 242us/step - loss: 0.5434 - acc: 0.7475\n",
      "Epoch 91/150\n",
      "99/99 [==============================] - 0s 242us/step - loss: 0.5469 - acc: 0.6768\n",
      "Epoch 92/150\n",
      "99/99 [==============================] - 0s 202us/step - loss: 0.5486 - acc: 0.7071\n",
      "Epoch 93/150\n",
      "99/99 [==============================] - 0s 242us/step - loss: 0.5247 - acc: 0.7273\n",
      "Epoch 94/150\n",
      "99/99 [==============================] - 0s 283us/step - loss: 0.5305 - acc: 0.7374\n",
      "Epoch 95/150\n",
      "99/99 [==============================] - 0s 283us/step - loss: 0.5386 - acc: 0.6768\n",
      "Epoch 96/150\n",
      "99/99 [==============================] - 0s 283us/step - loss: 0.5683 - acc: 0.7172\n",
      "Epoch 97/150\n",
      "99/99 [==============================] - 0s 283us/step - loss: 0.6202 - acc: 0.6566\n",
      "Epoch 98/150\n",
      "99/99 [==============================] - 0s 242us/step - loss: 0.6267 - acc: 0.6667\n",
      "Epoch 99/150\n",
      "99/99 [==============================] - 0s 283us/step - loss: 0.6728 - acc: 0.7172\n",
      "Epoch 100/150\n",
      "99/99 [==============================] - 0s 242us/step - loss: 0.5604 - acc: 0.7071\n",
      "Epoch 101/150\n",
      "99/99 [==============================] - 0s 242us/step - loss: 0.5504 - acc: 0.7475\n",
      "Epoch 102/150\n",
      "99/99 [==============================] - 0s 242us/step - loss: 0.5400 - acc: 0.7576\n",
      "Epoch 103/150\n",
      "99/99 [==============================] - 0s 242us/step - loss: 0.5490 - acc: 0.6869\n",
      "Epoch 104/150\n",
      "99/99 [==============================] - 0s 242us/step - loss: 0.5302 - acc: 0.7172\n",
      "Epoch 105/150\n",
      "99/99 [==============================] - 0s 242us/step - loss: 0.5523 - acc: 0.7677\n",
      "Epoch 106/150\n",
      "99/99 [==============================] - 0s 242us/step - loss: 0.5540 - acc: 0.7374\n",
      "Epoch 107/150\n",
      "99/99 [==============================] - 0s 242us/step - loss: 0.5209 - acc: 0.7071\n",
      "Epoch 108/150\n",
      "99/99 [==============================] - 0s 242us/step - loss: 0.5630 - acc: 0.7475\n",
      "Epoch 109/150\n",
      "99/99 [==============================] - 0s 242us/step - loss: 0.5299 - acc: 0.6667\n",
      "Epoch 110/150\n",
      "99/99 [==============================] - 0s 242us/step - loss: 0.5248 - acc: 0.7576\n",
      "Epoch 111/150\n",
      "99/99 [==============================] - 0s 242us/step - loss: 0.5213 - acc: 0.7172\n",
      "Epoch 112/150\n",
      "99/99 [==============================] - 0s 202us/step - loss: 0.5224 - acc: 0.6970\n",
      "Epoch 113/150\n",
      "99/99 [==============================] - 0s 242us/step - loss: 0.5323 - acc: 0.7172\n",
      "Epoch 114/150\n",
      "99/99 [==============================] - 0s 283us/step - loss: 0.5112 - acc: 0.6970\n",
      "Epoch 115/150\n",
      "99/99 [==============================] - 0s 242us/step - loss: 0.5148 - acc: 0.6869\n",
      "Epoch 116/150\n",
      "99/99 [==============================] - 0s 242us/step - loss: 0.5436 - acc: 0.7172\n",
      "Epoch 117/150\n",
      "99/99 [==============================] - 0s 242us/step - loss: 0.5194 - acc: 0.7576\n",
      "Epoch 118/150\n",
      "99/99 [==============================] - 0s 283us/step - loss: 0.4934 - acc: 0.7374\n",
      "Epoch 119/150\n",
      "99/99 [==============================] - 0s 242us/step - loss: 0.5287 - acc: 0.7071\n",
      "Epoch 120/150\n",
      "99/99 [==============================] - 0s 283us/step - loss: 0.5200 - acc: 0.6566\n",
      "Epoch 121/150\n",
      "99/99 [==============================] - 0s 242us/step - loss: 0.5001 - acc: 0.7475\n",
      "Epoch 122/150\n",
      "99/99 [==============================] - 0s 242us/step - loss: 0.5016 - acc: 0.7475\n",
      "Epoch 123/150\n",
      "99/99 [==============================] - 0s 242us/step - loss: 0.5319 - acc: 0.6768\n",
      "Epoch 124/150\n",
      "99/99 [==============================] - ETA: 0s - loss: 0.8525 - acc: 0.900 - 0s 283us/step - loss: 0.5719 - acc: 0.7172\n",
      "Epoch 125/150\n",
      "99/99 [==============================] - 0s 242us/step - loss: 0.5139 - acc: 0.7273\n",
      "Epoch 126/150\n",
      "99/99 [==============================] - 0s 242us/step - loss: 0.5242 - acc: 0.7071\n",
      "Epoch 127/150\n",
      "99/99 [==============================] - 0s 242us/step - loss: 0.5099 - acc: 0.7273\n",
      "Epoch 128/150\n",
      "99/99 [==============================] - 0s 242us/step - loss: 0.4969 - acc: 0.7374\n",
      "Epoch 129/150\n",
      "99/99 [==============================] - 0s 243us/step - loss: 0.5005 - acc: 0.6970\n",
      "Epoch 130/150\n",
      "99/99 [==============================] - 0s 202us/step - loss: 0.5315 - acc: 0.7374\n",
      "Epoch 131/150\n",
      "99/99 [==============================] - 0s 283us/step - loss: 0.5193 - acc: 0.7475\n",
      "Epoch 132/150\n",
      "99/99 [==============================] - 0s 242us/step - loss: 0.5193 - acc: 0.6970\n",
      "Epoch 133/150\n",
      "99/99 [==============================] - 0s 202us/step - loss: 0.5630 - acc: 0.7374\n",
      "Epoch 134/150\n",
      "99/99 [==============================] - 0s 202us/step - loss: 0.5170 - acc: 0.6869\n",
      "Epoch 135/150\n",
      "99/99 [==============================] - 0s 202us/step - loss: 0.5213 - acc: 0.7576\n",
      "Epoch 136/150\n",
      "99/99 [==============================] - 0s 202us/step - loss: 0.5015 - acc: 0.6970\n",
      "Epoch 137/150\n",
      "99/99 [==============================] - 0s 202us/step - loss: 0.5111 - acc: 0.7576\n",
      "Epoch 138/150\n",
      "99/99 [==============================] - 0s 242us/step - loss: 0.4838 - acc: 0.7475\n",
      "Epoch 139/150\n",
      "99/99 [==============================] - 0s 242us/step - loss: 0.4866 - acc: 0.7172\n",
      "Epoch 140/150\n",
      "99/99 [==============================] - 0s 283us/step - loss: 0.5298 - acc: 0.7273\n",
      "Epoch 141/150\n",
      "99/99 [==============================] - 0s 242us/step - loss: 0.4817 - acc: 0.7475\n",
      "Epoch 142/150\n",
      "99/99 [==============================] - 0s 202us/step - loss: 0.6771 - acc: 0.7475\n",
      "Epoch 143/150\n",
      "99/99 [==============================] - 0s 202us/step - loss: 0.5201 - acc: 0.6970\n",
      "Epoch 144/150\n",
      "99/99 [==============================] - 0s 202us/step - loss: 0.5734 - acc: 0.7071\n",
      "Epoch 145/150\n",
      "99/99 [==============================] - 0s 242us/step - loss: 0.5475 - acc: 0.7071\n",
      "Epoch 146/150\n",
      "99/99 [==============================] - 0s 202us/step - loss: 0.5636 - acc: 0.7273\n",
      "Epoch 147/150\n",
      "99/99 [==============================] - 0s 202us/step - loss: 0.5153 - acc: 0.7475\n",
      "Epoch 148/150\n",
      "99/99 [==============================] - 0s 242us/step - loss: 0.5123 - acc: 0.7475\n",
      "Epoch 149/150\n",
      "99/99 [==============================] - 0s 202us/step - loss: 0.5613 - acc: 0.7374\n",
      "Epoch 150/150\n",
      "99/99 [==============================] - 0s 202us/step - loss: 0.4974 - acc: 0.7475\n"
     ]
    },
    {
     "data": {
      "text/plain": [
       "<keras.callbacks.History at 0x177e1f46eb8>"
      ]
     },
     "execution_count": 85,
     "metadata": {},
     "output_type": "execute_result"
    }
   ],
   "source": [
    "#Fitting the data to the training dataset\n",
    "classifier.fit(X_train,y_train, batch_size=10, epochs=150)"
   ]
  },
  {
   "cell_type": "code",
   "execution_count": 86,
   "metadata": {},
   "outputs": [
    {
     "name": "stdout",
     "output_type": "stream",
     "text": [
      "99/99 [==============================] - ETA:  - 0s 767us/step\n"
     ]
    },
    {
     "data": {
      "text/plain": [
       "[0.4979680963236876, 0.7373737379758045]"
      ]
     },
     "execution_count": 86,
     "metadata": {},
     "output_type": "execute_result"
    }
   ],
   "source": [
    "eval_model=classifier.evaluate(X_train, y_train)\n",
    "eval_model"
   ]
  },
  {
   "cell_type": "code",
   "execution_count": 102,
   "metadata": {},
   "outputs": [],
   "source": [
    "y_pred=classifier.predict(X_test)\n",
    "y_pred =(y_pred>0.5)"
   ]
  },
  {
   "cell_type": "code",
   "execution_count": 103,
   "metadata": {},
   "outputs": [
    {
     "data": {
      "text/plain": [
       "(25, 1)"
      ]
     },
     "execution_count": 103,
     "metadata": {},
     "output_type": "execute_result"
    }
   ],
   "source": [
    "y_pred.shape"
   ]
  },
  {
   "cell_type": "code",
   "execution_count": 104,
   "metadata": {},
   "outputs": [
    {
     "name": "stdout",
     "output_type": "stream",
     "text": [
      "[[ 5  4]\n",
      " [ 2 14]]\n"
     ]
    }
   ],
   "source": [
    "from sklearn.metrics import confusion_matrix\n",
    "cm = confusion_matrix(y_test, y_pred)\n",
    "print(cm)"
   ]
  },
  {
   "cell_type": "code",
   "execution_count": 100,
   "metadata": {},
   "outputs": [
    {
     "data": {
      "text/plain": [
       "76.0"
      ]
     },
     "execution_count": 100,
     "metadata": {},
     "output_type": "execute_result"
    }
   ],
   "source": [
    "((cm[0,0]+cm[1,1])/np.sum(cm))*100"
   ]
  },
  {
   "cell_type": "code",
   "execution_count": 105,
   "metadata": {},
   "outputs": [
    {
     "data": {
      "text/html": [
       "<div>\n",
       "<style scoped>\n",
       "    .dataframe tbody tr th:only-of-type {\n",
       "        vertical-align: middle;\n",
       "    }\n",
       "\n",
       "    .dataframe tbody tr th {\n",
       "        vertical-align: top;\n",
       "    }\n",
       "\n",
       "    .dataframe thead th {\n",
       "        text-align: right;\n",
       "    }\n",
       "</style>\n",
       "<table border=\"1\" class=\"dataframe\">\n",
       "  <thead>\n",
       "    <tr style=\"text-align: right;\">\n",
       "      <th></th>\n",
       "      <th>Courses</th>\n",
       "      <th>Grade</th>\n",
       "      <th>SchoolCategory</th>\n",
       "      <th>FeesPer Year</th>\n",
       "      <th>FeeBalance</th>\n",
       "      <th>MotherAlive</th>\n",
       "      <th>FatherAlive</th>\n",
       "      <th>FatherEmployment</th>\n",
       "      <th>MothersEmployment</th>\n",
       "      <th>Guardian</th>\n",
       "      <th>GuardianEmployment</th>\n",
       "      <th>FatherFinancialIncome</th>\n",
       "      <th>MotherFinancialIncome</th>\n",
       "      <th>Amount</th>\n",
       "      <th>Siblings</th>\n",
       "      <th>SiblingsFees</th>\n",
       "    </tr>\n",
       "  </thead>\n",
       "  <tbody>\n",
       "    <tr>\n",
       "      <th>0</th>\n",
       "      <td>2</td>\n",
       "      <td>0</td>\n",
       "      <td>4</td>\n",
       "      <td>134200</td>\n",
       "      <td>0.0</td>\n",
       "      <td>1.0</td>\n",
       "      <td>1.0</td>\n",
       "      <td>5</td>\n",
       "      <td>2</td>\n",
       "      <td>4</td>\n",
       "      <td>2</td>\n",
       "      <td>0.0</td>\n",
       "      <td>152000</td>\n",
       "      <td>25000.0</td>\n",
       "      <td>2</td>\n",
       "      <td>134272.0</td>\n",
       "    </tr>\n",
       "    <tr>\n",
       "      <th>1</th>\n",
       "      <td>0</td>\n",
       "      <td>2</td>\n",
       "      <td>4</td>\n",
       "      <td>90000</td>\n",
       "      <td>0.0</td>\n",
       "      <td>1.0</td>\n",
       "      <td>1.0</td>\n",
       "      <td>4</td>\n",
       "      <td>2</td>\n",
       "      <td>4</td>\n",
       "      <td>2</td>\n",
       "      <td>130000.0</td>\n",
       "      <td>152000</td>\n",
       "      <td>130000.0</td>\n",
       "      <td>0</td>\n",
       "      <td>0.0</td>\n",
       "    </tr>\n",
       "    <tr>\n",
       "      <th>2</th>\n",
       "      <td>0</td>\n",
       "      <td>1</td>\n",
       "      <td>0</td>\n",
       "      <td>53000</td>\n",
       "      <td>0.0</td>\n",
       "      <td>0.0</td>\n",
       "      <td>0.0</td>\n",
       "      <td>0</td>\n",
       "      <td>0</td>\n",
       "      <td>2</td>\n",
       "      <td>1</td>\n",
       "      <td>0.0</td>\n",
       "      <td>0</td>\n",
       "      <td>50000.0</td>\n",
       "      <td>0</td>\n",
       "      <td>0.0</td>\n",
       "    </tr>\n",
       "    <tr>\n",
       "      <th>3</th>\n",
       "      <td>0</td>\n",
       "      <td>4</td>\n",
       "      <td>4</td>\n",
       "      <td>89186</td>\n",
       "      <td>0.0</td>\n",
       "      <td>1.0</td>\n",
       "      <td>1.0</td>\n",
       "      <td>4</td>\n",
       "      <td>5</td>\n",
       "      <td>4</td>\n",
       "      <td>2</td>\n",
       "      <td>130000.0</td>\n",
       "      <td>25000</td>\n",
       "      <td>0.0</td>\n",
       "      <td>0</td>\n",
       "      <td>0.0</td>\n",
       "    </tr>\n",
       "    <tr>\n",
       "      <th>4</th>\n",
       "      <td>2</td>\n",
       "      <td>4</td>\n",
       "      <td>0</td>\n",
       "      <td>58000</td>\n",
       "      <td>166294.0</td>\n",
       "      <td>1.0</td>\n",
       "      <td>0.0</td>\n",
       "      <td>0</td>\n",
       "      <td>2</td>\n",
       "      <td>4</td>\n",
       "      <td>2</td>\n",
       "      <td>0.0</td>\n",
       "      <td>40000</td>\n",
       "      <td>60000.0</td>\n",
       "      <td>0</td>\n",
       "      <td>0.0</td>\n",
       "    </tr>\n",
       "  </tbody>\n",
       "</table>\n",
       "</div>"
      ],
      "text/plain": [
       "   Courses  Grade  SchoolCategory  FeesPer Year  FeeBalance  MotherAlive  \\\n",
       "0        2      0               4        134200         0.0          1.0   \n",
       "1        0      2               4         90000         0.0          1.0   \n",
       "2        0      1               0         53000         0.0          0.0   \n",
       "3        0      4               4         89186         0.0          1.0   \n",
       "4        2      4               0         58000    166294.0          1.0   \n",
       "\n",
       "   FatherAlive  FatherEmployment  MothersEmployment  Guardian  \\\n",
       "0          1.0                 5                  2         4   \n",
       "1          1.0                 4                  2         4   \n",
       "2          0.0                 0                  0         2   \n",
       "3          1.0                 4                  5         4   \n",
       "4          0.0                 0                  2         4   \n",
       "\n",
       "   GuardianEmployment  FatherFinancialIncome  MotherFinancialIncome    Amount  \\\n",
       "0                   2                    0.0                 152000   25000.0   \n",
       "1                   2               130000.0                 152000  130000.0   \n",
       "2                   1                    0.0                      0   50000.0   \n",
       "3                   2               130000.0                  25000       0.0   \n",
       "4                   2                    0.0                  40000   60000.0   \n",
       "\n",
       "  Siblings  SiblingsFees  \n",
       "0        2      134272.0  \n",
       "1        0           0.0  \n",
       "2        0           0.0  \n",
       "3        0           0.0  \n",
       "4        0           0.0  "
      ]
     },
     "execution_count": 105,
     "metadata": {},
     "output_type": "execute_result"
    }
   ],
   "source": [
    "X.head()"
   ]
  },
  {
   "cell_type": "code",
   "execution_count": 106,
   "metadata": {},
   "outputs": [],
   "source": [
    "from numpy import array\n",
    "\n",
    "Xnew = array([[0,4,4,250000,0,4,3,0,1,1,3,3,100000,25000,2,29000,]])"
   ]
  },
  {
   "cell_type": "code",
   "execution_count": 107,
   "metadata": {},
   "outputs": [],
   "source": [
    "ynew = classifier.predict_classes(Xnew)\n"
   ]
  },
  {
   "cell_type": "code",
   "execution_count": 108,
   "metadata": {},
   "outputs": [
    {
     "name": "stdout",
     "output_type": "stream",
     "text": [
      "[[1]]\n"
     ]
    }
   ],
   "source": [
    "print(ynew)"
   ]
  },
  {
   "cell_type": "code",
   "execution_count": 109,
   "metadata": {},
   "outputs": [
    {
     "data": {
      "text/plain": [
       "['model.pkl']"
      ]
     },
     "execution_count": 109,
     "metadata": {},
     "output_type": "execute_result"
    }
   ],
   "source": [
    "from sklearn.externals import joblib\n",
    "\n",
    "joblib.dump(classifier, 'model.pkl')"
   ]
  },
  {
   "cell_type": "code",
   "execution_count": null,
   "metadata": {},
   "outputs": [],
   "source": []
  }
 ],
 "metadata": {
  "kernelspec": {
   "display_name": "Python 3",
   "language": "python",
   "name": "python3"
  },
  "language_info": {
   "codemirror_mode": {
    "name": "ipython",
    "version": 3
   },
   "file_extension": ".py",
   "mimetype": "text/x-python",
   "name": "python",
   "nbconvert_exporter": "python",
   "pygments_lexer": "ipython3",
   "version": "3.7.3"
  }
 },
 "nbformat": 4,
 "nbformat_minor": 2
}
